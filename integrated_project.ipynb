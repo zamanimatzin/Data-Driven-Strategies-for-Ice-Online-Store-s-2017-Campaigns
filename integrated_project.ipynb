{
 "cells": [
  {
   "cell_type": "markdown",
   "id": "5b7eeeb1",
   "metadata": {},
   "source": [
    "# Unveiling Game Success Patterns: Data-Driven Strategies for Ice Online Store's 2017 Campaigns\n",
    "\n",
    "You work for the online store Ice, which sells video games all over the world.\n",
    "User and expert reviews, genres, platforms (e.g. Xbox or PlayStation), and\n",
    "historical data on game sales are available from open sources. You need to\n",
    "identify patterns that determine whether a game succeeds or not. This will\n",
    "allow you to spot potential big winners and plan advertising campaigns.\n",
    "In front of you is data going back to 2016. Let’s imagine that it’s December\n",
    "2016 and you’re planning a campaign for 2017.\n",
    "(The important thing is to get experience working with data. It doesn't really\n",
    "matter whether you're forecasting 2017 sales based on data from 2016 or\n",
    "2027 sales based on data from 2026.)\n",
    "The dataset contains the abbreviation ESRB. The Entertainment Software\n",
    "Rating Board evaluates a game's content and assigns an age rating such as\n",
    "Teen or Mature.\n"
   ]
  },
  {
   "cell_type": "markdown",
   "id": "f07af1c1",
   "metadata": {},
   "source": [
    "**Purpose**\n",
    "To identify patterns that determine whether a game succeeds or not to plan advertising campaigns in year 2017.\n",
    "\n",
    "**Action Plan**\n",
    "1) Preprocessing data : Review and analyse the given data provided, then, fix the data and enrich it for later use in project\n",
    "2) Analyse data : Analyse the data\n",
    "3) Hypotheses : Create the hypothesis for the project \n",
    "4) Conclusion : Create overall conclusion "
   ]
  },
  {
   "cell_type": "markdown",
   "id": "7ec89bed",
   "metadata": {},
   "source": [
    "<h1>Table of Contents<span class=\"tocSkip\"></span></h1>\n",
    "<div class=\"toc\"><ul class=\"toc-item\"><li><span><a href=\"#Project-description\" data-toc-modified-id=\"Project-description-1\"><span class=\"toc-item-num\">1&nbsp;&nbsp;</span>Project description</a></span></li><li><span><a href=\"#Initialization\" data-toc-modified-id=\"Initialization-2\"><span class=\"toc-item-num\">2&nbsp;&nbsp;</span>Initialization</a></span></li><li><span><a href=\"#Load-Data\" data-toc-modified-id=\"Load-Data-3\"><span class=\"toc-item-num\">3&nbsp;&nbsp;</span>Load Data</a></span></li><li><span><a href=\"#Data-Preprocessing\" data-toc-modified-id=\"Data-Preprocessing-4\"><span class=\"toc-item-num\">4&nbsp;&nbsp;</span>Data Preprocessing</a></span><ul class=\"toc-item\"><li><span><a href=\"#Fix-the-columns\" data-toc-modified-id=\"Fix-the-columns-4.1\"><span class=\"toc-item-num\">4.1&nbsp;&nbsp;</span>Fix the columns</a></span></li><li><span><a href=\"#Treat-the-missing-values\" data-toc-modified-id=\"Treat-the-missing-values-4.2\"><span class=\"toc-item-num\">4.2&nbsp;&nbsp;</span>Treat the missing values</a></span></li><li><span><a href=\"#Fix-data-type\" data-toc-modified-id=\"Fix-data-type-4.3\"><span class=\"toc-item-num\">4.3&nbsp;&nbsp;</span>Fix data type</a></span></li><li><span><a href=\"#Enrich-data\" data-toc-modified-id=\"Enrich-data-4.4\"><span class=\"toc-item-num\">4.4&nbsp;&nbsp;</span>Enrich data</a></span></li></ul></li><li><span><a href=\"#Analyze-data\" data-toc-modified-id=\"Analyze-data-5\"><span class=\"toc-item-num\">5&nbsp;&nbsp;</span>Analyze data</a></span><ul class=\"toc-item\"><li><span><a href=\"#Year-of-release\" data-toc-modified-id=\"Year-of-release-5.1\"><span class=\"toc-item-num\">5.1&nbsp;&nbsp;</span>Year of release</a></span></li><li><span><a href=\"#Total-Sales-vs-Platform\" data-toc-modified-id=\"Total-Sales-vs-Platform-5.2\"><span class=\"toc-item-num\">5.2&nbsp;&nbsp;</span>Total Sales vs Platform</a></span></li><li><span><a href=\"#Forecasting-platform\" data-toc-modified-id=\"Forecasting-platform-5.3\"><span class=\"toc-item-num\">5.3&nbsp;&nbsp;</span>Forecasting platform</a></span><ul class=\"toc-item\"><li><span><a href=\"#Lineplot\" data-toc-modified-id=\"Lineplot-5.3.1\"><span class=\"toc-item-num\">5.3.1&nbsp;&nbsp;</span>Lineplot</a></span></li><li><span><a href=\"#Boxplot\" data-toc-modified-id=\"Boxplot-5.3.2\"><span class=\"toc-item-num\">5.3.2&nbsp;&nbsp;</span>Boxplot</a></span></li></ul></li><li><span><a href=\"#Forecasting-critic-and-users-score\" data-toc-modified-id=\"Forecasting-critic-and-users-score-5.4\"><span class=\"toc-item-num\">5.4&nbsp;&nbsp;</span>Forecasting critic and users score</a></span></li><li><span><a href=\"#Forecasting-genres\" data-toc-modified-id=\"Forecasting-genres-5.5\"><span class=\"toc-item-num\">5.5&nbsp;&nbsp;</span>Forecasting genres</a></span></li></ul></li><li><span><a href=\"#Create-a-user-profile-for-each-region\" data-toc-modified-id=\"Create-a-user-profile-for-each-region-6\"><span class=\"toc-item-num\">6&nbsp;&nbsp;</span>Create a user profile for each region</a></span><ul class=\"toc-item\"><li><span><a href=\"#NA-region\" data-toc-modified-id=\"NA-region-6.1\"><span class=\"toc-item-num\">6.1&nbsp;&nbsp;</span>NA region</a></span><ul class=\"toc-item\"><li><span><a href=\"#Top-five-platforms-in-NA-region\" data-toc-modified-id=\"Top-five-platforms-in-NA-region-6.1.1\"><span class=\"toc-item-num\">6.1.1&nbsp;&nbsp;</span>Top five platforms in NA region</a></span></li><li><span><a href=\"#Top-five-genres-in-NA-region\" data-toc-modified-id=\"Top-five-genres-in-NA-region-6.1.2\"><span class=\"toc-item-num\">6.1.2&nbsp;&nbsp;</span>Top five genres in NA region</a></span></li><li><span><a href=\"#ESRB-ratings\" data-toc-modified-id=\"ESRB-ratings-6.1.3\"><span class=\"toc-item-num\">6.1.3&nbsp;&nbsp;</span>ESRB ratings</a></span></li></ul></li><li><span><a href=\"#EU-region\" data-toc-modified-id=\"EU-region-6.2\"><span class=\"toc-item-num\">6.2&nbsp;&nbsp;</span>EU region</a></span><ul class=\"toc-item\"><li><span><a href=\"#Top-five-platforms-in-EU-region\" data-toc-modified-id=\"Top-five-platforms-in-EU-region-6.2.1\"><span class=\"toc-item-num\">6.2.1&nbsp;&nbsp;</span>Top five platforms in EU region</a></span></li><li><span><a href=\"#Top-five-genres-in-EU-region\" data-toc-modified-id=\"Top-five-genres-in-EU-region-6.2.2\"><span class=\"toc-item-num\">6.2.2&nbsp;&nbsp;</span>Top five genres in EU region</a></span></li><li><span><a href=\"#ESRB-ratings\" data-toc-modified-id=\"ESRB-ratings-6.2.3\"><span class=\"toc-item-num\">6.2.3&nbsp;&nbsp;</span>ESRB ratings</a></span></li></ul></li><li><span><a href=\"#JP-region\" data-toc-modified-id=\"JP-region-6.3\"><span class=\"toc-item-num\">6.3&nbsp;&nbsp;</span>JP region</a></span><ul class=\"toc-item\"><li><span><a href=\"#Top-five-platforms-in-JP-region\" data-toc-modified-id=\"Top-five-platforms-in-JP-region-6.3.1\"><span class=\"toc-item-num\">6.3.1&nbsp;&nbsp;</span>Top five platforms in JP region</a></span></li><li><span><a href=\"#Top-five-genres\" data-toc-modified-id=\"Top-five-genres-6.3.2\"><span class=\"toc-item-num\">6.3.2&nbsp;&nbsp;</span>Top five genres</a></span></li><li><span><a href=\"#ESRB-ratings\" data-toc-modified-id=\"ESRB-ratings-6.3.3\"><span class=\"toc-item-num\">6.3.3&nbsp;&nbsp;</span>ESRB ratings</a></span></li></ul></li></ul></li><li><span><a href=\"#Test-statistical-hypotheses\" data-toc-modified-id=\"Test-statistical-hypotheses-7\"><span class=\"toc-item-num\">7&nbsp;&nbsp;</span>Test statistical hypotheses</a></span></li><li><span><a href=\"#Conclusions\" data-toc-modified-id=\"Conclusions-8\"><span class=\"toc-item-num\">8&nbsp;&nbsp;</span>Conclusions</a></span></li></ul></div>"
   ]
  },
  {
   "cell_type": "markdown",
   "id": "71e41753",
   "metadata": {},
   "source": [
    "# Initialization"
   ]
  },
  {
   "cell_type": "markdown",
   "id": "44003045",
   "metadata": {},
   "source": [
    "Loading all the libraries that used for the project"
   ]
  },
  {
   "cell_type": "code",
   "execution_count": 1,
   "id": "cca5130c",
   "metadata": {
    "ExecuteTime": {
     "end_time": "2023-08-14T04:26:51.769194Z",
     "start_time": "2023-08-14T04:26:50.471682Z"
    }
   },
   "outputs": [],
   "source": [
    "import pandas as pd\n",
    "import matplotlib.pyplot as plt\n",
    "import numpy as np\n",
    "import seaborn as sns\n",
    "from math import factorial\n",
    "from scipy import stats as st\n",
    "import math\n",
    "import warnings\n",
    "warnings.filterwarnings(\"ignore\")\n",
    "from sklearn.impute import KNNImputer"
   ]
  },
  {
   "cell_type": "markdown",
   "id": "c7297b1e",
   "metadata": {},
   "source": [
    "# Load Data"
   ]
  },
  {
   "cell_type": "markdown",
   "id": "ad0707ef",
   "metadata": {},
   "source": [
    "Load the data files into DataFrames variables "
   ]
  },
  {
   "cell_type": "code",
   "execution_count": 2,
   "id": "a58235e1",
   "metadata": {
    "ExecuteTime": {
     "end_time": "2023-08-14T04:26:51.800697Z",
     "start_time": "2023-08-14T04:26:51.771205Z"
    },
    "scrolled": true
   },
   "outputs": [],
   "source": [
    "games = pd.read_csv('datasets/games.csv')"
   ]
  },
  {
   "cell_type": "markdown",
   "id": "100dea36",
   "metadata": {},
   "source": [
    "# Data Preprocessing"
   ]
  },
  {
   "cell_type": "markdown",
   "id": "cc0ea37f",
   "metadata": {},
   "source": [
    "Lest see and understand the data. Then, corrections need to be do if necessary."
   ]
  },
  {
   "cell_type": "markdown",
   "id": "bfc3b27b",
   "metadata": {},
   "source": [
    "Print the general information and sample about the games dataFrame"
   ]
  },
  {
   "cell_type": "code",
   "execution_count": 3,
   "id": "cd1d2039",
   "metadata": {
    "ExecuteTime": {
     "end_time": "2023-08-14T04:26:51.816626Z",
     "start_time": "2023-08-14T04:26:51.802199Z"
    }
   },
   "outputs": [
    {
     "name": "stdout",
     "output_type": "stream",
     "text": [
      "<class 'pandas.core.frame.DataFrame'>\n",
      "RangeIndex: 16715 entries, 0 to 16714\n",
      "Data columns (total 11 columns):\n",
      " #   Column           Non-Null Count  Dtype  \n",
      "---  ------           --------------  -----  \n",
      " 0   Name             16713 non-null  object \n",
      " 1   Platform         16715 non-null  object \n",
      " 2   Year_of_Release  16446 non-null  float64\n",
      " 3   Genre            16713 non-null  object \n",
      " 4   NA_sales         16715 non-null  float64\n",
      " 5   EU_sales         16715 non-null  float64\n",
      " 6   JP_sales         16715 non-null  float64\n",
      " 7   Other_sales      16715 non-null  float64\n",
      " 8   Critic_Score     8137 non-null   float64\n",
      " 9   User_Score       10014 non-null  object \n",
      " 10  Rating           9949 non-null   object \n",
      "dtypes: float64(6), object(5)\n",
      "memory usage: 1.4+ MB\n"
     ]
    }
   ],
   "source": [
    "games.info()"
   ]
  },
  {
   "cell_type": "code",
   "execution_count": 4,
   "id": "2487f9d9",
   "metadata": {
    "ExecuteTime": {
     "end_time": "2023-08-14T04:26:51.832663Z",
     "start_time": "2023-08-14T04:26:51.818626Z"
    },
    "scrolled": false
   },
   "outputs": [
    {
     "data": {
      "text/html": [
       "<div>\n",
       "<style scoped>\n",
       "    .dataframe tbody tr th:only-of-type {\n",
       "        vertical-align: middle;\n",
       "    }\n",
       "\n",
       "    .dataframe tbody tr th {\n",
       "        vertical-align: top;\n",
       "    }\n",
       "\n",
       "    .dataframe thead th {\n",
       "        text-align: right;\n",
       "    }\n",
       "</style>\n",
       "<table border=\"1\" class=\"dataframe\">\n",
       "  <thead>\n",
       "    <tr style=\"text-align: right;\">\n",
       "      <th></th>\n",
       "      <th>Name</th>\n",
       "      <th>Platform</th>\n",
       "      <th>Year_of_Release</th>\n",
       "      <th>Genre</th>\n",
       "      <th>NA_sales</th>\n",
       "      <th>EU_sales</th>\n",
       "      <th>JP_sales</th>\n",
       "      <th>Other_sales</th>\n",
       "      <th>Critic_Score</th>\n",
       "      <th>User_Score</th>\n",
       "      <th>Rating</th>\n",
       "    </tr>\n",
       "  </thead>\n",
       "  <tbody>\n",
       "    <tr>\n",
       "      <th>0</th>\n",
       "      <td>Wii Sports</td>\n",
       "      <td>Wii</td>\n",
       "      <td>2006.0</td>\n",
       "      <td>Sports</td>\n",
       "      <td>41.36</td>\n",
       "      <td>28.96</td>\n",
       "      <td>3.77</td>\n",
       "      <td>8.45</td>\n",
       "      <td>76.0</td>\n",
       "      <td>8</td>\n",
       "      <td>E</td>\n",
       "    </tr>\n",
       "    <tr>\n",
       "      <th>1</th>\n",
       "      <td>Super Mario Bros.</td>\n",
       "      <td>NES</td>\n",
       "      <td>1985.0</td>\n",
       "      <td>Platform</td>\n",
       "      <td>29.08</td>\n",
       "      <td>3.58</td>\n",
       "      <td>6.81</td>\n",
       "      <td>0.77</td>\n",
       "      <td>NaN</td>\n",
       "      <td>NaN</td>\n",
       "      <td>NaN</td>\n",
       "    </tr>\n",
       "    <tr>\n",
       "      <th>2</th>\n",
       "      <td>Mario Kart Wii</td>\n",
       "      <td>Wii</td>\n",
       "      <td>2008.0</td>\n",
       "      <td>Racing</td>\n",
       "      <td>15.68</td>\n",
       "      <td>12.76</td>\n",
       "      <td>3.79</td>\n",
       "      <td>3.29</td>\n",
       "      <td>82.0</td>\n",
       "      <td>8.3</td>\n",
       "      <td>E</td>\n",
       "    </tr>\n",
       "    <tr>\n",
       "      <th>3</th>\n",
       "      <td>Wii Sports Resort</td>\n",
       "      <td>Wii</td>\n",
       "      <td>2009.0</td>\n",
       "      <td>Sports</td>\n",
       "      <td>15.61</td>\n",
       "      <td>10.93</td>\n",
       "      <td>3.28</td>\n",
       "      <td>2.95</td>\n",
       "      <td>80.0</td>\n",
       "      <td>8</td>\n",
       "      <td>E</td>\n",
       "    </tr>\n",
       "    <tr>\n",
       "      <th>4</th>\n",
       "      <td>Pokemon Red/Pokemon Blue</td>\n",
       "      <td>GB</td>\n",
       "      <td>1996.0</td>\n",
       "      <td>Role-Playing</td>\n",
       "      <td>11.27</td>\n",
       "      <td>8.89</td>\n",
       "      <td>10.22</td>\n",
       "      <td>1.00</td>\n",
       "      <td>NaN</td>\n",
       "      <td>NaN</td>\n",
       "      <td>NaN</td>\n",
       "    </tr>\n",
       "    <tr>\n",
       "      <th>5</th>\n",
       "      <td>Tetris</td>\n",
       "      <td>GB</td>\n",
       "      <td>1989.0</td>\n",
       "      <td>Puzzle</td>\n",
       "      <td>23.20</td>\n",
       "      <td>2.26</td>\n",
       "      <td>4.22</td>\n",
       "      <td>0.58</td>\n",
       "      <td>NaN</td>\n",
       "      <td>NaN</td>\n",
       "      <td>NaN</td>\n",
       "    </tr>\n",
       "    <tr>\n",
       "      <th>6</th>\n",
       "      <td>New Super Mario Bros.</td>\n",
       "      <td>DS</td>\n",
       "      <td>2006.0</td>\n",
       "      <td>Platform</td>\n",
       "      <td>11.28</td>\n",
       "      <td>9.14</td>\n",
       "      <td>6.50</td>\n",
       "      <td>2.88</td>\n",
       "      <td>89.0</td>\n",
       "      <td>8.5</td>\n",
       "      <td>E</td>\n",
       "    </tr>\n",
       "    <tr>\n",
       "      <th>7</th>\n",
       "      <td>Wii Play</td>\n",
       "      <td>Wii</td>\n",
       "      <td>2006.0</td>\n",
       "      <td>Misc</td>\n",
       "      <td>13.96</td>\n",
       "      <td>9.18</td>\n",
       "      <td>2.93</td>\n",
       "      <td>2.84</td>\n",
       "      <td>58.0</td>\n",
       "      <td>6.6</td>\n",
       "      <td>E</td>\n",
       "    </tr>\n",
       "    <tr>\n",
       "      <th>8</th>\n",
       "      <td>New Super Mario Bros. Wii</td>\n",
       "      <td>Wii</td>\n",
       "      <td>2009.0</td>\n",
       "      <td>Platform</td>\n",
       "      <td>14.44</td>\n",
       "      <td>6.94</td>\n",
       "      <td>4.70</td>\n",
       "      <td>2.24</td>\n",
       "      <td>87.0</td>\n",
       "      <td>8.4</td>\n",
       "      <td>E</td>\n",
       "    </tr>\n",
       "    <tr>\n",
       "      <th>9</th>\n",
       "      <td>Duck Hunt</td>\n",
       "      <td>NES</td>\n",
       "      <td>1984.0</td>\n",
       "      <td>Shooter</td>\n",
       "      <td>26.93</td>\n",
       "      <td>0.63</td>\n",
       "      <td>0.28</td>\n",
       "      <td>0.47</td>\n",
       "      <td>NaN</td>\n",
       "      <td>NaN</td>\n",
       "      <td>NaN</td>\n",
       "    </tr>\n",
       "  </tbody>\n",
       "</table>\n",
       "</div>"
      ],
      "text/plain": [
       "                        Name Platform  Year_of_Release         Genre  \\\n",
       "0                 Wii Sports      Wii           2006.0        Sports   \n",
       "1          Super Mario Bros.      NES           1985.0      Platform   \n",
       "2             Mario Kart Wii      Wii           2008.0        Racing   \n",
       "3          Wii Sports Resort      Wii           2009.0        Sports   \n",
       "4   Pokemon Red/Pokemon Blue       GB           1996.0  Role-Playing   \n",
       "5                     Tetris       GB           1989.0        Puzzle   \n",
       "6      New Super Mario Bros.       DS           2006.0      Platform   \n",
       "7                   Wii Play      Wii           2006.0          Misc   \n",
       "8  New Super Mario Bros. Wii      Wii           2009.0      Platform   \n",
       "9                  Duck Hunt      NES           1984.0       Shooter   \n",
       "\n",
       "   NA_sales  EU_sales  JP_sales  Other_sales  Critic_Score User_Score Rating  \n",
       "0     41.36     28.96      3.77         8.45          76.0          8      E  \n",
       "1     29.08      3.58      6.81         0.77           NaN        NaN    NaN  \n",
       "2     15.68     12.76      3.79         3.29          82.0        8.3      E  \n",
       "3     15.61     10.93      3.28         2.95          80.0          8      E  \n",
       "4     11.27      8.89     10.22         1.00           NaN        NaN    NaN  \n",
       "5     23.20      2.26      4.22         0.58           NaN        NaN    NaN  \n",
       "6     11.28      9.14      6.50         2.88          89.0        8.5      E  \n",
       "7     13.96      9.18      2.93         2.84          58.0        6.6      E  \n",
       "8     14.44      6.94      4.70         2.24          87.0        8.4      E  \n",
       "9     26.93      0.63      0.28         0.47           NaN        NaN    NaN  "
      ]
     },
     "execution_count": 4,
     "metadata": {},
     "output_type": "execute_result"
    }
   ],
   "source": [
    "games.head(10)"
   ]
  },
  {
   "cell_type": "code",
   "execution_count": 5,
   "id": "3911f732",
   "metadata": {
    "ExecuteTime": {
     "end_time": "2023-08-14T04:26:51.864219Z",
     "start_time": "2023-08-14T04:26:51.833688Z"
    }
   },
   "outputs": [
    {
     "data": {
      "text/html": [
       "<div>\n",
       "<style scoped>\n",
       "    .dataframe tbody tr th:only-of-type {\n",
       "        vertical-align: middle;\n",
       "    }\n",
       "\n",
       "    .dataframe tbody tr th {\n",
       "        vertical-align: top;\n",
       "    }\n",
       "\n",
       "    .dataframe thead th {\n",
       "        text-align: right;\n",
       "    }\n",
       "</style>\n",
       "<table border=\"1\" class=\"dataframe\">\n",
       "  <thead>\n",
       "    <tr style=\"text-align: right;\">\n",
       "      <th></th>\n",
       "      <th>Year_of_Release</th>\n",
       "      <th>NA_sales</th>\n",
       "      <th>EU_sales</th>\n",
       "      <th>JP_sales</th>\n",
       "      <th>Other_sales</th>\n",
       "      <th>Critic_Score</th>\n",
       "    </tr>\n",
       "  </thead>\n",
       "  <tbody>\n",
       "    <tr>\n",
       "      <th>count</th>\n",
       "      <td>16446.000000</td>\n",
       "      <td>16715.000000</td>\n",
       "      <td>16715.000000</td>\n",
       "      <td>16715.000000</td>\n",
       "      <td>16715.000000</td>\n",
       "      <td>8137.000000</td>\n",
       "    </tr>\n",
       "    <tr>\n",
       "      <th>mean</th>\n",
       "      <td>2006.484616</td>\n",
       "      <td>0.263377</td>\n",
       "      <td>0.145060</td>\n",
       "      <td>0.077617</td>\n",
       "      <td>0.047342</td>\n",
       "      <td>68.967679</td>\n",
       "    </tr>\n",
       "    <tr>\n",
       "      <th>std</th>\n",
       "      <td>5.877050</td>\n",
       "      <td>0.813604</td>\n",
       "      <td>0.503339</td>\n",
       "      <td>0.308853</td>\n",
       "      <td>0.186731</td>\n",
       "      <td>13.938165</td>\n",
       "    </tr>\n",
       "    <tr>\n",
       "      <th>min</th>\n",
       "      <td>1980.000000</td>\n",
       "      <td>0.000000</td>\n",
       "      <td>0.000000</td>\n",
       "      <td>0.000000</td>\n",
       "      <td>0.000000</td>\n",
       "      <td>13.000000</td>\n",
       "    </tr>\n",
       "    <tr>\n",
       "      <th>25%</th>\n",
       "      <td>2003.000000</td>\n",
       "      <td>0.000000</td>\n",
       "      <td>0.000000</td>\n",
       "      <td>0.000000</td>\n",
       "      <td>0.000000</td>\n",
       "      <td>60.000000</td>\n",
       "    </tr>\n",
       "    <tr>\n",
       "      <th>50%</th>\n",
       "      <td>2007.000000</td>\n",
       "      <td>0.080000</td>\n",
       "      <td>0.020000</td>\n",
       "      <td>0.000000</td>\n",
       "      <td>0.010000</td>\n",
       "      <td>71.000000</td>\n",
       "    </tr>\n",
       "    <tr>\n",
       "      <th>75%</th>\n",
       "      <td>2010.000000</td>\n",
       "      <td>0.240000</td>\n",
       "      <td>0.110000</td>\n",
       "      <td>0.040000</td>\n",
       "      <td>0.030000</td>\n",
       "      <td>79.000000</td>\n",
       "    </tr>\n",
       "    <tr>\n",
       "      <th>max</th>\n",
       "      <td>2016.000000</td>\n",
       "      <td>41.360000</td>\n",
       "      <td>28.960000</td>\n",
       "      <td>10.220000</td>\n",
       "      <td>10.570000</td>\n",
       "      <td>98.000000</td>\n",
       "    </tr>\n",
       "  </tbody>\n",
       "</table>\n",
       "</div>"
      ],
      "text/plain": [
       "       Year_of_Release      NA_sales      EU_sales      JP_sales  \\\n",
       "count     16446.000000  16715.000000  16715.000000  16715.000000   \n",
       "mean       2006.484616      0.263377      0.145060      0.077617   \n",
       "std           5.877050      0.813604      0.503339      0.308853   \n",
       "min        1980.000000      0.000000      0.000000      0.000000   \n",
       "25%        2003.000000      0.000000      0.000000      0.000000   \n",
       "50%        2007.000000      0.080000      0.020000      0.000000   \n",
       "75%        2010.000000      0.240000      0.110000      0.040000   \n",
       "max        2016.000000     41.360000     28.960000     10.220000   \n",
       "\n",
       "        Other_sales  Critic_Score  \n",
       "count  16715.000000   8137.000000  \n",
       "mean       0.047342     68.967679  \n",
       "std        0.186731     13.938165  \n",
       "min        0.000000     13.000000  \n",
       "25%        0.000000     60.000000  \n",
       "50%        0.010000     71.000000  \n",
       "75%        0.030000     79.000000  \n",
       "max       10.570000     98.000000  "
      ]
     },
     "execution_count": 5,
     "metadata": {},
     "output_type": "execute_result"
    }
   ],
   "source": [
    "games.describe()"
   ]
  },
  {
   "cell_type": "code",
   "execution_count": 6,
   "id": "d57dc461",
   "metadata": {
    "ExecuteTime": {
     "end_time": "2023-08-14T04:26:51.880231Z",
     "start_time": "2023-08-14T04:26:51.865220Z"
    }
   },
   "outputs": [
    {
     "data": {
      "text/plain": [
       "0"
      ]
     },
     "execution_count": 6,
     "metadata": {},
     "output_type": "execute_result"
    }
   ],
   "source": [
    "games.duplicated().sum()"
   ]
  },
  {
   "cell_type": "code",
   "execution_count": 7,
   "id": "60ba5904",
   "metadata": {
    "ExecuteTime": {
     "end_time": "2023-08-14T04:26:51.895826Z",
     "start_time": "2023-08-14T04:26:51.881285Z"
    },
    "scrolled": true
   },
   "outputs": [
    {
     "data": {
      "text/plain": [
       "Name                  2\n",
       "Platform              0\n",
       "Year_of_Release     269\n",
       "Genre                 2\n",
       "NA_sales              0\n",
       "EU_sales              0\n",
       "JP_sales              0\n",
       "Other_sales           0\n",
       "Critic_Score       8578\n",
       "User_Score         6701\n",
       "Rating             6766\n",
       "dtype: int64"
      ]
     },
     "execution_count": 7,
     "metadata": {},
     "output_type": "execute_result"
    }
   ],
   "source": [
    "games.isna().sum()"
   ]
  },
  {
   "cell_type": "markdown",
   "id": "7eb94fd5",
   "metadata": {},
   "source": [
    "**Observation**\n",
    "- There are 16715 rows × 11 columns in the data\n",
    "- Year of release games is from 1980 to 2016\n",
    "- For sales in NA,EU,JP, and others for 25 to 75 percentile is below 0.5 millions usd show that most of the games are unpopular and undemanded. \n",
    "- The Critic_Score average is 69 per 100 which show the games are most of the games is quite good generally. \n",
    "\n",
    "\n",
    "- Fix: \n",
    "    - The columns need to be in lowercase\n",
    "    - User_Score type should in float and not string\n",
    "    - Missing value (columns)\n",
    "        - Name \n",
    "        - Year_of_Release\n",
    "        - Genre \n",
    "        - Critic_Score\n",
    "        - User_Score\n",
    "        - Rating"
   ]
  },
  {
   "cell_type": "markdown",
   "id": "ec0cc360",
   "metadata": {},
   "source": [
    "## Fix the columns"
   ]
  },
  {
   "cell_type": "markdown",
   "id": "bacc948f",
   "metadata": {},
   "source": [
    "Replace the column names and make them to lowercase to make easy to read and lesser the typo mistakes later."
   ]
  },
  {
   "cell_type": "code",
   "execution_count": 8,
   "id": "486a92a2",
   "metadata": {
    "ExecuteTime": {
     "end_time": "2023-08-14T04:26:51.911854Z",
     "start_time": "2023-08-14T04:26:51.896826Z"
    }
   },
   "outputs": [
    {
     "data": {
      "text/plain": [
       "Index(['name', 'platform', 'year_of_release', 'genre', 'na_sales', 'eu_sales',\n",
       "       'jp_sales', 'other_sales', 'critic_score', 'user_score', 'rating'],\n",
       "      dtype='object')"
      ]
     },
     "execution_count": 8,
     "metadata": {},
     "output_type": "execute_result"
    }
   ],
   "source": [
    "new_columns =['name','platform','year_of_release','genre','na_sales','eu_sales','jp_sales','other_sales','critic_score','user_score','rating']\n",
    "\n",
    "games.set_axis(new_columns, axis=1,inplace=True)\n",
    "games.columns"
   ]
  },
  {
   "cell_type": "markdown",
   "id": "e402a5bf",
   "metadata": {},
   "source": [
    "## Treat the missing values"
   ]
  },
  {
   "cell_type": "markdown",
   "id": "4bcd0d1a",
   "metadata": {},
   "source": [
    "Now, Lets treat the missing value in the games dataframe.\n",
    "\n",
    "Mising values list columns:        \n",
    "- Name \n",
    "- Year_of_Release\n",
    "- Genre \n",
    "- Critic_Score\n",
    "- User_Score\n",
    "- Rating"
   ]
  },
  {
   "cell_type": "code",
   "execution_count": 9,
   "id": "077b9e2c",
   "metadata": {
    "ExecuteTime": {
     "end_time": "2023-08-14T04:26:51.927386Z",
     "start_time": "2023-08-14T04:26:51.912853Z"
    },
    "scrolled": true
   },
   "outputs": [
    {
     "data": {
      "text/plain": [
       "critic_score       51.319174\n",
       "rating             40.478612\n",
       "user_score         40.089740\n",
       "year_of_release     1.609333\n",
       "name                0.011965\n",
       "genre               0.011965\n",
       "platform            0.000000\n",
       "na_sales            0.000000\n",
       "eu_sales            0.000000\n",
       "jp_sales            0.000000\n",
       "other_sales         0.000000\n",
       "dtype: float64"
      ]
     },
     "execution_count": 9,
     "metadata": {},
     "output_type": "execute_result"
    }
   ],
   "source": [
    "# Percentage missing value with the total rows in dataframe\n",
    "(games.isna().sum()/games.shape[0]*100).sort_values(ascending=False)"
   ]
  },
  {
   "cell_type": "markdown",
   "id": "af2f6c4f",
   "metadata": {},
   "source": [
    "First, lets check the missing values in name and genre due to the similarity in percentage and if the name and genre missing value in same row."
   ]
  },
  {
   "cell_type": "code",
   "execution_count": 10,
   "id": "89c36997",
   "metadata": {
    "ExecuteTime": {
     "end_time": "2023-08-14T04:26:51.942911Z",
     "start_time": "2023-08-14T04:26:51.929385Z"
    }
   },
   "outputs": [
    {
     "data": {
      "text/html": [
       "<div>\n",
       "<style scoped>\n",
       "    .dataframe tbody tr th:only-of-type {\n",
       "        vertical-align: middle;\n",
       "    }\n",
       "\n",
       "    .dataframe tbody tr th {\n",
       "        vertical-align: top;\n",
       "    }\n",
       "\n",
       "    .dataframe thead th {\n",
       "        text-align: right;\n",
       "    }\n",
       "</style>\n",
       "<table border=\"1\" class=\"dataframe\">\n",
       "  <thead>\n",
       "    <tr style=\"text-align: right;\">\n",
       "      <th></th>\n",
       "      <th>name</th>\n",
       "      <th>platform</th>\n",
       "      <th>year_of_release</th>\n",
       "      <th>genre</th>\n",
       "      <th>na_sales</th>\n",
       "      <th>eu_sales</th>\n",
       "      <th>jp_sales</th>\n",
       "      <th>other_sales</th>\n",
       "      <th>critic_score</th>\n",
       "      <th>user_score</th>\n",
       "      <th>rating</th>\n",
       "    </tr>\n",
       "  </thead>\n",
       "  <tbody>\n",
       "    <tr>\n",
       "      <th>659</th>\n",
       "      <td>NaN</td>\n",
       "      <td>GEN</td>\n",
       "      <td>1993.0</td>\n",
       "      <td>NaN</td>\n",
       "      <td>1.78</td>\n",
       "      <td>0.53</td>\n",
       "      <td>0.00</td>\n",
       "      <td>0.08</td>\n",
       "      <td>NaN</td>\n",
       "      <td>NaN</td>\n",
       "      <td>NaN</td>\n",
       "    </tr>\n",
       "    <tr>\n",
       "      <th>14244</th>\n",
       "      <td>NaN</td>\n",
       "      <td>GEN</td>\n",
       "      <td>1993.0</td>\n",
       "      <td>NaN</td>\n",
       "      <td>0.00</td>\n",
       "      <td>0.00</td>\n",
       "      <td>0.03</td>\n",
       "      <td>0.00</td>\n",
       "      <td>NaN</td>\n",
       "      <td>NaN</td>\n",
       "      <td>NaN</td>\n",
       "    </tr>\n",
       "  </tbody>\n",
       "</table>\n",
       "</div>"
      ],
      "text/plain": [
       "      name platform  year_of_release genre  na_sales  eu_sales  jp_sales  \\\n",
       "659    NaN      GEN           1993.0   NaN      1.78      0.53      0.00   \n",
       "14244  NaN      GEN           1993.0   NaN      0.00      0.00      0.03   \n",
       "\n",
       "       other_sales  critic_score user_score rating  \n",
       "659           0.08           NaN        NaN    NaN  \n",
       "14244         0.00           NaN        NaN    NaN  "
      ]
     },
     "execution_count": 10,
     "metadata": {},
     "output_type": "execute_result"
    }
   ],
   "source": [
    "games.loc[games['name'].isna()]"
   ]
  },
  {
   "cell_type": "code",
   "execution_count": 11,
   "id": "8e0140bf",
   "metadata": {
    "ExecuteTime": {
     "end_time": "2023-08-14T04:26:51.958221Z",
     "start_time": "2023-08-14T04:26:51.942911Z"
    }
   },
   "outputs": [
    {
     "data": {
      "text/html": [
       "<div>\n",
       "<style scoped>\n",
       "    .dataframe tbody tr th:only-of-type {\n",
       "        vertical-align: middle;\n",
       "    }\n",
       "\n",
       "    .dataframe tbody tr th {\n",
       "        vertical-align: top;\n",
       "    }\n",
       "\n",
       "    .dataframe thead th {\n",
       "        text-align: right;\n",
       "    }\n",
       "</style>\n",
       "<table border=\"1\" class=\"dataframe\">\n",
       "  <thead>\n",
       "    <tr style=\"text-align: right;\">\n",
       "      <th></th>\n",
       "      <th>name</th>\n",
       "      <th>platform</th>\n",
       "      <th>year_of_release</th>\n",
       "      <th>genre</th>\n",
       "      <th>na_sales</th>\n",
       "      <th>eu_sales</th>\n",
       "      <th>jp_sales</th>\n",
       "      <th>other_sales</th>\n",
       "      <th>critic_score</th>\n",
       "      <th>user_score</th>\n",
       "      <th>rating</th>\n",
       "    </tr>\n",
       "  </thead>\n",
       "  <tbody>\n",
       "    <tr>\n",
       "      <th>659</th>\n",
       "      <td>NaN</td>\n",
       "      <td>GEN</td>\n",
       "      <td>1993.0</td>\n",
       "      <td>NaN</td>\n",
       "      <td>1.78</td>\n",
       "      <td>0.53</td>\n",
       "      <td>0.00</td>\n",
       "      <td>0.08</td>\n",
       "      <td>NaN</td>\n",
       "      <td>NaN</td>\n",
       "      <td>NaN</td>\n",
       "    </tr>\n",
       "    <tr>\n",
       "      <th>14244</th>\n",
       "      <td>NaN</td>\n",
       "      <td>GEN</td>\n",
       "      <td>1993.0</td>\n",
       "      <td>NaN</td>\n",
       "      <td>0.00</td>\n",
       "      <td>0.00</td>\n",
       "      <td>0.03</td>\n",
       "      <td>0.00</td>\n",
       "      <td>NaN</td>\n",
       "      <td>NaN</td>\n",
       "      <td>NaN</td>\n",
       "    </tr>\n",
       "  </tbody>\n",
       "</table>\n",
       "</div>"
      ],
      "text/plain": [
       "      name platform  year_of_release genre  na_sales  eu_sales  jp_sales  \\\n",
       "659    NaN      GEN           1993.0   NaN      1.78      0.53      0.00   \n",
       "14244  NaN      GEN           1993.0   NaN      0.00      0.00      0.03   \n",
       "\n",
       "       other_sales  critic_score user_score rating  \n",
       "659           0.08           NaN        NaN    NaN  \n",
       "14244         0.00           NaN        NaN    NaN  "
      ]
     },
     "execution_count": 11,
     "metadata": {},
     "output_type": "execute_result"
    }
   ],
   "source": [
    "games.loc[games['genre'].isna()]"
   ]
  },
  {
   "cell_type": "markdown",
   "id": "03853cf8",
   "metadata": {},
   "source": [
    "Above show that name and genre missing values in the same row. Because its only 2 row from the 16715 row in total and does not given a big imparct with analysis, this row will be drop.  "
   ]
  },
  {
   "cell_type": "code",
   "execution_count": 12,
   "id": "c063b81f",
   "metadata": {
    "ExecuteTime": {
     "end_time": "2023-08-14T04:26:51.989557Z",
     "start_time": "2023-08-14T04:26:51.959222Z"
    },
    "scrolled": true
   },
   "outputs": [
    {
     "data": {
      "text/html": [
       "<div>\n",
       "<style scoped>\n",
       "    .dataframe tbody tr th:only-of-type {\n",
       "        vertical-align: middle;\n",
       "    }\n",
       "\n",
       "    .dataframe tbody tr th {\n",
       "        vertical-align: top;\n",
       "    }\n",
       "\n",
       "    .dataframe thead th {\n",
       "        text-align: right;\n",
       "    }\n",
       "</style>\n",
       "<table border=\"1\" class=\"dataframe\">\n",
       "  <thead>\n",
       "    <tr style=\"text-align: right;\">\n",
       "      <th></th>\n",
       "      <th>name</th>\n",
       "      <th>platform</th>\n",
       "      <th>year_of_release</th>\n",
       "      <th>genre</th>\n",
       "      <th>na_sales</th>\n",
       "      <th>eu_sales</th>\n",
       "      <th>jp_sales</th>\n",
       "      <th>other_sales</th>\n",
       "      <th>critic_score</th>\n",
       "      <th>user_score</th>\n",
       "      <th>rating</th>\n",
       "    </tr>\n",
       "  </thead>\n",
       "  <tbody>\n",
       "    <tr>\n",
       "      <th>0</th>\n",
       "      <td>Wii Sports</td>\n",
       "      <td>Wii</td>\n",
       "      <td>2006.0</td>\n",
       "      <td>Sports</td>\n",
       "      <td>41.36</td>\n",
       "      <td>28.96</td>\n",
       "      <td>3.77</td>\n",
       "      <td>8.45</td>\n",
       "      <td>76.0</td>\n",
       "      <td>8</td>\n",
       "      <td>E</td>\n",
       "    </tr>\n",
       "    <tr>\n",
       "      <th>1</th>\n",
       "      <td>Super Mario Bros.</td>\n",
       "      <td>NES</td>\n",
       "      <td>1985.0</td>\n",
       "      <td>Platform</td>\n",
       "      <td>29.08</td>\n",
       "      <td>3.58</td>\n",
       "      <td>6.81</td>\n",
       "      <td>0.77</td>\n",
       "      <td>NaN</td>\n",
       "      <td>NaN</td>\n",
       "      <td>NaN</td>\n",
       "    </tr>\n",
       "    <tr>\n",
       "      <th>2</th>\n",
       "      <td>Mario Kart Wii</td>\n",
       "      <td>Wii</td>\n",
       "      <td>2008.0</td>\n",
       "      <td>Racing</td>\n",
       "      <td>15.68</td>\n",
       "      <td>12.76</td>\n",
       "      <td>3.79</td>\n",
       "      <td>3.29</td>\n",
       "      <td>82.0</td>\n",
       "      <td>8.3</td>\n",
       "      <td>E</td>\n",
       "    </tr>\n",
       "    <tr>\n",
       "      <th>3</th>\n",
       "      <td>Wii Sports Resort</td>\n",
       "      <td>Wii</td>\n",
       "      <td>2009.0</td>\n",
       "      <td>Sports</td>\n",
       "      <td>15.61</td>\n",
       "      <td>10.93</td>\n",
       "      <td>3.28</td>\n",
       "      <td>2.95</td>\n",
       "      <td>80.0</td>\n",
       "      <td>8</td>\n",
       "      <td>E</td>\n",
       "    </tr>\n",
       "    <tr>\n",
       "      <th>4</th>\n",
       "      <td>Pokemon Red/Pokemon Blue</td>\n",
       "      <td>GB</td>\n",
       "      <td>1996.0</td>\n",
       "      <td>Role-Playing</td>\n",
       "      <td>11.27</td>\n",
       "      <td>8.89</td>\n",
       "      <td>10.22</td>\n",
       "      <td>1.00</td>\n",
       "      <td>NaN</td>\n",
       "      <td>NaN</td>\n",
       "      <td>NaN</td>\n",
       "    </tr>\n",
       "    <tr>\n",
       "      <th>...</th>\n",
       "      <td>...</td>\n",
       "      <td>...</td>\n",
       "      <td>...</td>\n",
       "      <td>...</td>\n",
       "      <td>...</td>\n",
       "      <td>...</td>\n",
       "      <td>...</td>\n",
       "      <td>...</td>\n",
       "      <td>...</td>\n",
       "      <td>...</td>\n",
       "      <td>...</td>\n",
       "    </tr>\n",
       "    <tr>\n",
       "      <th>16708</th>\n",
       "      <td>Samurai Warriors: Sanada Maru</td>\n",
       "      <td>PS3</td>\n",
       "      <td>2016.0</td>\n",
       "      <td>Action</td>\n",
       "      <td>0.00</td>\n",
       "      <td>0.00</td>\n",
       "      <td>0.01</td>\n",
       "      <td>0.00</td>\n",
       "      <td>NaN</td>\n",
       "      <td>NaN</td>\n",
       "      <td>NaN</td>\n",
       "    </tr>\n",
       "    <tr>\n",
       "      <th>16709</th>\n",
       "      <td>LMA Manager 2007</td>\n",
       "      <td>X360</td>\n",
       "      <td>2006.0</td>\n",
       "      <td>Sports</td>\n",
       "      <td>0.00</td>\n",
       "      <td>0.01</td>\n",
       "      <td>0.00</td>\n",
       "      <td>0.00</td>\n",
       "      <td>NaN</td>\n",
       "      <td>NaN</td>\n",
       "      <td>NaN</td>\n",
       "    </tr>\n",
       "    <tr>\n",
       "      <th>16710</th>\n",
       "      <td>Haitaka no Psychedelica</td>\n",
       "      <td>PSV</td>\n",
       "      <td>2016.0</td>\n",
       "      <td>Adventure</td>\n",
       "      <td>0.00</td>\n",
       "      <td>0.00</td>\n",
       "      <td>0.01</td>\n",
       "      <td>0.00</td>\n",
       "      <td>NaN</td>\n",
       "      <td>NaN</td>\n",
       "      <td>NaN</td>\n",
       "    </tr>\n",
       "    <tr>\n",
       "      <th>16711</th>\n",
       "      <td>Spirits &amp; Spells</td>\n",
       "      <td>GBA</td>\n",
       "      <td>2003.0</td>\n",
       "      <td>Platform</td>\n",
       "      <td>0.01</td>\n",
       "      <td>0.00</td>\n",
       "      <td>0.00</td>\n",
       "      <td>0.00</td>\n",
       "      <td>NaN</td>\n",
       "      <td>NaN</td>\n",
       "      <td>NaN</td>\n",
       "    </tr>\n",
       "    <tr>\n",
       "      <th>16712</th>\n",
       "      <td>Winning Post 8 2016</td>\n",
       "      <td>PSV</td>\n",
       "      <td>2016.0</td>\n",
       "      <td>Simulation</td>\n",
       "      <td>0.00</td>\n",
       "      <td>0.00</td>\n",
       "      <td>0.01</td>\n",
       "      <td>0.00</td>\n",
       "      <td>NaN</td>\n",
       "      <td>NaN</td>\n",
       "      <td>NaN</td>\n",
       "    </tr>\n",
       "  </tbody>\n",
       "</table>\n",
       "<p>16713 rows × 11 columns</p>\n",
       "</div>"
      ],
      "text/plain": [
       "                                name platform  year_of_release         genre  \\\n",
       "0                         Wii Sports      Wii           2006.0        Sports   \n",
       "1                  Super Mario Bros.      NES           1985.0      Platform   \n",
       "2                     Mario Kart Wii      Wii           2008.0        Racing   \n",
       "3                  Wii Sports Resort      Wii           2009.0        Sports   \n",
       "4           Pokemon Red/Pokemon Blue       GB           1996.0  Role-Playing   \n",
       "...                              ...      ...              ...           ...   \n",
       "16708  Samurai Warriors: Sanada Maru      PS3           2016.0        Action   \n",
       "16709               LMA Manager 2007     X360           2006.0        Sports   \n",
       "16710        Haitaka no Psychedelica      PSV           2016.0     Adventure   \n",
       "16711               Spirits & Spells      GBA           2003.0      Platform   \n",
       "16712            Winning Post 8 2016      PSV           2016.0    Simulation   \n",
       "\n",
       "       na_sales  eu_sales  jp_sales  other_sales  critic_score user_score  \\\n",
       "0         41.36     28.96      3.77         8.45          76.0          8   \n",
       "1         29.08      3.58      6.81         0.77           NaN        NaN   \n",
       "2         15.68     12.76      3.79         3.29          82.0        8.3   \n",
       "3         15.61     10.93      3.28         2.95          80.0          8   \n",
       "4         11.27      8.89     10.22         1.00           NaN        NaN   \n",
       "...         ...       ...       ...          ...           ...        ...   \n",
       "16708      0.00      0.00      0.01         0.00           NaN        NaN   \n",
       "16709      0.00      0.01      0.00         0.00           NaN        NaN   \n",
       "16710      0.00      0.00      0.01         0.00           NaN        NaN   \n",
       "16711      0.01      0.00      0.00         0.00           NaN        NaN   \n",
       "16712      0.00      0.00      0.01         0.00           NaN        NaN   \n",
       "\n",
       "      rating  \n",
       "0          E  \n",
       "1        NaN  \n",
       "2          E  \n",
       "3          E  \n",
       "4        NaN  \n",
       "...      ...  \n",
       "16708    NaN  \n",
       "16709    NaN  \n",
       "16710    NaN  \n",
       "16711    NaN  \n",
       "16712    NaN  \n",
       "\n",
       "[16713 rows x 11 columns]"
      ]
     },
     "execution_count": 12,
     "metadata": {},
     "output_type": "execute_result"
    }
   ],
   "source": [
    "games.dropna(axis = 0, how ='any',subset='name', inplace = True)\n",
    "games = games.reset_index(drop=True)\n",
    "games"
   ]
  },
  {
   "cell_type": "markdown",
   "id": "bc06ffc0",
   "metadata": {},
   "source": [
    "Now, Lets fix the missing value for year of release"
   ]
  },
  {
   "cell_type": "code",
   "execution_count": 13,
   "id": "7434115c",
   "metadata": {
    "ExecuteTime": {
     "end_time": "2023-08-14T04:26:52.005660Z",
     "start_time": "2023-08-14T04:26:51.990557Z"
    }
   },
   "outputs": [
    {
     "data": {
      "text/plain": [
       "269"
      ]
     },
     "execution_count": 13,
     "metadata": {},
     "output_type": "execute_result"
    }
   ],
   "source": [
    "games['year_of_release'].isna().sum()"
   ]
  },
  {
   "cell_type": "markdown",
   "id": "f13f1308",
   "metadata": {},
   "source": [
    "Now, lets fill the year of release columns with the same name in the data. Games mostly release with the same year and compatible with the current platform. "
   ]
  },
  {
   "cell_type": "code",
   "execution_count": 14,
   "id": "baa93b43",
   "metadata": {
    "ExecuteTime": {
     "end_time": "2023-08-14T04:26:54.879067Z",
     "start_time": "2023-08-14T04:26:52.006684Z"
    }
   },
   "outputs": [
    {
     "data": {
      "text/plain": [
       "name                  0\n",
       "platform              0\n",
       "year_of_release     146\n",
       "genre                 0\n",
       "na_sales              0\n",
       "eu_sales              0\n",
       "jp_sales              0\n",
       "other_sales           0\n",
       "critic_score       8576\n",
       "user_score         6699\n",
       "rating             6764\n",
       "dtype: int64"
      ]
     },
     "execution_count": 14,
     "metadata": {},
     "output_type": "execute_result"
    }
   ],
   "source": [
    "x = lambda x: x.mode().iat[0] if x.notna().any() else np.nan\n",
    "group_name_year = games.groupby('name')['year_of_release'].transform(x)\n",
    "games['year_of_release'] = games['year_of_release'].fillna(group_name_year)\n",
    "games.isna().sum()"
   ]
  },
  {
   "cell_type": "markdown",
   "id": "3041e2ea",
   "metadata": {},
   "source": [
    "Next, fill the rest missing value from the group of platform and year of release in median. The reason for this method are 1) the platform was used to play the games and 2) the platform was available in certain of time only. Therefore, there are kind of connection between these 2 columns. "
   ]
  },
  {
   "cell_type": "code",
   "execution_count": 15,
   "id": "cc381e6e",
   "metadata": {
    "ExecuteTime": {
     "end_time": "2023-08-14T04:26:54.894989Z",
     "start_time": "2023-08-14T04:26:54.880573Z"
    }
   },
   "outputs": [
    {
     "data": {
      "text/plain": [
       "name                  0\n",
       "platform              0\n",
       "year_of_release       0\n",
       "genre                 0\n",
       "na_sales              0\n",
       "eu_sales              0\n",
       "jp_sales              0\n",
       "other_sales           0\n",
       "critic_score       8576\n",
       "user_score         6699\n",
       "rating             6764\n",
       "dtype: int64"
      ]
     },
     "execution_count": 15,
     "metadata": {},
     "output_type": "execute_result"
    }
   ],
   "source": [
    "platform_group_year = games.groupby('platform')['year_of_release'].transform('median')\n",
    "games['year_of_release'] = games['year_of_release'].fillna(platform_group_year)\n",
    "games.isna().sum()"
   ]
  },
  {
   "cell_type": "markdown",
   "id": "ef00819d",
   "metadata": {},
   "source": [
    "Next, lets fill the rating"
   ]
  },
  {
   "cell_type": "code",
   "execution_count": 16,
   "id": "241ad0f4",
   "metadata": {
    "ExecuteTime": {
     "end_time": "2023-08-14T04:26:54.911040Z",
     "start_time": "2023-08-14T04:26:54.895989Z"
    }
   },
   "outputs": [
    {
     "data": {
      "text/plain": [
       "array(['E', nan, 'M', 'T', 'E10+', 'K-A', 'AO', 'EC', 'RP'], dtype=object)"
      ]
     },
     "execution_count": 16,
     "metadata": {},
     "output_type": "execute_result"
    }
   ],
   "source": [
    "games['rating'].unique()"
   ]
  },
  {
   "cell_type": "markdown",
   "id": "df7d159d",
   "metadata": {},
   "source": [
    "lets fill the missing values with the name."
   ]
  },
  {
   "cell_type": "code",
   "execution_count": 17,
   "id": "9e09156e",
   "metadata": {
    "ExecuteTime": {
     "end_time": "2023-08-14T04:26:57.312931Z",
     "start_time": "2023-08-14T04:26:54.912544Z"
    }
   },
   "outputs": [
    {
     "data": {
      "text/plain": [
       "name                  0\n",
       "platform              0\n",
       "year_of_release       0\n",
       "genre                 0\n",
       "na_sales              0\n",
       "eu_sales              0\n",
       "jp_sales              0\n",
       "other_sales           0\n",
       "critic_score       8576\n",
       "user_score         6699\n",
       "rating             6327\n",
       "dtype: int64"
      ]
     },
     "execution_count": 17,
     "metadata": {},
     "output_type": "execute_result"
    }
   ],
   "source": [
    "x = lambda x: x.mode().iat[0] if x.notna().any() else np.nan\n",
    "group_name_rating = games.groupby('name')['rating'].transform(x)\n",
    "games['rating'] = games['rating'].fillna(group_name_rating)\n",
    "games.isna().sum()"
   ]
  },
  {
   "cell_type": "markdown",
   "id": "96d9faf6",
   "metadata": {},
   "source": [
    "The rest will be fill with unknown because no information for the rating for each game."
   ]
  },
  {
   "cell_type": "code",
   "execution_count": 18,
   "id": "badf5219",
   "metadata": {
    "ExecuteTime": {
     "end_time": "2023-08-14T04:26:57.328886Z",
     "start_time": "2023-08-14T04:26:57.313932Z"
    }
   },
   "outputs": [
    {
     "data": {
      "text/plain": [
       "name                  0\n",
       "platform              0\n",
       "year_of_release       0\n",
       "genre                 0\n",
       "na_sales              0\n",
       "eu_sales              0\n",
       "jp_sales              0\n",
       "other_sales           0\n",
       "critic_score       8576\n",
       "user_score         6699\n",
       "rating                0\n",
       "dtype: int64"
      ]
     },
     "execution_count": 18,
     "metadata": {},
     "output_type": "execute_result"
    }
   ],
   "source": [
    "games['rating'] = games['rating'].fillna('unknown')\n",
    "games.isna().sum()"
   ]
  },
  {
   "cell_type": "markdown",
   "id": "0bba7de1",
   "metadata": {},
   "source": [
    "Next, lets fix the critic_score and user_score"
   ]
  },
  {
   "cell_type": "code",
   "execution_count": 19,
   "id": "a09bb1c3",
   "metadata": {
    "ExecuteTime": {
     "end_time": "2023-08-14T04:26:57.344430Z",
     "start_time": "2023-08-14T04:26:57.330390Z"
    }
   },
   "outputs": [
    {
     "data": {
      "text/plain": [
       "array([76., nan, 82., 80., 89., 58., 87., 91., 61., 97., 95., 77., 88.,\n",
       "       83., 94., 93., 85., 86., 98., 96., 90., 84., 73., 74., 78., 92.,\n",
       "       71., 72., 68., 62., 49., 67., 81., 66., 56., 79., 70., 59., 64.,\n",
       "       75., 60., 63., 69., 50., 25., 42., 44., 55., 48., 57., 29., 47.,\n",
       "       65., 54., 20., 53., 37., 38., 33., 52., 30., 32., 43., 45., 51.,\n",
       "       40., 46., 39., 34., 35., 41., 36., 28., 31., 27., 26., 19., 23.,\n",
       "       24., 21., 17., 22., 13.])"
      ]
     },
     "execution_count": 19,
     "metadata": {},
     "output_type": "execute_result"
    }
   ],
   "source": [
    "games['critic_score'].unique()"
   ]
  },
  {
   "cell_type": "code",
   "execution_count": 20,
   "id": "e47592f3",
   "metadata": {
    "ExecuteTime": {
     "end_time": "2023-08-14T04:26:57.360548Z",
     "start_time": "2023-08-14T04:26:57.346430Z"
    }
   },
   "outputs": [
    {
     "data": {
      "text/plain": [
       "(8576, 11)"
      ]
     },
     "execution_count": 20,
     "metadata": {},
     "output_type": "execute_result"
    }
   ],
   "source": [
    "missing_critic = games.loc[games['critic_score'].isna()]\n",
    "missing_critic.shape"
   ]
  },
  {
   "cell_type": "code",
   "execution_count": 21,
   "id": "3a6ea9a8",
   "metadata": {
    "ExecuteTime": {
     "end_time": "2023-08-14T04:26:57.376111Z",
     "start_time": "2023-08-14T04:26:57.361593Z"
    }
   },
   "outputs": [
    {
     "data": {
      "text/plain": [
       "array(['8', nan, '8.3', '8.5', '6.6', '8.4', '8.6', '7.7', '6.3', '7.4',\n",
       "       '8.2', '9', '7.9', '8.1', '8.7', '7.1', '3.4', '5.3', '4.8', '3.2',\n",
       "       '8.9', '6.4', '7.8', '7.5', '2.6', '7.2', '9.2', '7', '7.3', '4.3',\n",
       "       '7.6', '5.7', '5', '9.1', '6.5', 'tbd', '8.8', '6.9', '9.4', '6.8',\n",
       "       '6.1', '6.7', '5.4', '4', '4.9', '4.5', '9.3', '6.2', '4.2', '6',\n",
       "       '3.7', '4.1', '5.8', '5.6', '5.5', '4.4', '4.6', '5.9', '3.9',\n",
       "       '3.1', '2.9', '5.2', '3.3', '4.7', '5.1', '3.5', '2.5', '1.9', '3',\n",
       "       '2.7', '2.2', '2', '9.5', '2.1', '3.6', '2.8', '1.8', '3.8', '0',\n",
       "       '1.6', '9.6', '2.4', '1.7', '1.1', '0.3', '1.5', '0.7', '1.2',\n",
       "       '2.3', '0.5', '1.3', '0.2', '0.6', '1.4', '0.9', '1', '9.7'],\n",
       "      dtype=object)"
      ]
     },
     "execution_count": 21,
     "metadata": {},
     "output_type": "execute_result"
    }
   ],
   "source": [
    "games['user_score'].unique()"
   ]
  },
  {
   "cell_type": "markdown",
   "id": "965f1546",
   "metadata": {},
   "source": [
    "The user_score.unique show that there are missing values and tbd. Tbd means that the games cannot be scored due to some reasons such as not enough user that score that game or the score cannot be revealed due to developers request for the score dont be showed due to personal reasons. Therefore, tbd can be assumed as missing values.  "
   ]
  },
  {
   "cell_type": "code",
   "execution_count": 22,
   "id": "74fc6553",
   "metadata": {
    "ExecuteTime": {
     "end_time": "2023-08-14T04:26:57.391290Z",
     "start_time": "2023-08-14T04:26:57.377112Z"
    },
    "scrolled": true
   },
   "outputs": [
    {
     "data": {
      "text/plain": [
       "array([8. , nan, 8.3, 8.5, 6.6, 8.4, 8.6, 7.7, 6.3, 7.4, 8.2, 9. , 7.9,\n",
       "       8.1, 8.7, 7.1, 3.4, 5.3, 4.8, 3.2, 8.9, 6.4, 7.8, 7.5, 2.6, 7.2,\n",
       "       9.2, 7. , 7.3, 4.3, 7.6, 5.7, 5. , 9.1, 6.5, 8.8, 6.9, 9.4, 6.8,\n",
       "       6.1, 6.7, 5.4, 4. , 4.9, 4.5, 9.3, 6.2, 4.2, 6. , 3.7, 4.1, 5.8,\n",
       "       5.6, 5.5, 4.4, 4.6, 5.9, 3.9, 3.1, 2.9, 5.2, 3.3, 4.7, 5.1, 3.5,\n",
       "       2.5, 1.9, 3. , 2.7, 2.2, 2. , 9.5, 2.1, 3.6, 2.8, 1.8, 3.8, 0. ,\n",
       "       1.6, 9.6, 2.4, 1.7, 1.1, 0.3, 1.5, 0.7, 1.2, 2.3, 0.5, 1.3, 0.2,\n",
       "       0.6, 1.4, 0.9, 1. , 9.7])"
      ]
     },
     "execution_count": 22,
     "metadata": {},
     "output_type": "execute_result"
    }
   ],
   "source": [
    "games['user_score'].replace('tbd',np.nan, inplace=True)\n",
    "games['user_score'] = games['user_score'].astype('float')\n",
    "games['user_score'].unique()"
   ]
  },
  {
   "cell_type": "markdown",
   "id": "7cab7936",
   "metadata": {},
   "source": [
    "To fill the missing values, the assumption values is needed. Therefore the method needed is KNNImputer. This imputations for completing missing values using k-Nearest Neighbors. Columns needed is all the sales regions, user and critic score."
   ]
  },
  {
   "cell_type": "code",
   "execution_count": 23,
   "id": "455ea003",
   "metadata": {
    "ExecuteTime": {
     "end_time": "2023-08-14T04:27:03.541851Z",
     "start_time": "2023-08-14T04:26:57.392306Z"
    }
   },
   "outputs": [
    {
     "data": {
      "text/html": [
       "<div>\n",
       "<style scoped>\n",
       "    .dataframe tbody tr th:only-of-type {\n",
       "        vertical-align: middle;\n",
       "    }\n",
       "\n",
       "    .dataframe tbody tr th {\n",
       "        vertical-align: top;\n",
       "    }\n",
       "\n",
       "    .dataframe thead th {\n",
       "        text-align: right;\n",
       "    }\n",
       "</style>\n",
       "<table border=\"1\" class=\"dataframe\">\n",
       "  <thead>\n",
       "    <tr style=\"text-align: right;\">\n",
       "      <th></th>\n",
       "      <th>na_sales</th>\n",
       "      <th>eu_sales</th>\n",
       "      <th>jp_sales</th>\n",
       "      <th>other_sales</th>\n",
       "      <th>critic_score</th>\n",
       "      <th>user_score</th>\n",
       "    </tr>\n",
       "  </thead>\n",
       "  <tbody>\n",
       "    <tr>\n",
       "      <th>0</th>\n",
       "      <td>41.36</td>\n",
       "      <td>28.96</td>\n",
       "      <td>3.77</td>\n",
       "      <td>8.45</td>\n",
       "      <td>76.0</td>\n",
       "      <td>8.00</td>\n",
       "    </tr>\n",
       "    <tr>\n",
       "      <th>1</th>\n",
       "      <td>29.08</td>\n",
       "      <td>3.58</td>\n",
       "      <td>6.81</td>\n",
       "      <td>0.77</td>\n",
       "      <td>73.6</td>\n",
       "      <td>7.52</td>\n",
       "    </tr>\n",
       "    <tr>\n",
       "      <th>2</th>\n",
       "      <td>15.68</td>\n",
       "      <td>12.76</td>\n",
       "      <td>3.79</td>\n",
       "      <td>3.29</td>\n",
       "      <td>82.0</td>\n",
       "      <td>8.30</td>\n",
       "    </tr>\n",
       "    <tr>\n",
       "      <th>3</th>\n",
       "      <td>15.61</td>\n",
       "      <td>10.93</td>\n",
       "      <td>3.28</td>\n",
       "      <td>2.95</td>\n",
       "      <td>80.0</td>\n",
       "      <td>8.00</td>\n",
       "    </tr>\n",
       "    <tr>\n",
       "      <th>4</th>\n",
       "      <td>11.27</td>\n",
       "      <td>8.89</td>\n",
       "      <td>10.22</td>\n",
       "      <td>1.00</td>\n",
       "      <td>81.0</td>\n",
       "      <td>7.96</td>\n",
       "    </tr>\n",
       "    <tr>\n",
       "      <th>...</th>\n",
       "      <td>...</td>\n",
       "      <td>...</td>\n",
       "      <td>...</td>\n",
       "      <td>...</td>\n",
       "      <td>...</td>\n",
       "      <td>...</td>\n",
       "    </tr>\n",
       "    <tr>\n",
       "      <th>16708</th>\n",
       "      <td>0.00</td>\n",
       "      <td>0.00</td>\n",
       "      <td>0.01</td>\n",
       "      <td>0.00</td>\n",
       "      <td>71.0</td>\n",
       "      <td>7.88</td>\n",
       "    </tr>\n",
       "    <tr>\n",
       "      <th>16709</th>\n",
       "      <td>0.00</td>\n",
       "      <td>0.01</td>\n",
       "      <td>0.00</td>\n",
       "      <td>0.00</td>\n",
       "      <td>76.8</td>\n",
       "      <td>6.52</td>\n",
       "    </tr>\n",
       "    <tr>\n",
       "      <th>16710</th>\n",
       "      <td>0.00</td>\n",
       "      <td>0.00</td>\n",
       "      <td>0.01</td>\n",
       "      <td>0.00</td>\n",
       "      <td>71.0</td>\n",
       "      <td>7.88</td>\n",
       "    </tr>\n",
       "    <tr>\n",
       "      <th>16711</th>\n",
       "      <td>0.01</td>\n",
       "      <td>0.00</td>\n",
       "      <td>0.00</td>\n",
       "      <td>0.00</td>\n",
       "      <td>61.4</td>\n",
       "      <td>5.22</td>\n",
       "    </tr>\n",
       "    <tr>\n",
       "      <th>16712</th>\n",
       "      <td>0.00</td>\n",
       "      <td>0.00</td>\n",
       "      <td>0.01</td>\n",
       "      <td>0.00</td>\n",
       "      <td>71.0</td>\n",
       "      <td>7.88</td>\n",
       "    </tr>\n",
       "  </tbody>\n",
       "</table>\n",
       "<p>16713 rows × 6 columns</p>\n",
       "</div>"
      ],
      "text/plain": [
       "       na_sales  eu_sales  jp_sales  other_sales  critic_score  user_score\n",
       "0         41.36     28.96      3.77         8.45          76.0        8.00\n",
       "1         29.08      3.58      6.81         0.77          73.6        7.52\n",
       "2         15.68     12.76      3.79         3.29          82.0        8.30\n",
       "3         15.61     10.93      3.28         2.95          80.0        8.00\n",
       "4         11.27      8.89     10.22         1.00          81.0        7.96\n",
       "...         ...       ...       ...          ...           ...         ...\n",
       "16708      0.00      0.00      0.01         0.00          71.0        7.88\n",
       "16709      0.00      0.01      0.00         0.00          76.8        6.52\n",
       "16710      0.00      0.00      0.01         0.00          71.0        7.88\n",
       "16711      0.01      0.00      0.00         0.00          61.4        5.22\n",
       "16712      0.00      0.00      0.01         0.00          71.0        7.88\n",
       "\n",
       "[16713 rows x 6 columns]"
      ]
     },
     "execution_count": 23,
     "metadata": {},
     "output_type": "execute_result"
    }
   ],
   "source": [
    "predict_data = games[['na_sales','eu_sales','jp_sales','other_sales','critic_score','user_score']]\n",
    "knn = KNNImputer(n_neighbors = 5)\n",
    "knn.fit(predict_data)\n",
    "\n",
    "predict = pd.DataFrame (knn.transform(predict_data))\n",
    "columns_name = predict_data.columns\n",
    "predict.set_axis(columns_name, axis=1,inplace=True)\n",
    "predict"
   ]
  },
  {
   "cell_type": "markdown",
   "id": "4cb4d31a",
   "metadata": {},
   "source": [
    "Table above was the imputation based on assumption data in sales,user score and critic score. The table will be used to fill the  missing value in the games dataframe "
   ]
  },
  {
   "cell_type": "code",
   "execution_count": 24,
   "id": "941cfb6c",
   "metadata": {
    "ExecuteTime": {
     "end_time": "2023-08-14T04:27:03.573195Z",
     "start_time": "2023-08-14T04:27:03.542851Z"
    }
   },
   "outputs": [
    {
     "data": {
      "text/html": [
       "<div>\n",
       "<style scoped>\n",
       "    .dataframe tbody tr th:only-of-type {\n",
       "        vertical-align: middle;\n",
       "    }\n",
       "\n",
       "    .dataframe tbody tr th {\n",
       "        vertical-align: top;\n",
       "    }\n",
       "\n",
       "    .dataframe thead th {\n",
       "        text-align: right;\n",
       "    }\n",
       "</style>\n",
       "<table border=\"1\" class=\"dataframe\">\n",
       "  <thead>\n",
       "    <tr style=\"text-align: right;\">\n",
       "      <th></th>\n",
       "      <th>name</th>\n",
       "      <th>platform</th>\n",
       "      <th>year_of_release</th>\n",
       "      <th>genre</th>\n",
       "      <th>na_sales</th>\n",
       "      <th>eu_sales</th>\n",
       "      <th>jp_sales</th>\n",
       "      <th>other_sales</th>\n",
       "      <th>critic_score</th>\n",
       "      <th>user_score</th>\n",
       "      <th>rating</th>\n",
       "    </tr>\n",
       "  </thead>\n",
       "  <tbody>\n",
       "    <tr>\n",
       "      <th>0</th>\n",
       "      <td>Wii Sports</td>\n",
       "      <td>Wii</td>\n",
       "      <td>2006.0</td>\n",
       "      <td>Sports</td>\n",
       "      <td>41.36</td>\n",
       "      <td>28.96</td>\n",
       "      <td>3.77</td>\n",
       "      <td>8.45</td>\n",
       "      <td>76.0</td>\n",
       "      <td>8.00</td>\n",
       "      <td>E</td>\n",
       "    </tr>\n",
       "    <tr>\n",
       "      <th>1</th>\n",
       "      <td>Super Mario Bros.</td>\n",
       "      <td>NES</td>\n",
       "      <td>1985.0</td>\n",
       "      <td>Platform</td>\n",
       "      <td>29.08</td>\n",
       "      <td>3.58</td>\n",
       "      <td>6.81</td>\n",
       "      <td>0.77</td>\n",
       "      <td>73.6</td>\n",
       "      <td>7.52</td>\n",
       "      <td>unknown</td>\n",
       "    </tr>\n",
       "    <tr>\n",
       "      <th>2</th>\n",
       "      <td>Mario Kart Wii</td>\n",
       "      <td>Wii</td>\n",
       "      <td>2008.0</td>\n",
       "      <td>Racing</td>\n",
       "      <td>15.68</td>\n",
       "      <td>12.76</td>\n",
       "      <td>3.79</td>\n",
       "      <td>3.29</td>\n",
       "      <td>82.0</td>\n",
       "      <td>8.30</td>\n",
       "      <td>E</td>\n",
       "    </tr>\n",
       "    <tr>\n",
       "      <th>3</th>\n",
       "      <td>Wii Sports Resort</td>\n",
       "      <td>Wii</td>\n",
       "      <td>2009.0</td>\n",
       "      <td>Sports</td>\n",
       "      <td>15.61</td>\n",
       "      <td>10.93</td>\n",
       "      <td>3.28</td>\n",
       "      <td>2.95</td>\n",
       "      <td>80.0</td>\n",
       "      <td>8.00</td>\n",
       "      <td>E</td>\n",
       "    </tr>\n",
       "    <tr>\n",
       "      <th>4</th>\n",
       "      <td>Pokemon Red/Pokemon Blue</td>\n",
       "      <td>GB</td>\n",
       "      <td>1996.0</td>\n",
       "      <td>Role-Playing</td>\n",
       "      <td>11.27</td>\n",
       "      <td>8.89</td>\n",
       "      <td>10.22</td>\n",
       "      <td>1.00</td>\n",
       "      <td>81.0</td>\n",
       "      <td>7.96</td>\n",
       "      <td>unknown</td>\n",
       "    </tr>\n",
       "    <tr>\n",
       "      <th>...</th>\n",
       "      <td>...</td>\n",
       "      <td>...</td>\n",
       "      <td>...</td>\n",
       "      <td>...</td>\n",
       "      <td>...</td>\n",
       "      <td>...</td>\n",
       "      <td>...</td>\n",
       "      <td>...</td>\n",
       "      <td>...</td>\n",
       "      <td>...</td>\n",
       "      <td>...</td>\n",
       "    </tr>\n",
       "    <tr>\n",
       "      <th>16708</th>\n",
       "      <td>Samurai Warriors: Sanada Maru</td>\n",
       "      <td>PS3</td>\n",
       "      <td>2016.0</td>\n",
       "      <td>Action</td>\n",
       "      <td>0.00</td>\n",
       "      <td>0.00</td>\n",
       "      <td>0.01</td>\n",
       "      <td>0.00</td>\n",
       "      <td>71.0</td>\n",
       "      <td>7.88</td>\n",
       "      <td>unknown</td>\n",
       "    </tr>\n",
       "    <tr>\n",
       "      <th>16709</th>\n",
       "      <td>LMA Manager 2007</td>\n",
       "      <td>X360</td>\n",
       "      <td>2006.0</td>\n",
       "      <td>Sports</td>\n",
       "      <td>0.00</td>\n",
       "      <td>0.01</td>\n",
       "      <td>0.00</td>\n",
       "      <td>0.00</td>\n",
       "      <td>76.8</td>\n",
       "      <td>6.52</td>\n",
       "      <td>unknown</td>\n",
       "    </tr>\n",
       "    <tr>\n",
       "      <th>16710</th>\n",
       "      <td>Haitaka no Psychedelica</td>\n",
       "      <td>PSV</td>\n",
       "      <td>2016.0</td>\n",
       "      <td>Adventure</td>\n",
       "      <td>0.00</td>\n",
       "      <td>0.00</td>\n",
       "      <td>0.01</td>\n",
       "      <td>0.00</td>\n",
       "      <td>71.0</td>\n",
       "      <td>7.88</td>\n",
       "      <td>unknown</td>\n",
       "    </tr>\n",
       "    <tr>\n",
       "      <th>16711</th>\n",
       "      <td>Spirits &amp; Spells</td>\n",
       "      <td>GBA</td>\n",
       "      <td>2003.0</td>\n",
       "      <td>Platform</td>\n",
       "      <td>0.01</td>\n",
       "      <td>0.00</td>\n",
       "      <td>0.00</td>\n",
       "      <td>0.00</td>\n",
       "      <td>61.4</td>\n",
       "      <td>5.22</td>\n",
       "      <td>unknown</td>\n",
       "    </tr>\n",
       "    <tr>\n",
       "      <th>16712</th>\n",
       "      <td>Winning Post 8 2016</td>\n",
       "      <td>PSV</td>\n",
       "      <td>2016.0</td>\n",
       "      <td>Simulation</td>\n",
       "      <td>0.00</td>\n",
       "      <td>0.00</td>\n",
       "      <td>0.01</td>\n",
       "      <td>0.00</td>\n",
       "      <td>71.0</td>\n",
       "      <td>7.88</td>\n",
       "      <td>unknown</td>\n",
       "    </tr>\n",
       "  </tbody>\n",
       "</table>\n",
       "<p>16713 rows × 11 columns</p>\n",
       "</div>"
      ],
      "text/plain": [
       "                                name platform  year_of_release         genre  \\\n",
       "0                         Wii Sports      Wii           2006.0        Sports   \n",
       "1                  Super Mario Bros.      NES           1985.0      Platform   \n",
       "2                     Mario Kart Wii      Wii           2008.0        Racing   \n",
       "3                  Wii Sports Resort      Wii           2009.0        Sports   \n",
       "4           Pokemon Red/Pokemon Blue       GB           1996.0  Role-Playing   \n",
       "...                              ...      ...              ...           ...   \n",
       "16708  Samurai Warriors: Sanada Maru      PS3           2016.0        Action   \n",
       "16709               LMA Manager 2007     X360           2006.0        Sports   \n",
       "16710        Haitaka no Psychedelica      PSV           2016.0     Adventure   \n",
       "16711               Spirits & Spells      GBA           2003.0      Platform   \n",
       "16712            Winning Post 8 2016      PSV           2016.0    Simulation   \n",
       "\n",
       "       na_sales  eu_sales  jp_sales  other_sales  critic_score  user_score  \\\n",
       "0         41.36     28.96      3.77         8.45          76.0        8.00   \n",
       "1         29.08      3.58      6.81         0.77          73.6        7.52   \n",
       "2         15.68     12.76      3.79         3.29          82.0        8.30   \n",
       "3         15.61     10.93      3.28         2.95          80.0        8.00   \n",
       "4         11.27      8.89     10.22         1.00          81.0        7.96   \n",
       "...         ...       ...       ...          ...           ...         ...   \n",
       "16708      0.00      0.00      0.01         0.00          71.0        7.88   \n",
       "16709      0.00      0.01      0.00         0.00          76.8        6.52   \n",
       "16710      0.00      0.00      0.01         0.00          71.0        7.88   \n",
       "16711      0.01      0.00      0.00         0.00          61.4        5.22   \n",
       "16712      0.00      0.00      0.01         0.00          71.0        7.88   \n",
       "\n",
       "        rating  \n",
       "0            E  \n",
       "1      unknown  \n",
       "2            E  \n",
       "3            E  \n",
       "4      unknown  \n",
       "...        ...  \n",
       "16708  unknown  \n",
       "16709  unknown  \n",
       "16710  unknown  \n",
       "16711  unknown  \n",
       "16712  unknown  \n",
       "\n",
       "[16713 rows x 11 columns]"
      ]
     },
     "execution_count": 24,
     "metadata": {},
     "output_type": "execute_result"
    }
   ],
   "source": [
    "games = games.fillna(predict)\n",
    "games"
   ]
  },
  {
   "cell_type": "markdown",
   "id": "82df7ad3",
   "metadata": {},
   "source": [
    "Lets, check the missing values again"
   ]
  },
  {
   "cell_type": "code",
   "execution_count": 25,
   "id": "a0a89ace",
   "metadata": {
    "ExecuteTime": {
     "end_time": "2023-08-14T04:27:03.588108Z",
     "start_time": "2023-08-14T04:27:03.574196Z"
    }
   },
   "outputs": [
    {
     "data": {
      "text/plain": [
       "name               0\n",
       "platform           0\n",
       "year_of_release    0\n",
       "genre              0\n",
       "na_sales           0\n",
       "eu_sales           0\n",
       "jp_sales           0\n",
       "other_sales        0\n",
       "critic_score       0\n",
       "user_score         0\n",
       "rating             0\n",
       "dtype: int64"
      ]
     },
     "execution_count": 25,
     "metadata": {},
     "output_type": "execute_result"
    }
   ],
   "source": [
    "games.isna().sum()"
   ]
  },
  {
   "cell_type": "markdown",
   "id": "a46511d0",
   "metadata": {},
   "source": [
    "Lets check if any duplicated data after fill in the missing values"
   ]
  },
  {
   "cell_type": "code",
   "execution_count": 26,
   "id": "817d3368",
   "metadata": {
    "ExecuteTime": {
     "end_time": "2023-08-14T04:27:03.603645Z",
     "start_time": "2023-08-14T04:27:03.589108Z"
    }
   },
   "outputs": [
    {
     "data": {
      "text/plain": [
       "0"
      ]
     },
     "execution_count": 26,
     "metadata": {},
     "output_type": "execute_result"
    }
   ],
   "source": [
    "games.duplicated().sum()"
   ]
  },
  {
   "cell_type": "markdown",
   "id": "a4399728",
   "metadata": {},
   "source": [
    "The data already fill in the missing values. Next, lets fix the data type"
   ]
  },
  {
   "cell_type": "markdown",
   "id": "5090337f",
   "metadata": {},
   "source": [
    "## Fix data type"
   ]
  },
  {
   "cell_type": "code",
   "execution_count": 27,
   "id": "1bc275e4",
   "metadata": {
    "ExecuteTime": {
     "end_time": "2023-08-14T04:27:03.619050Z",
     "start_time": "2023-08-14T04:27:03.604645Z"
    }
   },
   "outputs": [
    {
     "name": "stdout",
     "output_type": "stream",
     "text": [
      "<class 'pandas.core.frame.DataFrame'>\n",
      "RangeIndex: 16713 entries, 0 to 16712\n",
      "Data columns (total 11 columns):\n",
      " #   Column           Non-Null Count  Dtype  \n",
      "---  ------           --------------  -----  \n",
      " 0   name             16713 non-null  object \n",
      " 1   platform         16713 non-null  object \n",
      " 2   year_of_release  16713 non-null  float64\n",
      " 3   genre            16713 non-null  object \n",
      " 4   na_sales         16713 non-null  float64\n",
      " 5   eu_sales         16713 non-null  float64\n",
      " 6   jp_sales         16713 non-null  float64\n",
      " 7   other_sales      16713 non-null  float64\n",
      " 8   critic_score     16713 non-null  float64\n",
      " 9   user_score       16713 non-null  float64\n",
      " 10  rating           16713 non-null  object \n",
      "dtypes: float64(7), object(4)\n",
      "memory usage: 1.4+ MB\n"
     ]
    }
   ],
   "source": [
    "games.info()"
   ]
  },
  {
   "cell_type": "markdown",
   "id": "40a632ba",
   "metadata": {},
   "source": [
    "Except year_of_release column that should be in int data type, others column is good to go."
   ]
  },
  {
   "cell_type": "code",
   "execution_count": 28,
   "id": "a1c40fb4",
   "metadata": {
    "ExecuteTime": {
     "end_time": "2023-08-14T04:27:03.634697Z",
     "start_time": "2023-08-14T04:27:03.623626Z"
    }
   },
   "outputs": [
    {
     "data": {
      "text/plain": [
       "0        2006\n",
       "1        1985\n",
       "2        2008\n",
       "3        2009\n",
       "4        1996\n",
       "         ... \n",
       "16708    2016\n",
       "16709    2006\n",
       "16710    2016\n",
       "16711    2003\n",
       "16712    2016\n",
       "Name: year_of_release, Length: 16713, dtype: int64"
      ]
     },
     "execution_count": 28,
     "metadata": {},
     "output_type": "execute_result"
    }
   ],
   "source": [
    "games['year_of_release'] = games['year_of_release'].astype('int64')\n",
    "games['year_of_release']"
   ]
  },
  {
   "cell_type": "markdown",
   "id": "335e2192",
   "metadata": {},
   "source": [
    "## Enrich data"
   ]
  },
  {
   "cell_type": "markdown",
   "id": "e1980811",
   "metadata": {},
   "source": [
    "Lest enrich the data by total up the sales for all region in one column."
   ]
  },
  {
   "cell_type": "code",
   "execution_count": 29,
   "id": "a95c3b76",
   "metadata": {
    "ExecuteTime": {
     "end_time": "2023-08-14T04:27:03.650224Z",
     "start_time": "2023-08-14T04:27:03.635698Z"
    }
   },
   "outputs": [
    {
     "data": {
      "text/html": [
       "<div>\n",
       "<style scoped>\n",
       "    .dataframe tbody tr th:only-of-type {\n",
       "        vertical-align: middle;\n",
       "    }\n",
       "\n",
       "    .dataframe tbody tr th {\n",
       "        vertical-align: top;\n",
       "    }\n",
       "\n",
       "    .dataframe thead th {\n",
       "        text-align: right;\n",
       "    }\n",
       "</style>\n",
       "<table border=\"1\" class=\"dataframe\">\n",
       "  <thead>\n",
       "    <tr style=\"text-align: right;\">\n",
       "      <th></th>\n",
       "      <th>name</th>\n",
       "      <th>platform</th>\n",
       "      <th>year_of_release</th>\n",
       "      <th>genre</th>\n",
       "      <th>na_sales</th>\n",
       "      <th>eu_sales</th>\n",
       "      <th>jp_sales</th>\n",
       "      <th>other_sales</th>\n",
       "      <th>critic_score</th>\n",
       "      <th>user_score</th>\n",
       "      <th>rating</th>\n",
       "      <th>total_sales</th>\n",
       "    </tr>\n",
       "  </thead>\n",
       "  <tbody>\n",
       "    <tr>\n",
       "      <th>0</th>\n",
       "      <td>Wii Sports</td>\n",
       "      <td>Wii</td>\n",
       "      <td>2006</td>\n",
       "      <td>Sports</td>\n",
       "      <td>41.36</td>\n",
       "      <td>28.96</td>\n",
       "      <td>3.77</td>\n",
       "      <td>8.45</td>\n",
       "      <td>76.0</td>\n",
       "      <td>8.00</td>\n",
       "      <td>E</td>\n",
       "      <td>82.54</td>\n",
       "    </tr>\n",
       "    <tr>\n",
       "      <th>1</th>\n",
       "      <td>Super Mario Bros.</td>\n",
       "      <td>NES</td>\n",
       "      <td>1985</td>\n",
       "      <td>Platform</td>\n",
       "      <td>29.08</td>\n",
       "      <td>3.58</td>\n",
       "      <td>6.81</td>\n",
       "      <td>0.77</td>\n",
       "      <td>73.6</td>\n",
       "      <td>7.52</td>\n",
       "      <td>unknown</td>\n",
       "      <td>40.24</td>\n",
       "    </tr>\n",
       "    <tr>\n",
       "      <th>2</th>\n",
       "      <td>Mario Kart Wii</td>\n",
       "      <td>Wii</td>\n",
       "      <td>2008</td>\n",
       "      <td>Racing</td>\n",
       "      <td>15.68</td>\n",
       "      <td>12.76</td>\n",
       "      <td>3.79</td>\n",
       "      <td>3.29</td>\n",
       "      <td>82.0</td>\n",
       "      <td>8.30</td>\n",
       "      <td>E</td>\n",
       "      <td>35.52</td>\n",
       "    </tr>\n",
       "    <tr>\n",
       "      <th>3</th>\n",
       "      <td>Wii Sports Resort</td>\n",
       "      <td>Wii</td>\n",
       "      <td>2009</td>\n",
       "      <td>Sports</td>\n",
       "      <td>15.61</td>\n",
       "      <td>10.93</td>\n",
       "      <td>3.28</td>\n",
       "      <td>2.95</td>\n",
       "      <td>80.0</td>\n",
       "      <td>8.00</td>\n",
       "      <td>E</td>\n",
       "      <td>32.77</td>\n",
       "    </tr>\n",
       "    <tr>\n",
       "      <th>4</th>\n",
       "      <td>Pokemon Red/Pokemon Blue</td>\n",
       "      <td>GB</td>\n",
       "      <td>1996</td>\n",
       "      <td>Role-Playing</td>\n",
       "      <td>11.27</td>\n",
       "      <td>8.89</td>\n",
       "      <td>10.22</td>\n",
       "      <td>1.00</td>\n",
       "      <td>81.0</td>\n",
       "      <td>7.96</td>\n",
       "      <td>unknown</td>\n",
       "      <td>31.38</td>\n",
       "    </tr>\n",
       "    <tr>\n",
       "      <th>...</th>\n",
       "      <td>...</td>\n",
       "      <td>...</td>\n",
       "      <td>...</td>\n",
       "      <td>...</td>\n",
       "      <td>...</td>\n",
       "      <td>...</td>\n",
       "      <td>...</td>\n",
       "      <td>...</td>\n",
       "      <td>...</td>\n",
       "      <td>...</td>\n",
       "      <td>...</td>\n",
       "      <td>...</td>\n",
       "    </tr>\n",
       "    <tr>\n",
       "      <th>16708</th>\n",
       "      <td>Samurai Warriors: Sanada Maru</td>\n",
       "      <td>PS3</td>\n",
       "      <td>2016</td>\n",
       "      <td>Action</td>\n",
       "      <td>0.00</td>\n",
       "      <td>0.00</td>\n",
       "      <td>0.01</td>\n",
       "      <td>0.00</td>\n",
       "      <td>71.0</td>\n",
       "      <td>7.88</td>\n",
       "      <td>unknown</td>\n",
       "      <td>0.01</td>\n",
       "    </tr>\n",
       "    <tr>\n",
       "      <th>16709</th>\n",
       "      <td>LMA Manager 2007</td>\n",
       "      <td>X360</td>\n",
       "      <td>2006</td>\n",
       "      <td>Sports</td>\n",
       "      <td>0.00</td>\n",
       "      <td>0.01</td>\n",
       "      <td>0.00</td>\n",
       "      <td>0.00</td>\n",
       "      <td>76.8</td>\n",
       "      <td>6.52</td>\n",
       "      <td>unknown</td>\n",
       "      <td>0.01</td>\n",
       "    </tr>\n",
       "    <tr>\n",
       "      <th>16710</th>\n",
       "      <td>Haitaka no Psychedelica</td>\n",
       "      <td>PSV</td>\n",
       "      <td>2016</td>\n",
       "      <td>Adventure</td>\n",
       "      <td>0.00</td>\n",
       "      <td>0.00</td>\n",
       "      <td>0.01</td>\n",
       "      <td>0.00</td>\n",
       "      <td>71.0</td>\n",
       "      <td>7.88</td>\n",
       "      <td>unknown</td>\n",
       "      <td>0.01</td>\n",
       "    </tr>\n",
       "    <tr>\n",
       "      <th>16711</th>\n",
       "      <td>Spirits &amp; Spells</td>\n",
       "      <td>GBA</td>\n",
       "      <td>2003</td>\n",
       "      <td>Platform</td>\n",
       "      <td>0.01</td>\n",
       "      <td>0.00</td>\n",
       "      <td>0.00</td>\n",
       "      <td>0.00</td>\n",
       "      <td>61.4</td>\n",
       "      <td>5.22</td>\n",
       "      <td>unknown</td>\n",
       "      <td>0.01</td>\n",
       "    </tr>\n",
       "    <tr>\n",
       "      <th>16712</th>\n",
       "      <td>Winning Post 8 2016</td>\n",
       "      <td>PSV</td>\n",
       "      <td>2016</td>\n",
       "      <td>Simulation</td>\n",
       "      <td>0.00</td>\n",
       "      <td>0.00</td>\n",
       "      <td>0.01</td>\n",
       "      <td>0.00</td>\n",
       "      <td>71.0</td>\n",
       "      <td>7.88</td>\n",
       "      <td>unknown</td>\n",
       "      <td>0.01</td>\n",
       "    </tr>\n",
       "  </tbody>\n",
       "</table>\n",
       "<p>16713 rows × 12 columns</p>\n",
       "</div>"
      ],
      "text/plain": [
       "                                name platform  year_of_release         genre  \\\n",
       "0                         Wii Sports      Wii             2006        Sports   \n",
       "1                  Super Mario Bros.      NES             1985      Platform   \n",
       "2                     Mario Kart Wii      Wii             2008        Racing   \n",
       "3                  Wii Sports Resort      Wii             2009        Sports   \n",
       "4           Pokemon Red/Pokemon Blue       GB             1996  Role-Playing   \n",
       "...                              ...      ...              ...           ...   \n",
       "16708  Samurai Warriors: Sanada Maru      PS3             2016        Action   \n",
       "16709               LMA Manager 2007     X360             2006        Sports   \n",
       "16710        Haitaka no Psychedelica      PSV             2016     Adventure   \n",
       "16711               Spirits & Spells      GBA             2003      Platform   \n",
       "16712            Winning Post 8 2016      PSV             2016    Simulation   \n",
       "\n",
       "       na_sales  eu_sales  jp_sales  other_sales  critic_score  user_score  \\\n",
       "0         41.36     28.96      3.77         8.45          76.0        8.00   \n",
       "1         29.08      3.58      6.81         0.77          73.6        7.52   \n",
       "2         15.68     12.76      3.79         3.29          82.0        8.30   \n",
       "3         15.61     10.93      3.28         2.95          80.0        8.00   \n",
       "4         11.27      8.89     10.22         1.00          81.0        7.96   \n",
       "...         ...       ...       ...          ...           ...         ...   \n",
       "16708      0.00      0.00      0.01         0.00          71.0        7.88   \n",
       "16709      0.00      0.01      0.00         0.00          76.8        6.52   \n",
       "16710      0.00      0.00      0.01         0.00          71.0        7.88   \n",
       "16711      0.01      0.00      0.00         0.00          61.4        5.22   \n",
       "16712      0.00      0.00      0.01         0.00          71.0        7.88   \n",
       "\n",
       "        rating  total_sales  \n",
       "0            E        82.54  \n",
       "1      unknown        40.24  \n",
       "2            E        35.52  \n",
       "3            E        32.77  \n",
       "4      unknown        31.38  \n",
       "...        ...          ...  \n",
       "16708  unknown         0.01  \n",
       "16709  unknown         0.01  \n",
       "16710  unknown         0.01  \n",
       "16711  unknown         0.01  \n",
       "16712  unknown         0.01  \n",
       "\n",
       "[16713 rows x 12 columns]"
      ]
     },
     "execution_count": 29,
     "metadata": {},
     "output_type": "execute_result"
    }
   ],
   "source": [
    "column_names = ['na_sales','eu_sales','jp_sales','other_sales']\n",
    "games['total_sales']= games[column_names].sum(axis=1)\n",
    "games"
   ]
  },
  {
   "cell_type": "markdown",
   "id": "a3cd8e72",
   "metadata": {},
   "source": [
    " "
   ]
  },
  {
   "cell_type": "markdown",
   "id": "9943a401",
   "metadata": {
    "scrolled": false
   },
   "source": [
    "# Analyze data"
   ]
  },
  {
   "cell_type": "markdown",
   "id": "99a26bbe",
   "metadata": {},
   "source": [
    "## Year of release"
   ]
  },
  {
   "cell_type": "markdown",
   "id": "5cd1e85c",
   "metadata": {},
   "source": [
    "Look at how many games were released in different years. Is the data for every period significant"
   ]
  },
  {
   "cell_type": "code",
   "execution_count": 30,
   "id": "3efc62e2",
   "metadata": {
    "ExecuteTime": {
     "end_time": "2023-08-14T04:27:03.666245Z",
     "start_time": "2023-08-14T04:27:03.650727Z"
    },
    "scrolled": false
   },
   "outputs": [
    {
     "data": {
      "text/html": [
       "<div>\n",
       "<style scoped>\n",
       "    .dataframe tbody tr th:only-of-type {\n",
       "        vertical-align: middle;\n",
       "    }\n",
       "\n",
       "    .dataframe tbody tr th {\n",
       "        vertical-align: top;\n",
       "    }\n",
       "\n",
       "    .dataframe thead th {\n",
       "        text-align: right;\n",
       "    }\n",
       "</style>\n",
       "<table border=\"1\" class=\"dataframe\">\n",
       "  <thead>\n",
       "    <tr style=\"text-align: right;\">\n",
       "      <th></th>\n",
       "      <th>year_of_release</th>\n",
       "      <th>count</th>\n",
       "    </tr>\n",
       "  </thead>\n",
       "  <tbody>\n",
       "    <tr>\n",
       "      <th>0</th>\n",
       "      <td>1980</td>\n",
       "      <td>9</td>\n",
       "    </tr>\n",
       "    <tr>\n",
       "      <th>1</th>\n",
       "      <td>1981</td>\n",
       "      <td>46</td>\n",
       "    </tr>\n",
       "    <tr>\n",
       "      <th>2</th>\n",
       "      <td>1982</td>\n",
       "      <td>52</td>\n",
       "    </tr>\n",
       "    <tr>\n",
       "      <th>3</th>\n",
       "      <td>1983</td>\n",
       "      <td>17</td>\n",
       "    </tr>\n",
       "    <tr>\n",
       "      <th>4</th>\n",
       "      <td>1984</td>\n",
       "      <td>14</td>\n",
       "    </tr>\n",
       "    <tr>\n",
       "      <th>5</th>\n",
       "      <td>1985</td>\n",
       "      <td>14</td>\n",
       "    </tr>\n",
       "    <tr>\n",
       "      <th>6</th>\n",
       "      <td>1986</td>\n",
       "      <td>21</td>\n",
       "    </tr>\n",
       "    <tr>\n",
       "      <th>7</th>\n",
       "      <td>1987</td>\n",
       "      <td>16</td>\n",
       "    </tr>\n",
       "    <tr>\n",
       "      <th>8</th>\n",
       "      <td>1988</td>\n",
       "      <td>15</td>\n",
       "    </tr>\n",
       "    <tr>\n",
       "      <th>9</th>\n",
       "      <td>1989</td>\n",
       "      <td>17</td>\n",
       "    </tr>\n",
       "    <tr>\n",
       "      <th>10</th>\n",
       "      <td>1990</td>\n",
       "      <td>16</td>\n",
       "    </tr>\n",
       "    <tr>\n",
       "      <th>11</th>\n",
       "      <td>1991</td>\n",
       "      <td>41</td>\n",
       "    </tr>\n",
       "    <tr>\n",
       "      <th>12</th>\n",
       "      <td>1992</td>\n",
       "      <td>43</td>\n",
       "    </tr>\n",
       "    <tr>\n",
       "      <th>13</th>\n",
       "      <td>1993</td>\n",
       "      <td>60</td>\n",
       "    </tr>\n",
       "    <tr>\n",
       "      <th>14</th>\n",
       "      <td>1994</td>\n",
       "      <td>122</td>\n",
       "    </tr>\n",
       "    <tr>\n",
       "      <th>15</th>\n",
       "      <td>1995</td>\n",
       "      <td>219</td>\n",
       "    </tr>\n",
       "    <tr>\n",
       "      <th>16</th>\n",
       "      <td>1996</td>\n",
       "      <td>263</td>\n",
       "    </tr>\n",
       "    <tr>\n",
       "      <th>17</th>\n",
       "      <td>1997</td>\n",
       "      <td>290</td>\n",
       "    </tr>\n",
       "    <tr>\n",
       "      <th>18</th>\n",
       "      <td>1998</td>\n",
       "      <td>386</td>\n",
       "    </tr>\n",
       "    <tr>\n",
       "      <th>19</th>\n",
       "      <td>1999</td>\n",
       "      <td>340</td>\n",
       "    </tr>\n",
       "    <tr>\n",
       "      <th>20</th>\n",
       "      <td>2000</td>\n",
       "      <td>351</td>\n",
       "    </tr>\n",
       "    <tr>\n",
       "      <th>21</th>\n",
       "      <td>2001</td>\n",
       "      <td>486</td>\n",
       "    </tr>\n",
       "    <tr>\n",
       "      <th>22</th>\n",
       "      <td>2002</td>\n",
       "      <td>845</td>\n",
       "    </tr>\n",
       "    <tr>\n",
       "      <th>23</th>\n",
       "      <td>2003</td>\n",
       "      <td>796</td>\n",
       "    </tr>\n",
       "    <tr>\n",
       "      <th>24</th>\n",
       "      <td>2004</td>\n",
       "      <td>771</td>\n",
       "    </tr>\n",
       "    <tr>\n",
       "      <th>25</th>\n",
       "      <td>2005</td>\n",
       "      <td>969</td>\n",
       "    </tr>\n",
       "    <tr>\n",
       "      <th>26</th>\n",
       "      <td>2006</td>\n",
       "      <td>1019</td>\n",
       "    </tr>\n",
       "    <tr>\n",
       "      <th>27</th>\n",
       "      <td>2007</td>\n",
       "      <td>1202</td>\n",
       "    </tr>\n",
       "    <tr>\n",
       "      <th>28</th>\n",
       "      <td>2008</td>\n",
       "      <td>1463</td>\n",
       "    </tr>\n",
       "    <tr>\n",
       "      <th>29</th>\n",
       "      <td>2009</td>\n",
       "      <td>1455</td>\n",
       "    </tr>\n",
       "    <tr>\n",
       "      <th>30</th>\n",
       "      <td>2010</td>\n",
       "      <td>1286</td>\n",
       "    </tr>\n",
       "    <tr>\n",
       "      <th>31</th>\n",
       "      <td>2011</td>\n",
       "      <td>1164</td>\n",
       "    </tr>\n",
       "    <tr>\n",
       "      <th>32</th>\n",
       "      <td>2012</td>\n",
       "      <td>662</td>\n",
       "    </tr>\n",
       "    <tr>\n",
       "      <th>33</th>\n",
       "      <td>2013</td>\n",
       "      <td>553</td>\n",
       "    </tr>\n",
       "    <tr>\n",
       "      <th>34</th>\n",
       "      <td>2014</td>\n",
       "      <td>582</td>\n",
       "    </tr>\n",
       "    <tr>\n",
       "      <th>35</th>\n",
       "      <td>2015</td>\n",
       "      <td>606</td>\n",
       "    </tr>\n",
       "    <tr>\n",
       "      <th>36</th>\n",
       "      <td>2016</td>\n",
       "      <td>502</td>\n",
       "    </tr>\n",
       "  </tbody>\n",
       "</table>\n",
       "</div>"
      ],
      "text/plain": [
       "    year_of_release  count\n",
       "0              1980      9\n",
       "1              1981     46\n",
       "2              1982     52\n",
       "3              1983     17\n",
       "4              1984     14\n",
       "5              1985     14\n",
       "6              1986     21\n",
       "7              1987     16\n",
       "8              1988     15\n",
       "9              1989     17\n",
       "10             1990     16\n",
       "11             1991     41\n",
       "12             1992     43\n",
       "13             1993     60\n",
       "14             1994    122\n",
       "15             1995    219\n",
       "16             1996    263\n",
       "17             1997    290\n",
       "18             1998    386\n",
       "19             1999    340\n",
       "20             2000    351\n",
       "21             2001    486\n",
       "22             2002    845\n",
       "23             2003    796\n",
       "24             2004    771\n",
       "25             2005    969\n",
       "26             2006   1019\n",
       "27             2007   1202\n",
       "28             2008   1463\n",
       "29             2009   1455\n",
       "30             2010   1286\n",
       "31             2011   1164\n",
       "32             2012    662\n",
       "33             2013    553\n",
       "34             2014    582\n",
       "35             2015    606\n",
       "36             2016    502"
      ]
     },
     "execution_count": 30,
     "metadata": {},
     "output_type": "execute_result"
    }
   ],
   "source": [
    "count_games_per_year = games.groupby('year_of_release')['name'].agg('count').reset_index()\n",
    "count_games_per_year = count_games_per_year.rename(columns={'name': 'count'})\n",
    "count_games_per_year"
   ]
  },
  {
   "cell_type": "code",
   "execution_count": 31,
   "id": "45e8ba6e",
   "metadata": {
    "ExecuteTime": {
     "end_time": "2023-08-14T04:27:03.822120Z",
     "start_time": "2023-08-14T04:27:03.667748Z"
    }
   },
   "outputs": [
    {
     "data": {
      "image/png": "[encoded data removed]",
      "text/plain": [
       "<Figure size 640x480 with 1 Axes>"
      ]
     },
     "metadata": {},
     "output_type": "display_data"
    }
   ],
   "source": [
    "sns.lineplot(count_games_per_year,x='year_of_release',y='count')\n",
    "plt.title('Number of Games per Year')\n",
    "plt.show()"
   ]
  },
  {
   "cell_type": "markdown",
   "id": "f842e8f9",
   "metadata": {},
   "source": [
    "From the dataframe, the trend for total games per year are increasing in 1980 until 2008 and then decreasing in 2009 to 2016. The total games from 2006 until 2011 was reached more than 1000 games and here show the year where tough competition between developers to promote their games to users. \n",
    "\n",
    "From the observation, for forecasting games in 2017, the year of games should not be very outdated and can still be playing in 2017 too. Therefore, 5 years of games should be a decent number where the games still compatible and can be played in their platform. Games from 2012 to 2016 will be perfect games for advertisment in 2017"
   ]
  },
  {
   "cell_type": "markdown",
   "id": "8e60b428",
   "metadata": {},
   "source": [
    "## Total Sales vs Platform"
   ]
  },
  {
   "cell_type": "markdown",
   "id": "66fac937",
   "metadata": {},
   "source": [
    "Next, lets look at how sales varied from platform to platform. "
   ]
  },
  {
   "cell_type": "code",
   "execution_count": 32,
   "id": "628699cf",
   "metadata": {
    "ExecuteTime": {
     "end_time": "2023-08-14T04:27:03.837625Z",
     "start_time": "2023-08-14T04:27:03.823120Z"
    }
   },
   "outputs": [
    {
     "data": {
      "text/html": [
       "<div>\n",
       "<style scoped>\n",
       "    .dataframe tbody tr th:only-of-type {\n",
       "        vertical-align: middle;\n",
       "    }\n",
       "\n",
       "    .dataframe tbody tr th {\n",
       "        vertical-align: top;\n",
       "    }\n",
       "\n",
       "    .dataframe thead th {\n",
       "        text-align: right;\n",
       "    }\n",
       "</style>\n",
       "<table border=\"1\" class=\"dataframe\">\n",
       "  <thead>\n",
       "    <tr style=\"text-align: right;\">\n",
       "      <th></th>\n",
       "      <th>platform</th>\n",
       "      <th>total_sales</th>\n",
       "    </tr>\n",
       "  </thead>\n",
       "  <tbody>\n",
       "    <tr>\n",
       "      <th>0</th>\n",
       "      <td>PS2</td>\n",
       "      <td>1255.77</td>\n",
       "    </tr>\n",
       "    <tr>\n",
       "      <th>1</th>\n",
       "      <td>X360</td>\n",
       "      <td>971.42</td>\n",
       "    </tr>\n",
       "    <tr>\n",
       "      <th>2</th>\n",
       "      <td>PS3</td>\n",
       "      <td>939.65</td>\n",
       "    </tr>\n",
       "    <tr>\n",
       "      <th>3</th>\n",
       "      <td>Wii</td>\n",
       "      <td>907.51</td>\n",
       "    </tr>\n",
       "    <tr>\n",
       "      <th>4</th>\n",
       "      <td>DS</td>\n",
       "      <td>806.12</td>\n",
       "    </tr>\n",
       "    <tr>\n",
       "      <th>5</th>\n",
       "      <td>PS</td>\n",
       "      <td>730.86</td>\n",
       "    </tr>\n",
       "    <tr>\n",
       "      <th>6</th>\n",
       "      <td>GBA</td>\n",
       "      <td>317.85</td>\n",
       "    </tr>\n",
       "    <tr>\n",
       "      <th>7</th>\n",
       "      <td>PS4</td>\n",
       "      <td>314.14</td>\n",
       "    </tr>\n",
       "    <tr>\n",
       "      <th>8</th>\n",
       "      <td>PSP</td>\n",
       "      <td>294.05</td>\n",
       "    </tr>\n",
       "    <tr>\n",
       "      <th>9</th>\n",
       "      <td>PC</td>\n",
       "      <td>259.52</td>\n",
       "    </tr>\n",
       "    <tr>\n",
       "      <th>10</th>\n",
       "      <td>3DS</td>\n",
       "      <td>259.00</td>\n",
       "    </tr>\n",
       "    <tr>\n",
       "      <th>11</th>\n",
       "      <td>XB</td>\n",
       "      <td>257.74</td>\n",
       "    </tr>\n",
       "    <tr>\n",
       "      <th>12</th>\n",
       "      <td>GB</td>\n",
       "      <td>255.46</td>\n",
       "    </tr>\n",
       "    <tr>\n",
       "      <th>13</th>\n",
       "      <td>NES</td>\n",
       "      <td>251.05</td>\n",
       "    </tr>\n",
       "    <tr>\n",
       "      <th>14</th>\n",
       "      <td>N64</td>\n",
       "      <td>218.68</td>\n",
       "    </tr>\n",
       "    <tr>\n",
       "      <th>15</th>\n",
       "      <td>SNES</td>\n",
       "      <td>200.04</td>\n",
       "    </tr>\n",
       "    <tr>\n",
       "      <th>16</th>\n",
       "      <td>GC</td>\n",
       "      <td>198.93</td>\n",
       "    </tr>\n",
       "    <tr>\n",
       "      <th>17</th>\n",
       "      <td>XOne</td>\n",
       "      <td>159.32</td>\n",
       "    </tr>\n",
       "    <tr>\n",
       "      <th>18</th>\n",
       "      <td>2600</td>\n",
       "      <td>96.98</td>\n",
       "    </tr>\n",
       "    <tr>\n",
       "      <th>19</th>\n",
       "      <td>WiiU</td>\n",
       "      <td>82.19</td>\n",
       "    </tr>\n",
       "    <tr>\n",
       "      <th>20</th>\n",
       "      <td>PSV</td>\n",
       "      <td>54.07</td>\n",
       "    </tr>\n",
       "    <tr>\n",
       "      <th>21</th>\n",
       "      <td>SAT</td>\n",
       "      <td>33.59</td>\n",
       "    </tr>\n",
       "    <tr>\n",
       "      <th>22</th>\n",
       "      <td>GEN</td>\n",
       "      <td>28.35</td>\n",
       "    </tr>\n",
       "    <tr>\n",
       "      <th>23</th>\n",
       "      <td>DC</td>\n",
       "      <td>15.95</td>\n",
       "    </tr>\n",
       "    <tr>\n",
       "      <th>24</th>\n",
       "      <td>SCD</td>\n",
       "      <td>1.86</td>\n",
       "    </tr>\n",
       "    <tr>\n",
       "      <th>25</th>\n",
       "      <td>NG</td>\n",
       "      <td>1.44</td>\n",
       "    </tr>\n",
       "    <tr>\n",
       "      <th>26</th>\n",
       "      <td>WS</td>\n",
       "      <td>1.42</td>\n",
       "    </tr>\n",
       "    <tr>\n",
       "      <th>27</th>\n",
       "      <td>TG16</td>\n",
       "      <td>0.16</td>\n",
       "    </tr>\n",
       "    <tr>\n",
       "      <th>28</th>\n",
       "      <td>3DO</td>\n",
       "      <td>0.10</td>\n",
       "    </tr>\n",
       "    <tr>\n",
       "      <th>29</th>\n",
       "      <td>GG</td>\n",
       "      <td>0.04</td>\n",
       "    </tr>\n",
       "    <tr>\n",
       "      <th>30</th>\n",
       "      <td>PCFX</td>\n",
       "      <td>0.03</td>\n",
       "    </tr>\n",
       "  </tbody>\n",
       "</table>\n",
       "</div>"
      ],
      "text/plain": [
       "   platform  total_sales\n",
       "0       PS2      1255.77\n",
       "1      X360       971.42\n",
       "2       PS3       939.65\n",
       "3       Wii       907.51\n",
       "4        DS       806.12\n",
       "5        PS       730.86\n",
       "6       GBA       317.85\n",
       "7       PS4       314.14\n",
       "8       PSP       294.05\n",
       "9        PC       259.52\n",
       "10      3DS       259.00\n",
       "11       XB       257.74\n",
       "12       GB       255.46\n",
       "13      NES       251.05\n",
       "14      N64       218.68\n",
       "15     SNES       200.04\n",
       "16       GC       198.93\n",
       "17     XOne       159.32\n",
       "18     2600        96.98\n",
       "19     WiiU        82.19\n",
       "20      PSV        54.07\n",
       "21      SAT        33.59\n",
       "22      GEN        28.35\n",
       "23       DC        15.95\n",
       "24      SCD         1.86\n",
       "25       NG         1.44\n",
       "26       WS         1.42\n",
       "27     TG16         0.16\n",
       "28      3DO         0.10\n",
       "29       GG         0.04\n",
       "30     PCFX         0.03"
      ]
     },
     "execution_count": 32,
     "metadata": {},
     "output_type": "execute_result"
    }
   ],
   "source": [
    "total_sales_per_platform = games.groupby('platform')['total_sales'].agg('sum').reset_index()\n",
    "total_sales_per_platform = total_sales_per_platform.sort_values(by='total_sales',ascending=False).reset_index().drop(columns='index')\n",
    "total_sales_per_platform"
   ]
  },
  {
   "cell_type": "code",
   "execution_count": 33,
   "id": "ca0afc03",
   "metadata": {
    "ExecuteTime": {
     "end_time": "2023-08-14T04:27:03.853665Z",
     "start_time": "2023-08-14T04:27:03.838625Z"
    }
   },
   "outputs": [],
   "source": [
    "def total_sales(platform,year):\n",
    "    a = games.loc[games['platform'] == platform]\n",
    "    for row in a:\n",
    "        b = a.loc[a['year_of_release'] == year]\n",
    "        total_sales = b.total_sales.sum()\n",
    "    \n",
    "    d = {'platform': [platform], 'year_of_release': [year], 'total_sales': [total_sales]}\n",
    "    df = pd.DataFrame(data = d)\n",
    "    return (df)"
   ]
  },
  {
   "cell_type": "code",
   "execution_count": 34,
   "id": "1c8d75d8",
   "metadata": {
    "ExecuteTime": {
     "end_time": "2023-08-14T04:27:08.757664Z",
     "start_time": "2023-08-14T04:27:03.854665Z"
    }
   },
   "outputs": [
    {
     "data": {
      "text/html": [
       "<div>\n",
       "<style scoped>\n",
       "    .dataframe tbody tr th:only-of-type {\n",
       "        vertical-align: middle;\n",
       "    }\n",
       "\n",
       "    .dataframe tbody tr th {\n",
       "        vertical-align: top;\n",
       "    }\n",
       "\n",
       "    .dataframe thead th {\n",
       "        text-align: right;\n",
       "    }\n",
       "</style>\n",
       "<table border=\"1\" class=\"dataframe\">\n",
       "  <thead>\n",
       "    <tr style=\"text-align: right;\">\n",
       "      <th></th>\n",
       "      <th>platform</th>\n",
       "      <th>year_of_release</th>\n",
       "      <th>total_sales</th>\n",
       "    </tr>\n",
       "  </thead>\n",
       "  <tbody>\n",
       "    <tr>\n",
       "      <th>0</th>\n",
       "      <td>Wii</td>\n",
       "      <td>2006</td>\n",
       "      <td>140.19</td>\n",
       "    </tr>\n",
       "    <tr>\n",
       "      <th>1</th>\n",
       "      <td>Wii</td>\n",
       "      <td>1985</td>\n",
       "      <td>0.00</td>\n",
       "    </tr>\n",
       "    <tr>\n",
       "      <th>2</th>\n",
       "      <td>Wii</td>\n",
       "      <td>2008</td>\n",
       "      <td>177.68</td>\n",
       "    </tr>\n",
       "    <tr>\n",
       "      <th>3</th>\n",
       "      <td>Wii</td>\n",
       "      <td>2009</td>\n",
       "      <td>211.17</td>\n",
       "    </tr>\n",
       "    <tr>\n",
       "      <th>4</th>\n",
       "      <td>Wii</td>\n",
       "      <td>1996</td>\n",
       "      <td>0.00</td>\n",
       "    </tr>\n",
       "    <tr>\n",
       "      <th>...</th>\n",
       "      <td>...</td>\n",
       "      <td>...</td>\n",
       "      <td>...</td>\n",
       "    </tr>\n",
       "    <tr>\n",
       "      <th>1142</th>\n",
       "      <td>PCFX</td>\n",
       "      <td>1991</td>\n",
       "      <td>0.00</td>\n",
       "    </tr>\n",
       "    <tr>\n",
       "      <th>1143</th>\n",
       "      <td>PCFX</td>\n",
       "      <td>1981</td>\n",
       "      <td>0.00</td>\n",
       "    </tr>\n",
       "    <tr>\n",
       "      <th>1144</th>\n",
       "      <td>PCFX</td>\n",
       "      <td>1987</td>\n",
       "      <td>0.00</td>\n",
       "    </tr>\n",
       "    <tr>\n",
       "      <th>1145</th>\n",
       "      <td>PCFX</td>\n",
       "      <td>1980</td>\n",
       "      <td>0.00</td>\n",
       "    </tr>\n",
       "    <tr>\n",
       "      <th>1146</th>\n",
       "      <td>PCFX</td>\n",
       "      <td>1983</td>\n",
       "      <td>0.00</td>\n",
       "    </tr>\n",
       "  </tbody>\n",
       "</table>\n",
       "<p>1147 rows × 3 columns</p>\n",
       "</div>"
      ],
      "text/plain": [
       "     platform  year_of_release  total_sales\n",
       "0         Wii             2006       140.19\n",
       "1         Wii             1985         0.00\n",
       "2         Wii             2008       177.68\n",
       "3         Wii             2009       211.17\n",
       "4         Wii             1996         0.00\n",
       "...       ...              ...          ...\n",
       "1142     PCFX             1991         0.00\n",
       "1143     PCFX             1981         0.00\n",
       "1144     PCFX             1987         0.00\n",
       "1145     PCFX             1980         0.00\n",
       "1146     PCFX             1983         0.00\n",
       "\n",
       "[1147 rows x 3 columns]"
      ]
     },
     "execution_count": 34,
     "metadata": {},
     "output_type": "execute_result"
    }
   ],
   "source": [
    "frame_list = []\n",
    "platform_list = games['platform'].unique()\n",
    "year_list = games['year_of_release'].unique()\n",
    "\n",
    "for platform in platform_list:\n",
    "    for year in year_list:\n",
    "        df = total_sales(platform,year)\n",
    "        frame_list.append(df)\n",
    "    \n",
    "platform_sales = pd.concat(frame_list).reset_index()\n",
    "platform_sales = platform_sales.drop(['index'],axis=1)\n",
    "platform_sales"
   ]
  },
  {
   "cell_type": "markdown",
   "id": "f68fc4de",
   "metadata": {},
   "source": [
    "Ignore 0 sales where there are no sales have been made during that year for that platform."
   ]
  },
  {
   "cell_type": "code",
   "execution_count": 35,
   "id": "3a8e5980",
   "metadata": {
    "ExecuteTime": {
     "end_time": "2023-08-14T04:27:08.773278Z",
     "start_time": "2023-08-14T04:27:08.758664Z"
    }
   },
   "outputs": [
    {
     "data": {
      "text/html": [
       "<div>\n",
       "<style scoped>\n",
       "    .dataframe tbody tr th:only-of-type {\n",
       "        vertical-align: middle;\n",
       "    }\n",
       "\n",
       "    .dataframe tbody tr th {\n",
       "        vertical-align: top;\n",
       "    }\n",
       "\n",
       "    .dataframe thead th {\n",
       "        text-align: right;\n",
       "    }\n",
       "</style>\n",
       "<table border=\"1\" class=\"dataframe\">\n",
       "  <thead>\n",
       "    <tr style=\"text-align: right;\">\n",
       "      <th></th>\n",
       "      <th>platform</th>\n",
       "      <th>year_of_release</th>\n",
       "      <th>total_sales</th>\n",
       "    </tr>\n",
       "  </thead>\n",
       "  <tbody>\n",
       "    <tr>\n",
       "      <th>0</th>\n",
       "      <td>Wii</td>\n",
       "      <td>2006</td>\n",
       "      <td>140.19</td>\n",
       "    </tr>\n",
       "    <tr>\n",
       "      <th>2</th>\n",
       "      <td>Wii</td>\n",
       "      <td>2008</td>\n",
       "      <td>177.68</td>\n",
       "    </tr>\n",
       "    <tr>\n",
       "      <th>3</th>\n",
       "      <td>Wii</td>\n",
       "      <td>2009</td>\n",
       "      <td>211.17</td>\n",
       "    </tr>\n",
       "    <tr>\n",
       "      <th>9</th>\n",
       "      <td>Wii</td>\n",
       "      <td>2007</td>\n",
       "      <td>153.41</td>\n",
       "    </tr>\n",
       "    <tr>\n",
       "      <th>10</th>\n",
       "      <td>Wii</td>\n",
       "      <td>2010</td>\n",
       "      <td>128.67</td>\n",
       "    </tr>\n",
       "    <tr>\n",
       "      <th>...</th>\n",
       "      <td>...</td>\n",
       "      <td>...</td>\n",
       "      <td>...</td>\n",
       "    </tr>\n",
       "    <tr>\n",
       "      <th>1030</th>\n",
       "      <td>TG16</td>\n",
       "      <td>1995</td>\n",
       "      <td>0.16</td>\n",
       "    </tr>\n",
       "    <tr>\n",
       "      <th>1061</th>\n",
       "      <td>3DO</td>\n",
       "      <td>1994</td>\n",
       "      <td>0.02</td>\n",
       "    </tr>\n",
       "    <tr>\n",
       "      <th>1067</th>\n",
       "      <td>3DO</td>\n",
       "      <td>1995</td>\n",
       "      <td>0.08</td>\n",
       "    </tr>\n",
       "    <tr>\n",
       "      <th>1095</th>\n",
       "      <td>GG</td>\n",
       "      <td>1992</td>\n",
       "      <td>0.04</td>\n",
       "    </tr>\n",
       "    <tr>\n",
       "      <th>1114</th>\n",
       "      <td>PCFX</td>\n",
       "      <td>1996</td>\n",
       "      <td>0.03</td>\n",
       "    </tr>\n",
       "  </tbody>\n",
       "</table>\n",
       "<p>243 rows × 3 columns</p>\n",
       "</div>"
      ],
      "text/plain": [
       "     platform  year_of_release  total_sales\n",
       "0         Wii             2006       140.19\n",
       "2         Wii             2008       177.68\n",
       "3         Wii             2009       211.17\n",
       "9         Wii             2007       153.41\n",
       "10        Wii             2010       128.67\n",
       "...       ...              ...          ...\n",
       "1030     TG16             1995         0.16\n",
       "1061      3DO             1994         0.02\n",
       "1067      3DO             1995         0.08\n",
       "1095       GG             1992         0.04\n",
       "1114     PCFX             1996         0.03\n",
       "\n",
       "[243 rows x 3 columns]"
      ]
     },
     "execution_count": 35,
     "metadata": {},
     "output_type": "execute_result"
    }
   ],
   "source": [
    "platform_no_zero_sales = platform_sales[platform_sales['total_sales'] != 0]\n",
    "platform_no_zero_sales['year_of_release'] = platform_no_zero_sales['year_of_release'].astype('int64')\n",
    "platform_no_zero_sales"
   ]
  },
  {
   "cell_type": "markdown",
   "id": "00f8b067",
   "metadata": {},
   "source": [
    "Lets see the distribution based on data for each year with the platforms that collected the greatest total sales (PS2). \n",
    "Then,find platforms that used to be popular but now have zero sales. Lastly, find how long does it generally take for new platforms to appear and old ones to fade."
   ]
  },
  {
   "cell_type": "code",
   "execution_count": 36,
   "id": "3282e2e3",
   "metadata": {
    "ExecuteTime": {
     "end_time": "2023-08-14T04:27:08.899586Z",
     "start_time": "2023-08-14T04:27:08.774279Z"
    },
    "scrolled": false
   },
   "outputs": [
    {
     "data": {
      "image/png": "[encoded data removed]",
      "text/plain": [
       "<Figure size 1000x500 with 1 Axes>"
      ]
     },
     "metadata": {},
     "output_type": "display_data"
    }
   ],
   "source": [
    "ps2_dist = platform_no_zero_sales[platform_no_zero_sales['platform']=='PS2']\n",
    "fig = plt.subplots(figsize =(10, 5))\n",
    "sns.lineplot(data=ps2_dist, x=\"year_of_release\", y=\"total_sales\", hue=\"platform\", style=\"platform\",markers=True, dashes=False,palette=None)\n",
    "plt.legend(bbox_to_anchor = (1.2, 1), loc = 'upper center')\n",
    "plt.grid()\n",
    "plt.show()"
   ]
  },
  {
   "cell_type": "markdown",
   "id": "f522b26a",
   "metadata": {},
   "source": [
    "PS2 was the platform that collect the highest cumulative total sales from 2000 to 2011. In 2002 and 2004, the total sales reached over 200 millions USD in one year. PS2 last sales on 2011 before missing from the chart."
   ]
  },
  {
   "cell_type": "code",
   "execution_count": 37,
   "id": "177f1fc6",
   "metadata": {
    "ExecuteTime": {
     "end_time": "2023-08-14T04:27:08.915032Z",
     "start_time": "2023-08-14T04:27:08.900107Z"
    }
   },
   "outputs": [
    {
     "data": {
      "text/plain": [
       "array(['Wii', 'DS', 'X360', 'PS3', 'PS2', 'PS4', 'PS'], dtype=object)"
      ]
     },
     "execution_count": 37,
     "metadata": {},
     "output_type": "execute_result"
    }
   ],
   "source": [
    "# Platform that reach 100 millions USD in any year\n",
    "top_platform_sales = platform_no_zero_sales[(platform_no_zero_sales['total_sales'] >= 100)]\n",
    "top_platform_sales.platform.unique()"
   ]
  },
  {
   "cell_type": "code",
   "execution_count": 38,
   "id": "664f5f63",
   "metadata": {
    "ExecuteTime": {
     "end_time": "2023-08-14T04:27:09.118666Z",
     "start_time": "2023-08-14T04:27:08.916033Z"
    }
   },
   "outputs": [
    {
     "data": {
      "image/png": "[encoded data removed]",
      "text/plain": [
       "<Figure size 1000x500 with 1 Axes>"
      ]
     },
     "metadata": {},
     "output_type": "display_data"
    }
   ],
   "source": [
    "top_sales_list = ['Wii', 'DS', 'X360', 'PS3', 'PS2', 'PS4', 'PS']\n",
    "top_sales_distr = platform_no_zero_sales.query(\"platform == @top_sales_list\")\n",
    "\n",
    "fig = plt.subplots(figsize =(10, 5))\n",
    "sns.lineplot(data=top_sales_distr, x=\"year_of_release\", y=\"total_sales\", hue=\"platform\", style=\"platform\",markers=True, dashes=False,palette=None)\n",
    "plt.legend(bbox_to_anchor = (1.2, 1), loc = 'upper center')\n",
    "plt.title('Popular platforms that reach 100 millions USD')\n",
    "plt.grid()\n",
    "plt.show()"
   ]
  },
  {
   "cell_type": "markdown",
   "id": "a6154f29",
   "metadata": {},
   "source": [
    "From the observation, the platforms that very popular before but given 0 sales in 2016 are PS, PS2, and DS. PS was the first popular platforms around year 1995 to 2000. Then, the next year, in 2000 to 2005, PS2 taking over by reaching more than 200 millions USD for 2 years. DS was the second popular during 2005 to 2008 after Wii. DS has a tough competition between Wii, X360 and PS3 during his time, but reach the last sales in 2013 and reach 0 sales in 2014. \n"
   ]
  },
  {
   "cell_type": "code",
   "execution_count": 39,
   "id": "6478cdb8",
   "metadata": {
    "ExecuteTime": {
     "end_time": "2023-08-14T04:27:09.134763Z",
     "start_time": "2023-08-14T04:27:09.118666Z"
    }
   },
   "outputs": [
    {
     "data": {
      "text/plain": [
       "['Wii', 'X360', 'PS3', 'PS4', '3DS', 'PC', 'XOne', 'WiiU', 'PSV']"
      ]
     },
     "execution_count": 39,
     "metadata": {},
     "output_type": "execute_result"
    }
   ],
   "source": [
    "# Create list platform that have sales in 2016\n",
    "a = list((platform_no_zero_sales [platform_no_zero_sales['year_of_release']==2016]).platform)\n",
    "a"
   ]
  },
  {
   "cell_type": "code",
   "execution_count": 40,
   "id": "1b799849",
   "metadata": {
    "ExecuteTime": {
     "end_time": "2023-08-14T04:27:09.150287Z",
     "start_time": "2023-08-14T04:27:09.135763Z"
    }
   },
   "outputs": [
    {
     "data": {
      "text/plain": [
       "array(['NES', 'GB', 'DS', 'PS2', 'SNES', 'GBA', 'N64', 'PS', 'XB', '2600',\n",
       "       'PSP', 'GC', 'GEN', 'DC', 'SAT', 'SCD', 'WS', 'NG', 'TG16', '3DO',\n",
       "       'GG', 'PCFX'], dtype=object)"
      ]
     },
     "execution_count": 40,
     "metadata": {},
     "output_type": "execute_result"
    }
   ],
   "source": [
    "# Remove platform that have sales in 2016 from the platform_no_zero_sales dataframe\n",
    "no_2016_platform = platform_no_zero_sales.query('platform != @a')\n",
    "no_2016_platform.platform.unique()"
   ]
  },
  {
   "cell_type": "code",
   "execution_count": 41,
   "id": "aafe4820",
   "metadata": {
    "ExecuteTime": {
     "end_time": "2023-08-14T04:27:09.165855Z",
     "start_time": "2023-08-14T04:27:09.151323Z"
    }
   },
   "outputs": [
    {
     "data": {
      "text/html": [
       "<div>\n",
       "<style scoped>\n",
       "    .dataframe tbody tr th:only-of-type {\n",
       "        vertical-align: middle;\n",
       "    }\n",
       "\n",
       "    .dataframe tbody tr th {\n",
       "        vertical-align: top;\n",
       "    }\n",
       "\n",
       "    .dataframe thead th {\n",
       "        text-align: right;\n",
       "    }\n",
       "</style>\n",
       "<table border=\"1\" class=\"dataframe\">\n",
       "  <thead>\n",
       "    <tr style=\"text-align: right;\">\n",
       "      <th></th>\n",
       "      <th>min_year</th>\n",
       "      <th>max_year</th>\n",
       "      <th>duration</th>\n",
       "    </tr>\n",
       "    <tr>\n",
       "      <th>platform</th>\n",
       "      <th></th>\n",
       "      <th></th>\n",
       "      <th></th>\n",
       "    </tr>\n",
       "  </thead>\n",
       "  <tbody>\n",
       "    <tr>\n",
       "      <th>2600</th>\n",
       "      <td>1980</td>\n",
       "      <td>1994</td>\n",
       "      <td>15</td>\n",
       "    </tr>\n",
       "    <tr>\n",
       "      <th>NES</th>\n",
       "      <td>1983</td>\n",
       "      <td>1994</td>\n",
       "      <td>12</td>\n",
       "    </tr>\n",
       "    <tr>\n",
       "      <th>DS</th>\n",
       "      <td>1985</td>\n",
       "      <td>2013</td>\n",
       "      <td>29</td>\n",
       "    </tr>\n",
       "    <tr>\n",
       "      <th>GB</th>\n",
       "      <td>1988</td>\n",
       "      <td>2001</td>\n",
       "      <td>14</td>\n",
       "    </tr>\n",
       "    <tr>\n",
       "      <th>SNES</th>\n",
       "      <td>1990</td>\n",
       "      <td>1999</td>\n",
       "      <td>10</td>\n",
       "    </tr>\n",
       "    <tr>\n",
       "      <th>GEN</th>\n",
       "      <td>1990</td>\n",
       "      <td>1994</td>\n",
       "      <td>5</td>\n",
       "    </tr>\n",
       "    <tr>\n",
       "      <th>GG</th>\n",
       "      <td>1992</td>\n",
       "      <td>1992</td>\n",
       "      <td>1</td>\n",
       "    </tr>\n",
       "    <tr>\n",
       "      <th>NG</th>\n",
       "      <td>1993</td>\n",
       "      <td>1996</td>\n",
       "      <td>4</td>\n",
       "    </tr>\n",
       "    <tr>\n",
       "      <th>SCD</th>\n",
       "      <td>1993</td>\n",
       "      <td>1994</td>\n",
       "      <td>2</td>\n",
       "    </tr>\n",
       "    <tr>\n",
       "      <th>3DO</th>\n",
       "      <td>1994</td>\n",
       "      <td>1995</td>\n",
       "      <td>2</td>\n",
       "    </tr>\n",
       "    <tr>\n",
       "      <th>PS</th>\n",
       "      <td>1994</td>\n",
       "      <td>2003</td>\n",
       "      <td>10</td>\n",
       "    </tr>\n",
       "    <tr>\n",
       "      <th>SAT</th>\n",
       "      <td>1994</td>\n",
       "      <td>1999</td>\n",
       "      <td>6</td>\n",
       "    </tr>\n",
       "    <tr>\n",
       "      <th>TG16</th>\n",
       "      <td>1995</td>\n",
       "      <td>1995</td>\n",
       "      <td>1</td>\n",
       "    </tr>\n",
       "    <tr>\n",
       "      <th>N64</th>\n",
       "      <td>1996</td>\n",
       "      <td>2004</td>\n",
       "      <td>9</td>\n",
       "    </tr>\n",
       "    <tr>\n",
       "      <th>PCFX</th>\n",
       "      <td>1996</td>\n",
       "      <td>1996</td>\n",
       "      <td>1</td>\n",
       "    </tr>\n",
       "    <tr>\n",
       "      <th>DC</th>\n",
       "      <td>1998</td>\n",
       "      <td>2008</td>\n",
       "      <td>11</td>\n",
       "    </tr>\n",
       "    <tr>\n",
       "      <th>WS</th>\n",
       "      <td>1999</td>\n",
       "      <td>2001</td>\n",
       "      <td>3</td>\n",
       "    </tr>\n",
       "    <tr>\n",
       "      <th>PS2</th>\n",
       "      <td>2000</td>\n",
       "      <td>2011</td>\n",
       "      <td>12</td>\n",
       "    </tr>\n",
       "    <tr>\n",
       "      <th>GBA</th>\n",
       "      <td>2000</td>\n",
       "      <td>2007</td>\n",
       "      <td>8</td>\n",
       "    </tr>\n",
       "    <tr>\n",
       "      <th>XB</th>\n",
       "      <td>2000</td>\n",
       "      <td>2008</td>\n",
       "      <td>9</td>\n",
       "    </tr>\n",
       "    <tr>\n",
       "      <th>GC</th>\n",
       "      <td>2001</td>\n",
       "      <td>2007</td>\n",
       "      <td>7</td>\n",
       "    </tr>\n",
       "    <tr>\n",
       "      <th>PSP</th>\n",
       "      <td>2004</td>\n",
       "      <td>2015</td>\n",
       "      <td>12</td>\n",
       "    </tr>\n",
       "  </tbody>\n",
       "</table>\n",
       "</div>"
      ],
      "text/plain": [
       "          min_year  max_year  duration\n",
       "platform                              \n",
       "2600          1980      1994        15\n",
       "NES           1983      1994        12\n",
       "DS            1985      2013        29\n",
       "GB            1988      2001        14\n",
       "SNES          1990      1999        10\n",
       "GEN           1990      1994         5\n",
       "GG            1992      1992         1\n",
       "NG            1993      1996         4\n",
       "SCD           1993      1994         2\n",
       "3DO           1994      1995         2\n",
       "PS            1994      2003        10\n",
       "SAT           1994      1999         6\n",
       "TG16          1995      1995         1\n",
       "N64           1996      2004         9\n",
       "PCFX          1996      1996         1\n",
       "DC            1998      2008        11\n",
       "WS            1999      2001         3\n",
       "PS2           2000      2011        12\n",
       "GBA           2000      2007         8\n",
       "XB            2000      2008         9\n",
       "GC            2001      2007         7\n",
       "PSP           2004      2015        12"
      ]
     },
     "execution_count": 41,
     "metadata": {},
     "output_type": "execute_result"
    }
   ],
   "source": [
    "# Find min,max, and duration year \n",
    "year_platform = no_2016_platform.groupby('platform')['year_of_release'].agg(['min','max'])\n",
    "year_platform['duration'] = (year_platform['max'] - year_platform['min'])+1\n",
    "year_platform.columns=['min_year','max_year','duration']\n",
    "year_platform = year_platform.sort_values(by='min_year', ascending=True)\n",
    "year_platform"
   ]
  },
  {
   "cell_type": "code",
   "execution_count": 42,
   "id": "f153c583",
   "metadata": {
    "ExecuteTime": {
     "end_time": "2023-08-14T04:27:09.304983Z",
     "start_time": "2023-08-14T04:27:09.166854Z"
    }
   },
   "outputs": [
    {
     "data": {
      "image/png": "[encoded data removed]",
      "text/plain": [
       "<Figure size 640x480 with 1 Axes>"
      ]
     },
     "metadata": {},
     "output_type": "display_data"
    }
   ],
   "source": [
    "sns.histplot(data=year_platform, x=\"duration\",bins = [0,5,10,15,20,25,30,35])\n",
    "plt.grid()"
   ]
  },
  {
   "cell_type": "markdown",
   "id": "55c7fb36",
   "metadata": {},
   "source": [
    "From the data above,a new platforms likely to appear around 2 to 3 years. An old platforms will fade generally at most around 15 years after released. From the histogram, only 2 platform that reach more than 15 years. The data are filter from the platform that still can generate sales in 2016 due to the possibility to that platform sales is 0 sales for the next year is not impossible.  "
   ]
  },
  {
   "cell_type": "markdown",
   "id": "82597dff",
   "metadata": {},
   "source": [
    " "
   ]
  },
  {
   "cell_type": "markdown",
   "id": "b6421319",
   "metadata": {},
   "source": [
    "## Forecasting platform "
   ]
  },
  {
   "cell_type": "markdown",
   "id": "1f2ff109",
   "metadata": {},
   "source": [
    "Determine what period you should take data for. To do so, look at your answers to the previous questions. The data should allow you to build a model for 2017.\n",
    "\n",
    "Work only with the data that you've decided is relevant. Disregard the data for previous years.\n",
    "\n",
    "Which platforms are leading in sales? Which ones are growing or shrinking? Select several potentially profitable platforms."
   ]
  },
  {
   "cell_type": "markdown",
   "id": "4b63fb50",
   "metadata": {},
   "source": [
    "### Lineplot"
   ]
  },
  {
   "cell_type": "markdown",
   "id": "e9219550",
   "metadata": {},
   "source": [
    "From the general observation, games from 2012 to 2016 are the relevant years for forecasting for 2017. Filter games from 2012 to 2016 and put in other variable. Lets review the distribution of total sales in 2012 to 2016 for each platform."
   ]
  },
  {
   "cell_type": "code",
   "execution_count": 43,
   "id": "cdd57418",
   "metadata": {
    "ExecuteTime": {
     "end_time": "2023-08-14T04:27:09.321070Z",
     "start_time": "2023-08-14T04:27:09.305984Z"
    },
    "scrolled": true
   },
   "outputs": [
    {
     "data": {
      "text/html": [
       "<div>\n",
       "<style scoped>\n",
       "    .dataframe tbody tr th:only-of-type {\n",
       "        vertical-align: middle;\n",
       "    }\n",
       "\n",
       "    .dataframe tbody tr th {\n",
       "        vertical-align: top;\n",
       "    }\n",
       "\n",
       "    .dataframe thead th {\n",
       "        text-align: right;\n",
       "    }\n",
       "</style>\n",
       "<table border=\"1\" class=\"dataframe\">\n",
       "  <thead>\n",
       "    <tr style=\"text-align: right;\">\n",
       "      <th></th>\n",
       "      <th>name</th>\n",
       "      <th>platform</th>\n",
       "      <th>year_of_release</th>\n",
       "      <th>genre</th>\n",
       "      <th>na_sales</th>\n",
       "      <th>eu_sales</th>\n",
       "      <th>jp_sales</th>\n",
       "      <th>other_sales</th>\n",
       "      <th>critic_score</th>\n",
       "      <th>user_score</th>\n",
       "      <th>rating</th>\n",
       "      <th>total_sales</th>\n",
       "    </tr>\n",
       "  </thead>\n",
       "  <tbody>\n",
       "    <tr>\n",
       "      <th>16</th>\n",
       "      <td>Grand Theft Auto V</td>\n",
       "      <td>PS3</td>\n",
       "      <td>2013</td>\n",
       "      <td>Action</td>\n",
       "      <td>7.02</td>\n",
       "      <td>9.09</td>\n",
       "      <td>0.98</td>\n",
       "      <td>3.96</td>\n",
       "      <td>97.0</td>\n",
       "      <td>8.20</td>\n",
       "      <td>M</td>\n",
       "      <td>21.05</td>\n",
       "    </tr>\n",
       "    <tr>\n",
       "      <th>23</th>\n",
       "      <td>Grand Theft Auto V</td>\n",
       "      <td>X360</td>\n",
       "      <td>2013</td>\n",
       "      <td>Action</td>\n",
       "      <td>9.66</td>\n",
       "      <td>5.14</td>\n",
       "      <td>0.06</td>\n",
       "      <td>1.41</td>\n",
       "      <td>97.0</td>\n",
       "      <td>8.10</td>\n",
       "      <td>M</td>\n",
       "      <td>16.27</td>\n",
       "    </tr>\n",
       "    <tr>\n",
       "      <th>31</th>\n",
       "      <td>Call of Duty: Black Ops 3</td>\n",
       "      <td>PS4</td>\n",
       "      <td>2015</td>\n",
       "      <td>Shooter</td>\n",
       "      <td>6.03</td>\n",
       "      <td>5.86</td>\n",
       "      <td>0.36</td>\n",
       "      <td>2.38</td>\n",
       "      <td>90.6</td>\n",
       "      <td>6.34</td>\n",
       "      <td>unknown</td>\n",
       "      <td>14.63</td>\n",
       "    </tr>\n",
       "    <tr>\n",
       "      <th>33</th>\n",
       "      <td>Pokemon X/Pokemon Y</td>\n",
       "      <td>3DS</td>\n",
       "      <td>2013</td>\n",
       "      <td>Role-Playing</td>\n",
       "      <td>5.28</td>\n",
       "      <td>4.19</td>\n",
       "      <td>4.35</td>\n",
       "      <td>0.78</td>\n",
       "      <td>85.2</td>\n",
       "      <td>7.92</td>\n",
       "      <td>unknown</td>\n",
       "      <td>14.60</td>\n",
       "    </tr>\n",
       "    <tr>\n",
       "      <th>34</th>\n",
       "      <td>Call of Duty: Black Ops II</td>\n",
       "      <td>PS3</td>\n",
       "      <td>2012</td>\n",
       "      <td>Shooter</td>\n",
       "      <td>4.99</td>\n",
       "      <td>5.73</td>\n",
       "      <td>0.65</td>\n",
       "      <td>2.42</td>\n",
       "      <td>83.0</td>\n",
       "      <td>5.30</td>\n",
       "      <td>M</td>\n",
       "      <td>13.79</td>\n",
       "    </tr>\n",
       "  </tbody>\n",
       "</table>\n",
       "</div>"
      ],
      "text/plain": [
       "                          name platform  year_of_release         genre  \\\n",
       "16          Grand Theft Auto V      PS3             2013        Action   \n",
       "23          Grand Theft Auto V     X360             2013        Action   \n",
       "31   Call of Duty: Black Ops 3      PS4             2015       Shooter   \n",
       "33         Pokemon X/Pokemon Y      3DS             2013  Role-Playing   \n",
       "34  Call of Duty: Black Ops II      PS3             2012       Shooter   \n",
       "\n",
       "    na_sales  eu_sales  jp_sales  other_sales  critic_score  user_score  \\\n",
       "16      7.02      9.09      0.98         3.96          97.0        8.20   \n",
       "23      9.66      5.14      0.06         1.41          97.0        8.10   \n",
       "31      6.03      5.86      0.36         2.38          90.6        6.34   \n",
       "33      5.28      4.19      4.35         0.78          85.2        7.92   \n",
       "34      4.99      5.73      0.65         2.42          83.0        5.30   \n",
       "\n",
       "     rating  total_sales  \n",
       "16        M        21.05  \n",
       "23        M        16.27  \n",
       "31  unknown        14.63  \n",
       "33  unknown        14.60  \n",
       "34        M        13.79  "
      ]
     },
     "execution_count": 43,
     "metadata": {},
     "output_type": "execute_result"
    }
   ],
   "source": [
    "filt_games = games[games['year_of_release'] >=2012]\n",
    "filt_games.head()"
   ]
  },
  {
   "cell_type": "code",
   "execution_count": 44,
   "id": "fc38bdc1",
   "metadata": {
    "ExecuteTime": {
     "end_time": "2023-08-14T04:27:09.571459Z",
     "start_time": "2023-08-14T04:27:09.322162Z"
    }
   },
   "outputs": [
    {
     "data": {
      "image/png": "[encoded data removed]",
      "text/plain": [
       "<Figure size 800x500 with 1 Axes>"
      ]
     },
     "metadata": {},
     "output_type": "display_data"
    }
   ],
   "source": [
    "games_relevant_sales = platform_no_zero_sales[platform_no_zero_sales['year_of_release'] >=2012]\n",
    "fig = plt.subplots(figsize =(8, 5))\n",
    "sns.lineplot(data=games_relevant_sales, x=\"year_of_release\", y=\"total_sales\", hue=\"platform\", style=\"platform\",markers=True, dashes=False,palette=None)\n",
    "plt.legend(bbox_to_anchor = (1.2, 1), loc = 'upper center')\n",
    "plt.title('Total Sales vs Year of Released for Each Platforms')\n",
    "plt.grid()\n",
    "plt.show()"
   ]
  },
  {
   "cell_type": "markdown",
   "id": "ebc4c302",
   "metadata": {},
   "source": [
    "Lets review the latest platform in relevant_years variable. "
   ]
  },
  {
   "cell_type": "code",
   "execution_count": 45,
   "id": "a345778e",
   "metadata": {
    "ExecuteTime": {
     "end_time": "2023-08-14T04:27:09.587484Z",
     "start_time": "2023-08-14T04:27:09.572460Z"
    }
   },
   "outputs": [
    {
     "data": {
      "text/html": [
       "<div>\n",
       "<style scoped>\n",
       "    .dataframe tbody tr th:only-of-type {\n",
       "        vertical-align: middle;\n",
       "    }\n",
       "\n",
       "    .dataframe tbody tr th {\n",
       "        vertical-align: top;\n",
       "    }\n",
       "\n",
       "    .dataframe thead th {\n",
       "        text-align: right;\n",
       "    }\n",
       "</style>\n",
       "<table border=\"1\" class=\"dataframe\">\n",
       "  <thead>\n",
       "    <tr style=\"text-align: right;\">\n",
       "      <th></th>\n",
       "      <th>platform</th>\n",
       "      <th>year_of_release</th>\n",
       "      <th>total_sales</th>\n",
       "    </tr>\n",
       "  </thead>\n",
       "  <tbody>\n",
       "    <tr>\n",
       "      <th>27</th>\n",
       "      <td>Wii</td>\n",
       "      <td>2016</td>\n",
       "      <td>0.18</td>\n",
       "    </tr>\n",
       "    <tr>\n",
       "      <th>175</th>\n",
       "      <td>X360</td>\n",
       "      <td>2016</td>\n",
       "      <td>1.52</td>\n",
       "    </tr>\n",
       "    <tr>\n",
       "      <th>212</th>\n",
       "      <td>PS3</td>\n",
       "      <td>2016</td>\n",
       "      <td>3.60</td>\n",
       "    </tr>\n",
       "    <tr>\n",
       "      <th>841</th>\n",
       "      <td>PSV</td>\n",
       "      <td>2016</td>\n",
       "      <td>4.25</td>\n",
       "    </tr>\n",
       "    <tr>\n",
       "      <th>693</th>\n",
       "      <td>WiiU</td>\n",
       "      <td>2016</td>\n",
       "      <td>4.60</td>\n",
       "    </tr>\n",
       "    <tr>\n",
       "      <th>545</th>\n",
       "      <td>PC</td>\n",
       "      <td>2016</td>\n",
       "      <td>5.25</td>\n",
       "    </tr>\n",
       "    <tr>\n",
       "      <th>397</th>\n",
       "      <td>3DS</td>\n",
       "      <td>2016</td>\n",
       "      <td>15.14</td>\n",
       "    </tr>\n",
       "    <tr>\n",
       "      <th>656</th>\n",
       "      <td>XOne</td>\n",
       "      <td>2016</td>\n",
       "      <td>26.15</td>\n",
       "    </tr>\n",
       "    <tr>\n",
       "      <th>360</th>\n",
       "      <td>PS4</td>\n",
       "      <td>2016</td>\n",
       "      <td>69.25</td>\n",
       "    </tr>\n",
       "  </tbody>\n",
       "</table>\n",
       "</div>"
      ],
      "text/plain": [
       "    platform  year_of_release  total_sales\n",
       "27       Wii             2016         0.18\n",
       "175     X360             2016         1.52\n",
       "212      PS3             2016         3.60\n",
       "841      PSV             2016         4.25\n",
       "693     WiiU             2016         4.60\n",
       "545       PC             2016         5.25\n",
       "397      3DS             2016        15.14\n",
       "656     XOne             2016        26.15\n",
       "360      PS4             2016        69.25"
      ]
     },
     "execution_count": 45,
     "metadata": {},
     "output_type": "execute_result"
    }
   ],
   "source": [
    "games_relevant_sales[games_relevant_sales['year_of_release'] ==2016].sort_values(by='total_sales')"
   ]
  },
  {
   "cell_type": "markdown",
   "id": "73412718",
   "metadata": {},
   "source": [
    "**Observations**\n",
    "\n",
    "<u>Top 4 platform</u>\n",
    "\n",
    "    1) PS 4 \n",
    "    2) XOne \n",
    "    3) 3DS \n",
    "    4) PC \n",
    "\n",
    "- PS 4 is the highest sales while XOne place second from 2014 to 2016 (3years). These 2 platforms maybe will continue to drop in 2017 but still get the top 2 platform is sales due to the newest technology and the games will be more variety and more games will compatible with the platform.\n",
    "\n",
    "- 3DS peak total sales around 60 to 70 million USD in 2011 but constantly decline for the next years. Here, maybe in 2017, the graph will be continued to drop in total sales with the same margin.\n",
    "\n",
    "- PC is the most stable platform for games from 2010 to 2016. Eventhough this platform highest sales around 30 million USD in 2011, but the sales drop in low percentage from 2013 to 2016. Here, maybe in 2017, the sales will be around the same valued or may it least just a bit from the sales in 2016.\n",
    "\n",
    "<u>Others platform</u>\n",
    "\n",
    "- PS 3: start to decline in total sales in year 2013 and continue to fall in year 2016 with very significant percentage drop. \n",
    "- Wii :\tsales in 2016 doesnt reach 1 million USD, and maybe reach 0 sales in 2017 based on graph.\n",
    "- X360: same story with PS 3\n",
    "- PSP : graph show PSP last sales in year 2015\n",
    "- DS  : graph show last sales in yer 2013\n",
    "- PSV : graph show total sales per year is declining in a small percentage.\n",
    "- WiiU: WiiU show a better trend sales compare to PSV. The sales show that in 2017,both PSV and WiiU games still in demands."
   ]
  },
  {
   "cell_type": "markdown",
   "id": "48b3168f",
   "metadata": {},
   "source": [
    "### Boxplot"
   ]
  },
  {
   "cell_type": "markdown",
   "id": "2646f4f0",
   "metadata": {},
   "source": [
    "Build a box plot for the global sales of all games by platform from 2012 to 2016."
   ]
  },
  {
   "cell_type": "code",
   "execution_count": 46,
   "id": "f12baf7b",
   "metadata": {
    "ExecuteTime": {
     "end_time": "2023-08-14T04:27:09.603500Z",
     "start_time": "2023-08-14T04:27:09.588484Z"
    }
   },
   "outputs": [
    {
     "data": {
      "text/html": [
       "<div>\n",
       "<style scoped>\n",
       "    .dataframe tbody tr th:only-of-type {\n",
       "        vertical-align: middle;\n",
       "    }\n",
       "\n",
       "    .dataframe tbody tr th {\n",
       "        vertical-align: top;\n",
       "    }\n",
       "\n",
       "    .dataframe thead th {\n",
       "        text-align: right;\n",
       "    }\n",
       "</style>\n",
       "<table border=\"1\" class=\"dataframe\">\n",
       "  <thead>\n",
       "    <tr style=\"text-align: right;\">\n",
       "      <th></th>\n",
       "      <th>platform</th>\n",
       "      <th>mean</th>\n",
       "      <th>variance</th>\n",
       "      <th>std</th>\n",
       "    </tr>\n",
       "  </thead>\n",
       "  <tbody>\n",
       "    <tr>\n",
       "      <th>0</th>\n",
       "      <td>3DS</td>\n",
       "      <td>39.0960</td>\n",
       "      <td>301.514680</td>\n",
       "      <td>17.364178</td>\n",
       "    </tr>\n",
       "    <tr>\n",
       "      <th>1</th>\n",
       "      <td>DS</td>\n",
       "      <td>6.6050</td>\n",
       "      <td>51.308450</td>\n",
       "      <td>7.162992</td>\n",
       "    </tr>\n",
       "    <tr>\n",
       "      <th>2</th>\n",
       "      <td>PC</td>\n",
       "      <td>12.7020</td>\n",
       "      <td>47.242470</td>\n",
       "      <td>6.873316</td>\n",
       "    </tr>\n",
       "    <tr>\n",
       "      <th>3</th>\n",
       "      <td>PS3</td>\n",
       "      <td>57.9420</td>\n",
       "      <td>2585.158520</td>\n",
       "      <td>50.844454</td>\n",
       "    </tr>\n",
       "    <tr>\n",
       "      <th>4</th>\n",
       "      <td>PS4</td>\n",
       "      <td>78.5350</td>\n",
       "      <td>1645.755900</td>\n",
       "      <td>40.567917</td>\n",
       "    </tr>\n",
       "    <tr>\n",
       "      <th>5</th>\n",
       "      <td>PSP</td>\n",
       "      <td>2.9225</td>\n",
       "      <td>13.511625</td>\n",
       "      <td>3.675816</td>\n",
       "    </tr>\n",
       "    <tr>\n",
       "      <th>6</th>\n",
       "      <td>PSV</td>\n",
       "      <td>9.8880</td>\n",
       "      <td>22.598020</td>\n",
       "      <td>4.753737</td>\n",
       "    </tr>\n",
       "    <tr>\n",
       "      <th>7</th>\n",
       "      <td>Wii</td>\n",
       "      <td>7.3200</td>\n",
       "      <td>86.878550</td>\n",
       "      <td>9.320866</td>\n",
       "    </tr>\n",
       "    <tr>\n",
       "      <th>8</th>\n",
       "      <td>WiiU</td>\n",
       "      <td>16.4380</td>\n",
       "      <td>49.960070</td>\n",
       "      <td>7.068244</td>\n",
       "    </tr>\n",
       "    <tr>\n",
       "      <th>9</th>\n",
       "      <td>X360</td>\n",
       "      <td>47.5040</td>\n",
       "      <td>2015.001080</td>\n",
       "      <td>44.888763</td>\n",
       "    </tr>\n",
       "    <tr>\n",
       "      <th>10</th>\n",
       "      <td>XOne</td>\n",
       "      <td>39.8300</td>\n",
       "      <td>412.657667</td>\n",
       "      <td>20.313977</td>\n",
       "    </tr>\n",
       "  </tbody>\n",
       "</table>\n",
       "</div>"
      ],
      "text/plain": [
       "   platform     mean     variance        std\n",
       "0       3DS  39.0960   301.514680  17.364178\n",
       "1        DS   6.6050    51.308450   7.162992\n",
       "2        PC  12.7020    47.242470   6.873316\n",
       "3       PS3  57.9420  2585.158520  50.844454\n",
       "4       PS4  78.5350  1645.755900  40.567917\n",
       "5       PSP   2.9225    13.511625   3.675816\n",
       "6       PSV   9.8880    22.598020   4.753737\n",
       "7       Wii   7.3200    86.878550   9.320866\n",
       "8      WiiU  16.4380    49.960070   7.068244\n",
       "9      X360  47.5040  2015.001080  44.888763\n",
       "10     XOne  39.8300   412.657667  20.313977"
      ]
     },
     "execution_count": 46,
     "metadata": {},
     "output_type": "execute_result"
    }
   ],
   "source": [
    "boxplot = pd.pivot_table(data= games_relevant_sales,\n",
    "             index=['platform'],\n",
    "             values= 'total_sales',\n",
    "             aggfunc=[np.mean, np.var, np.std]).reset_index()\n",
    "\n",
    "boxplot.columns = ['platform','mean', 'variance', 'std']\n",
    "boxplot"
   ]
  },
  {
   "cell_type": "code",
   "execution_count": 47,
   "id": "cdca2d1b",
   "metadata": {
    "ExecuteTime": {
     "end_time": "2023-08-14T04:27:09.791309Z",
     "start_time": "2023-08-14T04:27:09.604501Z"
    }
   },
   "outputs": [
    {
     "data": {
      "image/png": "[encoded data removed]",
      "text/plain": [
       "<Figure size 1500x500 with 1 Axes>"
      ]
     },
     "metadata": {},
     "output_type": "display_data"
    }
   ],
   "source": [
    "fig = plt.subplots(figsize =(15, 5))\n",
    "sns.boxplot(x='platform',y='total_sales',data=games_relevant_sales)\n",
    "plt.title('Total Sales vs Platform')\n",
    "plt.grid()\n",
    "plt.show()"
   ]
  },
  {
   "cell_type": "markdown",
   "id": "6286f1c1",
   "metadata": {},
   "source": [
    "From the boxplot, the top platform that can be considered popular in from 2012 to 2016 are PS4,PS3,XOne,X360 and 3DS. These 5 have very significant total sales from the rest of the platforms. From the top 5 platforms, the average sales for PS 4 is the highest and has a large difference margin from the rest.  "
   ]
  },
  {
   "cell_type": "markdown",
   "id": "de44e090",
   "metadata": {},
   "source": [
    " "
   ]
  },
  {
   "cell_type": "markdown",
   "id": "0a8ffa08",
   "metadata": {},
   "source": [
    "## Forecasting critic and users score"
   ]
  },
  {
   "cell_type": "markdown",
   "id": "9c8143f7",
   "metadata": {},
   "source": [
    "Now,lest take a look at how user and professional reviews affect sales for one popular platform which was PS4 by using scatterplot. Then, calculate the correlation between reviews and sales."
   ]
  },
  {
   "cell_type": "code",
   "execution_count": 48,
   "id": "f3075271",
   "metadata": {
    "ExecuteTime": {
     "end_time": "2023-08-14T04:27:09.806833Z",
     "start_time": "2023-08-14T04:27:09.792309Z"
    }
   },
   "outputs": [
    {
     "data": {
      "text/html": [
       "<div>\n",
       "<style scoped>\n",
       "    .dataframe tbody tr th:only-of-type {\n",
       "        vertical-align: middle;\n",
       "    }\n",
       "\n",
       "    .dataframe tbody tr th {\n",
       "        vertical-align: top;\n",
       "    }\n",
       "\n",
       "    .dataframe thead th {\n",
       "        text-align: right;\n",
       "    }\n",
       "</style>\n",
       "<table border=\"1\" class=\"dataframe\">\n",
       "  <thead>\n",
       "    <tr style=\"text-align: right;\">\n",
       "      <th></th>\n",
       "      <th>name</th>\n",
       "      <th>platform</th>\n",
       "      <th>year_of_release</th>\n",
       "      <th>genre</th>\n",
       "      <th>na_sales</th>\n",
       "      <th>eu_sales</th>\n",
       "      <th>jp_sales</th>\n",
       "      <th>other_sales</th>\n",
       "      <th>critic_score</th>\n",
       "      <th>user_score</th>\n",
       "      <th>rating</th>\n",
       "      <th>total_sales</th>\n",
       "    </tr>\n",
       "  </thead>\n",
       "  <tbody>\n",
       "    <tr>\n",
       "      <th>16</th>\n",
       "      <td>Grand Theft Auto V</td>\n",
       "      <td>PS3</td>\n",
       "      <td>2013</td>\n",
       "      <td>Action</td>\n",
       "      <td>7.02</td>\n",
       "      <td>9.09</td>\n",
       "      <td>0.98</td>\n",
       "      <td>3.96</td>\n",
       "      <td>97.0</td>\n",
       "      <td>8.20</td>\n",
       "      <td>M</td>\n",
       "      <td>21.05</td>\n",
       "    </tr>\n",
       "    <tr>\n",
       "      <th>23</th>\n",
       "      <td>Grand Theft Auto V</td>\n",
       "      <td>X360</td>\n",
       "      <td>2013</td>\n",
       "      <td>Action</td>\n",
       "      <td>9.66</td>\n",
       "      <td>5.14</td>\n",
       "      <td>0.06</td>\n",
       "      <td>1.41</td>\n",
       "      <td>97.0</td>\n",
       "      <td>8.10</td>\n",
       "      <td>M</td>\n",
       "      <td>16.27</td>\n",
       "    </tr>\n",
       "    <tr>\n",
       "      <th>31</th>\n",
       "      <td>Call of Duty: Black Ops 3</td>\n",
       "      <td>PS4</td>\n",
       "      <td>2015</td>\n",
       "      <td>Shooter</td>\n",
       "      <td>6.03</td>\n",
       "      <td>5.86</td>\n",
       "      <td>0.36</td>\n",
       "      <td>2.38</td>\n",
       "      <td>90.6</td>\n",
       "      <td>6.34</td>\n",
       "      <td>unknown</td>\n",
       "      <td>14.63</td>\n",
       "    </tr>\n",
       "    <tr>\n",
       "      <th>33</th>\n",
       "      <td>Pokemon X/Pokemon Y</td>\n",
       "      <td>3DS</td>\n",
       "      <td>2013</td>\n",
       "      <td>Role-Playing</td>\n",
       "      <td>5.28</td>\n",
       "      <td>4.19</td>\n",
       "      <td>4.35</td>\n",
       "      <td>0.78</td>\n",
       "      <td>85.2</td>\n",
       "      <td>7.92</td>\n",
       "      <td>unknown</td>\n",
       "      <td>14.60</td>\n",
       "    </tr>\n",
       "    <tr>\n",
       "      <th>34</th>\n",
       "      <td>Call of Duty: Black Ops II</td>\n",
       "      <td>PS3</td>\n",
       "      <td>2012</td>\n",
       "      <td>Shooter</td>\n",
       "      <td>4.99</td>\n",
       "      <td>5.73</td>\n",
       "      <td>0.65</td>\n",
       "      <td>2.42</td>\n",
       "      <td>83.0</td>\n",
       "      <td>5.30</td>\n",
       "      <td>M</td>\n",
       "      <td>13.79</td>\n",
       "    </tr>\n",
       "    <tr>\n",
       "      <th>...</th>\n",
       "      <td>...</td>\n",
       "      <td>...</td>\n",
       "      <td>...</td>\n",
       "      <td>...</td>\n",
       "      <td>...</td>\n",
       "      <td>...</td>\n",
       "      <td>...</td>\n",
       "      <td>...</td>\n",
       "      <td>...</td>\n",
       "      <td>...</td>\n",
       "      <td>...</td>\n",
       "      <td>...</td>\n",
       "    </tr>\n",
       "    <tr>\n",
       "      <th>16701</th>\n",
       "      <td>Strawberry Nauts</td>\n",
       "      <td>PSV</td>\n",
       "      <td>2016</td>\n",
       "      <td>Adventure</td>\n",
       "      <td>0.00</td>\n",
       "      <td>0.00</td>\n",
       "      <td>0.01</td>\n",
       "      <td>0.00</td>\n",
       "      <td>71.0</td>\n",
       "      <td>7.88</td>\n",
       "      <td>unknown</td>\n",
       "      <td>0.01</td>\n",
       "    </tr>\n",
       "    <tr>\n",
       "      <th>16705</th>\n",
       "      <td>Aiyoku no Eustia</td>\n",
       "      <td>PSV</td>\n",
       "      <td>2014</td>\n",
       "      <td>Misc</td>\n",
       "      <td>0.00</td>\n",
       "      <td>0.00</td>\n",
       "      <td>0.01</td>\n",
       "      <td>0.00</td>\n",
       "      <td>71.0</td>\n",
       "      <td>7.88</td>\n",
       "      <td>unknown</td>\n",
       "      <td>0.01</td>\n",
       "    </tr>\n",
       "    <tr>\n",
       "      <th>16708</th>\n",
       "      <td>Samurai Warriors: Sanada Maru</td>\n",
       "      <td>PS3</td>\n",
       "      <td>2016</td>\n",
       "      <td>Action</td>\n",
       "      <td>0.00</td>\n",
       "      <td>0.00</td>\n",
       "      <td>0.01</td>\n",
       "      <td>0.00</td>\n",
       "      <td>71.0</td>\n",
       "      <td>7.88</td>\n",
       "      <td>unknown</td>\n",
       "      <td>0.01</td>\n",
       "    </tr>\n",
       "    <tr>\n",
       "      <th>16710</th>\n",
       "      <td>Haitaka no Psychedelica</td>\n",
       "      <td>PSV</td>\n",
       "      <td>2016</td>\n",
       "      <td>Adventure</td>\n",
       "      <td>0.00</td>\n",
       "      <td>0.00</td>\n",
       "      <td>0.01</td>\n",
       "      <td>0.00</td>\n",
       "      <td>71.0</td>\n",
       "      <td>7.88</td>\n",
       "      <td>unknown</td>\n",
       "      <td>0.01</td>\n",
       "    </tr>\n",
       "    <tr>\n",
       "      <th>16712</th>\n",
       "      <td>Winning Post 8 2016</td>\n",
       "      <td>PSV</td>\n",
       "      <td>2016</td>\n",
       "      <td>Simulation</td>\n",
       "      <td>0.00</td>\n",
       "      <td>0.00</td>\n",
       "      <td>0.01</td>\n",
       "      <td>0.00</td>\n",
       "      <td>71.0</td>\n",
       "      <td>7.88</td>\n",
       "      <td>unknown</td>\n",
       "      <td>0.01</td>\n",
       "    </tr>\n",
       "  </tbody>\n",
       "</table>\n",
       "<p>2905 rows × 12 columns</p>\n",
       "</div>"
      ],
      "text/plain": [
       "                                name platform  year_of_release         genre  \\\n",
       "16                Grand Theft Auto V      PS3             2013        Action   \n",
       "23                Grand Theft Auto V     X360             2013        Action   \n",
       "31         Call of Duty: Black Ops 3      PS4             2015       Shooter   \n",
       "33               Pokemon X/Pokemon Y      3DS             2013  Role-Playing   \n",
       "34        Call of Duty: Black Ops II      PS3             2012       Shooter   \n",
       "...                              ...      ...              ...           ...   \n",
       "16701               Strawberry Nauts      PSV             2016     Adventure   \n",
       "16705               Aiyoku no Eustia      PSV             2014          Misc   \n",
       "16708  Samurai Warriors: Sanada Maru      PS3             2016        Action   \n",
       "16710        Haitaka no Psychedelica      PSV             2016     Adventure   \n",
       "16712            Winning Post 8 2016      PSV             2016    Simulation   \n",
       "\n",
       "       na_sales  eu_sales  jp_sales  other_sales  critic_score  user_score  \\\n",
       "16         7.02      9.09      0.98         3.96          97.0        8.20   \n",
       "23         9.66      5.14      0.06         1.41          97.0        8.10   \n",
       "31         6.03      5.86      0.36         2.38          90.6        6.34   \n",
       "33         5.28      4.19      4.35         0.78          85.2        7.92   \n",
       "34         4.99      5.73      0.65         2.42          83.0        5.30   \n",
       "...         ...       ...       ...          ...           ...         ...   \n",
       "16701      0.00      0.00      0.01         0.00          71.0        7.88   \n",
       "16705      0.00      0.00      0.01         0.00          71.0        7.88   \n",
       "16708      0.00      0.00      0.01         0.00          71.0        7.88   \n",
       "16710      0.00      0.00      0.01         0.00          71.0        7.88   \n",
       "16712      0.00      0.00      0.01         0.00          71.0        7.88   \n",
       "\n",
       "        rating  total_sales  \n",
       "16           M        21.05  \n",
       "23           M        16.27  \n",
       "31     unknown        14.63  \n",
       "33     unknown        14.60  \n",
       "34           M        13.79  \n",
       "...        ...          ...  \n",
       "16701  unknown         0.01  \n",
       "16705  unknown         0.01  \n",
       "16708  unknown         0.01  \n",
       "16710  unknown         0.01  \n",
       "16712  unknown         0.01  \n",
       "\n",
       "[2905 rows x 12 columns]"
      ]
     },
     "execution_count": 48,
     "metadata": {},
     "output_type": "execute_result"
    }
   ],
   "source": [
    "filt_games"
   ]
  },
  {
   "cell_type": "code",
   "execution_count": 49,
   "id": "dbcbb5f9",
   "metadata": {
    "ExecuteTime": {
     "end_time": "2023-08-14T04:27:10.199898Z",
     "start_time": "2023-08-14T04:27:09.807834Z"
    }
   },
   "outputs": [
    {
     "data": {
      "text/plain": [
       "<Axes: title={'center': 'user score vs total sales'}, xlabel='user_score', ylabel='total_sales'>"
      ]
     },
     "execution_count": 49,
     "metadata": {},
     "output_type": "execute_result"
    },
    {
     "data": {
      "image/png": "[encoded data removed]",
      "text/plain": [
       "<Figure size 640x480 with 1 Axes>"
      ]
     },
     "metadata": {},
     "output_type": "display_data"
    },
    {
     "data": {
      "image/png": "[encoded data removed]",
      "text/plain": [
       "<Figure size 640x480 with 1 Axes>"
      ]
     },
     "metadata": {},
     "output_type": "display_data"
    }
   ],
   "source": [
    "ps4_data = filt_games[filt_games['platform']=='PS4']\n",
    "ps4_data.plot(x=\"critic_score\", y=\"total_sales\",kind='scatter',title = 'critic score vs total sales')\n",
    "ps4_data.plot(x=\"user_score\", y=\"total_sales\",kind='scatter',title = 'user score vs total sales')"
   ]
  },
  {
   "cell_type": "code",
   "execution_count": 50,
   "id": "8fe5ba41",
   "metadata": {
    "ExecuteTime": {
     "end_time": "2023-08-14T04:27:10.215450Z",
     "start_time": "2023-08-14T04:27:10.200413Z"
    }
   },
   "outputs": [
    {
     "data": {
      "text/html": [
       "<div>\n",
       "<style scoped>\n",
       "    .dataframe tbody tr th:only-of-type {\n",
       "        vertical-align: middle;\n",
       "    }\n",
       "\n",
       "    .dataframe tbody tr th {\n",
       "        vertical-align: top;\n",
       "    }\n",
       "\n",
       "    .dataframe thead th {\n",
       "        text-align: right;\n",
       "    }\n",
       "</style>\n",
       "<table border=\"1\" class=\"dataframe\">\n",
       "  <thead>\n",
       "    <tr style=\"text-align: right;\">\n",
       "      <th></th>\n",
       "      <th>critic_score</th>\n",
       "      <th>total_sales</th>\n",
       "    </tr>\n",
       "  </thead>\n",
       "  <tbody>\n",
       "    <tr>\n",
       "      <th>critic_score</th>\n",
       "      <td>1.00</td>\n",
       "      <td>0.27</td>\n",
       "    </tr>\n",
       "    <tr>\n",
       "      <th>total_sales</th>\n",
       "      <td>0.27</td>\n",
       "      <td>1.00</td>\n",
       "    </tr>\n",
       "  </tbody>\n",
       "</table>\n",
       "</div>"
      ],
      "text/plain": [
       "              critic_score  total_sales\n",
       "critic_score          1.00         0.27\n",
       "total_sales           0.27         1.00"
      ]
     },
     "execution_count": 50,
     "metadata": {},
     "output_type": "execute_result"
    }
   ],
   "source": [
    "# correlation critic_score\n",
    "critic_score= games[['critic_score','total_sales']]\n",
    "critic_score_corr = critic_score.corr()\n",
    "round(critic_score_corr,3)"
   ]
  },
  {
   "cell_type": "code",
   "execution_count": 51,
   "id": "260956d7",
   "metadata": {
    "ExecuteTime": {
     "end_time": "2023-08-14T04:27:10.230983Z",
     "start_time": "2023-08-14T04:27:10.216450Z"
    }
   },
   "outputs": [
    {
     "data": {
      "text/html": [
       "<div>\n",
       "<style scoped>\n",
       "    .dataframe tbody tr th:only-of-type {\n",
       "        vertical-align: middle;\n",
       "    }\n",
       "\n",
       "    .dataframe tbody tr th {\n",
       "        vertical-align: top;\n",
       "    }\n",
       "\n",
       "    .dataframe thead th {\n",
       "        text-align: right;\n",
       "    }\n",
       "</style>\n",
       "<table border=\"1\" class=\"dataframe\">\n",
       "  <thead>\n",
       "    <tr style=\"text-align: right;\">\n",
       "      <th></th>\n",
       "      <th>user_score</th>\n",
       "      <th>total_sales</th>\n",
       "    </tr>\n",
       "  </thead>\n",
       "  <tbody>\n",
       "    <tr>\n",
       "      <th>user_score</th>\n",
       "      <td>1.000</td>\n",
       "      <td>0.096</td>\n",
       "    </tr>\n",
       "    <tr>\n",
       "      <th>total_sales</th>\n",
       "      <td>0.096</td>\n",
       "      <td>1.000</td>\n",
       "    </tr>\n",
       "  </tbody>\n",
       "</table>\n",
       "</div>"
      ],
      "text/plain": [
       "             user_score  total_sales\n",
       "user_score        1.000        0.096\n",
       "total_sales       0.096        1.000"
      ]
     },
     "execution_count": 51,
     "metadata": {},
     "output_type": "execute_result"
    }
   ],
   "source": [
    "# correlation user_score\n",
    "user_score= games[['user_score','total_sales']]\n",
    "user_score_corr = user_score.corr()\n",
    "round(user_score_corr,3)"
   ]
  },
  {
   "cell_type": "markdown",
   "id": "d67f882a",
   "metadata": {},
   "source": [
    "From the scatterplot, critic score and users score shows that both give an influenced to the total sales. From the correlation, critic score give more influenced toward the total sales by 0.27 compare with the users score that just 0.096 which is very small value. An assumption can be made here is the critic score is more trusted as an indicator toward the value for the games either is it good or or not and effect the sales in that year.    \n"
   ]
  },
  {
   "cell_type": "markdown",
   "id": "b16abb80",
   "metadata": {},
   "source": [
    "Now, compare the sales of the same games on other platforms.\n"
   ]
  },
  {
   "cell_type": "code",
   "execution_count": 52,
   "id": "94cdbc43",
   "metadata": {
    "ExecuteTime": {
     "end_time": "2023-08-14T04:27:10.246503Z",
     "start_time": "2023-08-14T04:27:10.231984Z"
    }
   },
   "outputs": [
    {
     "data": {
      "text/plain": [
       "name\n",
       "Lego Star Wars: The Force Awakens                      7\n",
       "LEGO Marvel's Avengers                                 7\n",
       "Just Dance 2017                                        6\n",
       "Skylanders Imaginators                                 5\n",
       "NBA 2K17                                               5\n",
       "                                                      ..\n",
       "Diabolik Lovers: Lunatic Parade                        1\n",
       "Pac-Man Championship Edition 2 + Arcade Game Series    1\n",
       "Paper Mario: Color Splash                              1\n",
       "Paragon                                                1\n",
       " Beyblade Burst                                        1\n",
       "Name: platform, Length: 297, dtype: int64"
      ]
     },
     "execution_count": 52,
     "metadata": {},
     "output_type": "execute_result"
    }
   ],
   "source": [
    "# List games and platform count \n",
    "games_16 = filt_games[filt_games['year_of_release'] >=2016]\n",
    "games_16.groupby('name')['platform'].agg('count').sort_values(ascending=False)"
   ]
  },
  {
   "cell_type": "markdown",
   "id": "cc3b05a5",
   "metadata": {},
   "source": [
    "Check the games with highest number of platform."
   ]
  },
  {
   "cell_type": "code",
   "execution_count": 53,
   "id": "ca05857b",
   "metadata": {
    "ExecuteTime": {
     "end_time": "2023-08-14T04:27:10.262185Z",
     "start_time": "2023-08-14T04:27:10.247504Z"
    },
    "scrolled": true
   },
   "outputs": [
    {
     "data": {
      "text/html": [
       "<div>\n",
       "<style scoped>\n",
       "    .dataframe tbody tr th:only-of-type {\n",
       "        vertical-align: middle;\n",
       "    }\n",
       "\n",
       "    .dataframe tbody tr th {\n",
       "        vertical-align: top;\n",
       "    }\n",
       "\n",
       "    .dataframe thead th {\n",
       "        text-align: right;\n",
       "    }\n",
       "</style>\n",
       "<table border=\"1\" class=\"dataframe\">\n",
       "  <thead>\n",
       "    <tr style=\"text-align: right;\">\n",
       "      <th></th>\n",
       "      <th>name</th>\n",
       "      <th>platform</th>\n",
       "      <th>year_of_release</th>\n",
       "      <th>genre</th>\n",
       "      <th>na_sales</th>\n",
       "      <th>eu_sales</th>\n",
       "      <th>jp_sales</th>\n",
       "      <th>other_sales</th>\n",
       "      <th>critic_score</th>\n",
       "      <th>user_score</th>\n",
       "      <th>rating</th>\n",
       "      <th>total_sales</th>\n",
       "    </tr>\n",
       "  </thead>\n",
       "  <tbody>\n",
       "    <tr>\n",
       "      <th>2916</th>\n",
       "      <td>Lego Star Wars: The Force Awakens</td>\n",
       "      <td>PS4</td>\n",
       "      <td>2016</td>\n",
       "      <td>Action</td>\n",
       "      <td>0.16</td>\n",
       "      <td>0.43</td>\n",
       "      <td>0.01</td>\n",
       "      <td>0.11</td>\n",
       "      <td>78.0</td>\n",
       "      <td>7.50</td>\n",
       "      <td>E10+</td>\n",
       "      <td>0.71</td>\n",
       "    </tr>\n",
       "    <tr>\n",
       "      <th>5925</th>\n",
       "      <td>Lego Star Wars: The Force Awakens</td>\n",
       "      <td>XOne</td>\n",
       "      <td>2016</td>\n",
       "      <td>Action</td>\n",
       "      <td>0.14</td>\n",
       "      <td>0.13</td>\n",
       "      <td>0.00</td>\n",
       "      <td>0.02</td>\n",
       "      <td>76.0</td>\n",
       "      <td>7.00</td>\n",
       "      <td>E10+</td>\n",
       "      <td>0.29</td>\n",
       "    </tr>\n",
       "    <tr>\n",
       "      <th>8565</th>\n",
       "      <td>Lego Star Wars: The Force Awakens</td>\n",
       "      <td>PS3</td>\n",
       "      <td>2016</td>\n",
       "      <td>Action</td>\n",
       "      <td>0.04</td>\n",
       "      <td>0.10</td>\n",
       "      <td>0.00</td>\n",
       "      <td>0.03</td>\n",
       "      <td>68.6</td>\n",
       "      <td>5.72</td>\n",
       "      <td>E10+</td>\n",
       "      <td>0.17</td>\n",
       "    </tr>\n",
       "    <tr>\n",
       "      <th>8942</th>\n",
       "      <td>Lego Star Wars: The Force Awakens</td>\n",
       "      <td>WiiU</td>\n",
       "      <td>2016</td>\n",
       "      <td>Action</td>\n",
       "      <td>0.06</td>\n",
       "      <td>0.07</td>\n",
       "      <td>0.01</td>\n",
       "      <td>0.01</td>\n",
       "      <td>74.0</td>\n",
       "      <td>8.00</td>\n",
       "      <td>E10+</td>\n",
       "      <td>0.15</td>\n",
       "    </tr>\n",
       "    <tr>\n",
       "      <th>9718</th>\n",
       "      <td>Lego Star Wars: The Force Awakens</td>\n",
       "      <td>3DS</td>\n",
       "      <td>2016</td>\n",
       "      <td>Action</td>\n",
       "      <td>0.04</td>\n",
       "      <td>0.07</td>\n",
       "      <td>0.01</td>\n",
       "      <td>0.01</td>\n",
       "      <td>64.4</td>\n",
       "      <td>7.80</td>\n",
       "      <td>E10+</td>\n",
       "      <td>0.13</td>\n",
       "    </tr>\n",
       "    <tr>\n",
       "      <th>9805</th>\n",
       "      <td>Lego Star Wars: The Force Awakens</td>\n",
       "      <td>X360</td>\n",
       "      <td>2016</td>\n",
       "      <td>Action</td>\n",
       "      <td>0.05</td>\n",
       "      <td>0.06</td>\n",
       "      <td>0.00</td>\n",
       "      <td>0.01</td>\n",
       "      <td>60.8</td>\n",
       "      <td>6.90</td>\n",
       "      <td>E10+</td>\n",
       "      <td>0.12</td>\n",
       "    </tr>\n",
       "    <tr>\n",
       "      <th>10818</th>\n",
       "      <td>Lego Star Wars: The Force Awakens</td>\n",
       "      <td>PSV</td>\n",
       "      <td>2016</td>\n",
       "      <td>Action</td>\n",
       "      <td>0.01</td>\n",
       "      <td>0.06</td>\n",
       "      <td>0.01</td>\n",
       "      <td>0.02</td>\n",
       "      <td>65.0</td>\n",
       "      <td>7.10</td>\n",
       "      <td>E10+</td>\n",
       "      <td>0.10</td>\n",
       "    </tr>\n",
       "  </tbody>\n",
       "</table>\n",
       "</div>"
      ],
      "text/plain": [
       "                                    name platform  year_of_release   genre  \\\n",
       "2916   Lego Star Wars: The Force Awakens      PS4             2016  Action   \n",
       "5925   Lego Star Wars: The Force Awakens     XOne             2016  Action   \n",
       "8565   Lego Star Wars: The Force Awakens      PS3             2016  Action   \n",
       "8942   Lego Star Wars: The Force Awakens     WiiU             2016  Action   \n",
       "9718   Lego Star Wars: The Force Awakens      3DS             2016  Action   \n",
       "9805   Lego Star Wars: The Force Awakens     X360             2016  Action   \n",
       "10818  Lego Star Wars: The Force Awakens      PSV             2016  Action   \n",
       "\n",
       "       na_sales  eu_sales  jp_sales  other_sales  critic_score  user_score  \\\n",
       "2916       0.16      0.43      0.01         0.11          78.0        7.50   \n",
       "5925       0.14      0.13      0.00         0.02          76.0        7.00   \n",
       "8565       0.04      0.10      0.00         0.03          68.6        5.72   \n",
       "8942       0.06      0.07      0.01         0.01          74.0        8.00   \n",
       "9718       0.04      0.07      0.01         0.01          64.4        7.80   \n",
       "9805       0.05      0.06      0.00         0.01          60.8        6.90   \n",
       "10818      0.01      0.06      0.01         0.02          65.0        7.10   \n",
       "\n",
       "      rating  total_sales  \n",
       "2916    E10+         0.71  \n",
       "5925    E10+         0.29  \n",
       "8565    E10+         0.17  \n",
       "8942    E10+         0.15  \n",
       "9718    E10+         0.13  \n",
       "9805    E10+         0.12  \n",
       "10818   E10+         0.10  "
      ]
     },
     "execution_count": 53,
     "metadata": {},
     "output_type": "execute_result"
    }
   ],
   "source": [
    "filt_games[filt_games['name']=='Lego Star Wars: The Force Awakens'].sort_values(by='total_sales',ascending = False)"
   ]
  },
  {
   "cell_type": "code",
   "execution_count": 54,
   "id": "2de648c5",
   "metadata": {
    "ExecuteTime": {
     "end_time": "2023-08-14T04:27:10.278201Z",
     "start_time": "2023-08-14T04:27:10.263185Z"
    }
   },
   "outputs": [
    {
     "data": {
      "text/html": [
       "<div>\n",
       "<style scoped>\n",
       "    .dataframe tbody tr th:only-of-type {\n",
       "        vertical-align: middle;\n",
       "    }\n",
       "\n",
       "    .dataframe tbody tr th {\n",
       "        vertical-align: top;\n",
       "    }\n",
       "\n",
       "    .dataframe thead th {\n",
       "        text-align: right;\n",
       "    }\n",
       "</style>\n",
       "<table border=\"1\" class=\"dataframe\">\n",
       "  <thead>\n",
       "    <tr style=\"text-align: right;\">\n",
       "      <th></th>\n",
       "      <th>name</th>\n",
       "      <th>platform</th>\n",
       "      <th>year_of_release</th>\n",
       "      <th>genre</th>\n",
       "      <th>na_sales</th>\n",
       "      <th>eu_sales</th>\n",
       "      <th>jp_sales</th>\n",
       "      <th>other_sales</th>\n",
       "      <th>critic_score</th>\n",
       "      <th>user_score</th>\n",
       "      <th>rating</th>\n",
       "      <th>total_sales</th>\n",
       "    </tr>\n",
       "  </thead>\n",
       "  <tbody>\n",
       "    <tr>\n",
       "      <th>920</th>\n",
       "      <td>NBA 2K17</td>\n",
       "      <td>PS4</td>\n",
       "      <td>2016</td>\n",
       "      <td>Sports</td>\n",
       "      <td>1.25</td>\n",
       "      <td>0.27</td>\n",
       "      <td>0.02</td>\n",
       "      <td>0.34</td>\n",
       "      <td>88.0</td>\n",
       "      <td>6.7</td>\n",
       "      <td>E</td>\n",
       "      <td>1.88</td>\n",
       "    </tr>\n",
       "    <tr>\n",
       "      <th>2023</th>\n",
       "      <td>NBA 2K17</td>\n",
       "      <td>XOne</td>\n",
       "      <td>2016</td>\n",
       "      <td>Sports</td>\n",
       "      <td>0.86</td>\n",
       "      <td>0.06</td>\n",
       "      <td>0.00</td>\n",
       "      <td>0.11</td>\n",
       "      <td>90.0</td>\n",
       "      <td>6.2</td>\n",
       "      <td>E</td>\n",
       "      <td>1.03</td>\n",
       "    </tr>\n",
       "    <tr>\n",
       "      <th>9628</th>\n",
       "      <td>NBA 2K17</td>\n",
       "      <td>PS3</td>\n",
       "      <td>2016</td>\n",
       "      <td>Sports</td>\n",
       "      <td>0.06</td>\n",
       "      <td>0.04</td>\n",
       "      <td>0.00</td>\n",
       "      <td>0.02</td>\n",
       "      <td>52.0</td>\n",
       "      <td>2.0</td>\n",
       "      <td>E</td>\n",
       "      <td>0.12</td>\n",
       "    </tr>\n",
       "    <tr>\n",
       "      <th>9860</th>\n",
       "      <td>NBA 2K17</td>\n",
       "      <td>X360</td>\n",
       "      <td>2016</td>\n",
       "      <td>Sports</td>\n",
       "      <td>0.09</td>\n",
       "      <td>0.02</td>\n",
       "      <td>0.00</td>\n",
       "      <td>0.01</td>\n",
       "      <td>66.0</td>\n",
       "      <td>3.4</td>\n",
       "      <td>E</td>\n",
       "      <td>0.12</td>\n",
       "    </tr>\n",
       "    <tr>\n",
       "      <th>16118</th>\n",
       "      <td>NBA 2K17</td>\n",
       "      <td>PC</td>\n",
       "      <td>2016</td>\n",
       "      <td>Sports</td>\n",
       "      <td>0.00</td>\n",
       "      <td>0.01</td>\n",
       "      <td>0.00</td>\n",
       "      <td>0.00</td>\n",
       "      <td>90.0</td>\n",
       "      <td>6.3</td>\n",
       "      <td>E</td>\n",
       "      <td>0.01</td>\n",
       "    </tr>\n",
       "  </tbody>\n",
       "</table>\n",
       "</div>"
      ],
      "text/plain": [
       "           name platform  year_of_release   genre  na_sales  eu_sales  \\\n",
       "920    NBA 2K17      PS4             2016  Sports      1.25      0.27   \n",
       "2023   NBA 2K17     XOne             2016  Sports      0.86      0.06   \n",
       "9628   NBA 2K17      PS3             2016  Sports      0.06      0.04   \n",
       "9860   NBA 2K17     X360             2016  Sports      0.09      0.02   \n",
       "16118  NBA 2K17       PC             2016  Sports      0.00      0.01   \n",
       "\n",
       "       jp_sales  other_sales  critic_score  user_score rating  total_sales  \n",
       "920        0.02         0.34          88.0         6.7      E         1.88  \n",
       "2023       0.00         0.11          90.0         6.2      E         1.03  \n",
       "9628       0.00         0.02          52.0         2.0      E         0.12  \n",
       "9860       0.00         0.01          66.0         3.4      E         0.12  \n",
       "16118      0.00         0.00          90.0         6.3      E         0.01  "
      ]
     },
     "execution_count": 54,
     "metadata": {},
     "output_type": "execute_result"
    }
   ],
   "source": [
    "filt_games[filt_games['name']=='NBA 2K17'].sort_values(by='total_sales',ascending = False)"
   ]
  },
  {
   "cell_type": "markdown",
   "id": "b2129f0a",
   "metadata": {},
   "source": [
    "From the 2 table below, critic and user score affect the total sales but still random and sales. From the Lego Star Wars: The Force Awakens, WiiU plaform has higher critic and user score compare to PS3, but still has lower sales. The same story show in NBA 2K17, PC platform has very good critic and user score but sales show the lowest. Assumption can be made here is the sales for games is effect by the number of platform that already owned by customer. PS4, XOne, and PS3 has the huge number of ownership, therefore, this platform has higher sales compare to others platform. "
   ]
  },
  {
   "cell_type": "markdown",
   "id": "e2849c0e",
   "metadata": {},
   "source": [
    " "
   ]
  },
  {
   "cell_type": "markdown",
   "id": "c2f5e363",
   "metadata": {},
   "source": [
    "## Forecasting genres"
   ]
  },
  {
   "cell_type": "markdown",
   "id": "6e4ecda2",
   "metadata": {},
   "source": [
    "Let take a look at the general distribution of games by genre. Which the most profitable genres from the data and if the genres effected the sales? "
   ]
  },
  {
   "cell_type": "code",
   "execution_count": 55,
   "id": "a5a51f03",
   "metadata": {
    "ExecuteTime": {
     "end_time": "2023-08-14T04:27:10.716407Z",
     "start_time": "2023-08-14T04:27:10.279202Z"
    }
   },
   "outputs": [
    {
     "data": {
      "image/png": "[encoded data removed]",
      "text/plain": [
       "<Figure size 1200x700 with 1 Axes>"
      ]
     },
     "metadata": {},
     "output_type": "display_data"
    }
   ],
   "source": [
    "genre_games = games[['genre','total_sales']]\n",
    "genre_games = genre_games[genre_games['total_sales']!= 0.00]\n",
    "\n",
    "fig = plt.subplots(figsize =(12, 7))\n",
    "sns.barplot(x='genre',y='total_sales',data=genre_games)\n",
    "plt.title('Total Sales vs Genre')\n",
    "plt.grid()\n",
    "plt.show()"
   ]
  },
  {
   "cell_type": "markdown",
   "id": "ab31d9e4",
   "metadata": {},
   "source": [
    "From the barchart, genre platform has the highest sales followed by genre shooter. Adventure and strategy genre were the lowest sales and not prefered to advertise in 2017. The rest genres varied between 0.4 to 0.6 millions sales."
   ]
  },
  {
   "cell_type": "markdown",
   "id": "186aa95d",
   "metadata": {},
   "source": [
    " "
   ]
  },
  {
   "cell_type": "markdown",
   "id": "b50b9c58",
   "metadata": {},
   "source": [
    "# Create a user profile for each region"
   ]
  },
  {
   "cell_type": "markdown",
   "id": "71809113",
   "metadata": {},
   "source": [
    "   \n",
    "Lets find out the differences in top platforms, top genres, ESRB rating for each NA, EU, and JP region."
   ]
  },
  {
   "cell_type": "markdown",
   "id": "b5e0e8b9",
   "metadata": {},
   "source": [
    "## NA region"
   ]
  },
  {
   "cell_type": "markdown",
   "id": "40ec6585",
   "metadata": {},
   "source": [
    "### Top five platforms in NA region"
   ]
  },
  {
   "cell_type": "code",
   "execution_count": 56,
   "id": "faf63c03",
   "metadata": {
    "ExecuteTime": {
     "end_time": "2023-08-14T04:27:10.731655Z",
     "start_time": "2023-08-14T04:27:10.717910Z"
    }
   },
   "outputs": [],
   "source": [
    "def na_platform_sales(platform):\n",
    "    a = games.loc[games['platform'] == platform]\n",
    "    for row in a:\n",
    "        na_platform_sales = a.na_sales.sum()\n",
    "    \n",
    "    d = {'platform': [platform], 'na_platform_sales': [na_platform_sales]}\n",
    "    df = pd.DataFrame(data = d)\n",
    "    return (df)"
   ]
  },
  {
   "cell_type": "code",
   "execution_count": 57,
   "id": "f124664e",
   "metadata": {
    "ExecuteTime": {
     "end_time": "2023-08-14T04:27:10.810190Z",
     "start_time": "2023-08-14T04:27:10.732656Z"
    }
   },
   "outputs": [
    {
     "data": {
      "text/html": [
       "<div>\n",
       "<style scoped>\n",
       "    .dataframe tbody tr th:only-of-type {\n",
       "        vertical-align: middle;\n",
       "    }\n",
       "\n",
       "    .dataframe tbody tr th {\n",
       "        vertical-align: top;\n",
       "    }\n",
       "\n",
       "    .dataframe thead th {\n",
       "        text-align: right;\n",
       "    }\n",
       "</style>\n",
       "<table border=\"1\" class=\"dataframe\">\n",
       "  <thead>\n",
       "    <tr style=\"text-align: right;\">\n",
       "      <th></th>\n",
       "      <th>platform</th>\n",
       "      <th>na_platform_sales</th>\n",
       "    </tr>\n",
       "  </thead>\n",
       "  <tbody>\n",
       "    <tr>\n",
       "      <th>0</th>\n",
       "      <td>X360</td>\n",
       "      <td>602.47</td>\n",
       "    </tr>\n",
       "    <tr>\n",
       "      <th>1</th>\n",
       "      <td>PS2</td>\n",
       "      <td>583.84</td>\n",
       "    </tr>\n",
       "    <tr>\n",
       "      <th>2</th>\n",
       "      <td>Wii</td>\n",
       "      <td>496.90</td>\n",
       "    </tr>\n",
       "    <tr>\n",
       "      <th>3</th>\n",
       "      <td>PS3</td>\n",
       "      <td>393.49</td>\n",
       "    </tr>\n",
       "    <tr>\n",
       "      <th>4</th>\n",
       "      <td>DS</td>\n",
       "      <td>382.40</td>\n",
       "    </tr>\n",
       "    <tr>\n",
       "      <th>5</th>\n",
       "      <td>PS</td>\n",
       "      <td>336.52</td>\n",
       "    </tr>\n",
       "    <tr>\n",
       "      <th>6</th>\n",
       "      <td>GBA</td>\n",
       "      <td>187.54</td>\n",
       "    </tr>\n",
       "    <tr>\n",
       "      <th>7</th>\n",
       "      <td>XB</td>\n",
       "      <td>186.69</td>\n",
       "    </tr>\n",
       "    <tr>\n",
       "      <th>8</th>\n",
       "      <td>N64</td>\n",
       "      <td>139.02</td>\n",
       "    </tr>\n",
       "    <tr>\n",
       "      <th>9</th>\n",
       "      <td>GC</td>\n",
       "      <td>133.46</td>\n",
       "    </tr>\n",
       "  </tbody>\n",
       "</table>\n",
       "</div>"
      ],
      "text/plain": [
       "  platform  na_platform_sales\n",
       "0     X360             602.47\n",
       "1      PS2             583.84\n",
       "2      Wii             496.90\n",
       "3      PS3             393.49\n",
       "4       DS             382.40\n",
       "5       PS             336.52\n",
       "6      GBA             187.54\n",
       "7       XB             186.69\n",
       "8      N64             139.02\n",
       "9       GC             133.46"
      ]
     },
     "execution_count": 57,
     "metadata": {},
     "output_type": "execute_result"
    }
   ],
   "source": [
    "frame_list = []\n",
    "platform_list = games['platform'].unique()\n",
    "\n",
    "for platform in platform_list:\n",
    "    df = na_platform_sales(platform)\n",
    "    frame_list.append(df)\n",
    "    \n",
    "platform_na_sales = pd.concat(frame_list).reset_index()\n",
    "platform_na_sales = platform_na_sales.drop(['index'],axis=1)\n",
    "platform_na_sales = platform_na_sales.sort_values(by='na_platform_sales', ascending=False).reset_index().drop(columns='index')\n",
    "platform_na_sales.head(10)"
   ]
  },
  {
   "cell_type": "code",
   "execution_count": 58,
   "id": "075e59ac",
   "metadata": {
    "ExecuteTime": {
     "end_time": "2023-08-14T04:27:10.904605Z",
     "start_time": "2023-08-14T04:27:10.811511Z"
    }
   },
   "outputs": [
    {
     "data": {
      "image/png": "[encoded data removed]",
      "text/plain": [
       "<Figure size 800x400 with 1 Axes>"
      ]
     },
     "metadata": {},
     "output_type": "display_data"
    }
   ],
   "source": [
    "na_top_5_platform = platform_na_sales.iloc[:5]\n",
    "\n",
    "fig = plt.subplots(figsize =(8, 4))\n",
    "plt.barh(data = na_top_5_platform, y='platform', width='na_platform_sales')\n",
    "plt.title('Platform vs NA Platform Sales')\n",
    "plt.grid()\n",
    "plt.show()"
   ]
  },
  {
   "cell_type": "markdown",
   "id": "5ddd3b4c",
   "metadata": {},
   "source": [
    "In NA region, X360 reach the highest sales followed by PS2 that not far behind. PS3 and DS sales placed 4th and 5th where these 2 platforms reach more than 350 millions sales. Wii placed number 3 almost reach 500 millions sales.  "
   ]
  },
  {
   "cell_type": "markdown",
   "id": "bf7aa765",
   "metadata": {},
   "source": [
    " "
   ]
  },
  {
   "cell_type": "markdown",
   "id": "63da6c4d",
   "metadata": {},
   "source": [
    "### Top five genres in NA region"
   ]
  },
  {
   "cell_type": "code",
   "execution_count": 59,
   "id": "2c237522",
   "metadata": {
    "ExecuteTime": {
     "end_time": "2023-08-14T04:27:10.920619Z",
     "start_time": "2023-08-14T04:27:10.905605Z"
    }
   },
   "outputs": [],
   "source": [
    "def na_genres_sales(genre):\n",
    "    a = games.loc[games['genre'] == genre]\n",
    "    for row in a:\n",
    "        na_genres_sales = a.na_sales.sum()\n",
    "    \n",
    "    d = {'genre': [genre], 'na_genres_sales': [na_genres_sales]}\n",
    "    df = pd.DataFrame(data = d)\n",
    "    return (df)"
   ]
  },
  {
   "cell_type": "code",
   "execution_count": 60,
   "id": "1a36fa87",
   "metadata": {
    "ExecuteTime": {
     "end_time": "2023-08-14T04:27:10.952720Z",
     "start_time": "2023-08-14T04:27:10.921662Z"
    }
   },
   "outputs": [
    {
     "data": {
      "text/html": [
       "<div>\n",
       "<style scoped>\n",
       "    .dataframe tbody tr th:only-of-type {\n",
       "        vertical-align: middle;\n",
       "    }\n",
       "\n",
       "    .dataframe tbody tr th {\n",
       "        vertical-align: top;\n",
       "    }\n",
       "\n",
       "    .dataframe thead th {\n",
       "        text-align: right;\n",
       "    }\n",
       "</style>\n",
       "<table border=\"1\" class=\"dataframe\">\n",
       "  <thead>\n",
       "    <tr style=\"text-align: right;\">\n",
       "      <th></th>\n",
       "      <th>genre</th>\n",
       "      <th>na_genres_sales</th>\n",
       "    </tr>\n",
       "  </thead>\n",
       "  <tbody>\n",
       "    <tr>\n",
       "      <th>0</th>\n",
       "      <td>Action</td>\n",
       "      <td>879.01</td>\n",
       "    </tr>\n",
       "    <tr>\n",
       "      <th>1</th>\n",
       "      <td>Sports</td>\n",
       "      <td>684.43</td>\n",
       "    </tr>\n",
       "    <tr>\n",
       "      <th>2</th>\n",
       "      <td>Shooter</td>\n",
       "      <td>592.24</td>\n",
       "    </tr>\n",
       "    <tr>\n",
       "      <th>3</th>\n",
       "      <td>Platform</td>\n",
       "      <td>445.50</td>\n",
       "    </tr>\n",
       "    <tr>\n",
       "      <th>4</th>\n",
       "      <td>Misc</td>\n",
       "      <td>407.27</td>\n",
       "    </tr>\n",
       "    <tr>\n",
       "      <th>5</th>\n",
       "      <td>Racing</td>\n",
       "      <td>359.35</td>\n",
       "    </tr>\n",
       "    <tr>\n",
       "      <th>6</th>\n",
       "      <td>Role-Playing</td>\n",
       "      <td>330.81</td>\n",
       "    </tr>\n",
       "    <tr>\n",
       "      <th>7</th>\n",
       "      <td>Fighting</td>\n",
       "      <td>223.36</td>\n",
       "    </tr>\n",
       "    <tr>\n",
       "      <th>8</th>\n",
       "      <td>Simulation</td>\n",
       "      <td>181.92</td>\n",
       "    </tr>\n",
       "    <tr>\n",
       "      <th>9</th>\n",
       "      <td>Puzzle</td>\n",
       "      <td>122.87</td>\n",
       "    </tr>\n",
       "    <tr>\n",
       "      <th>10</th>\n",
       "      <td>Adventure</td>\n",
       "      <td>105.26</td>\n",
       "    </tr>\n",
       "    <tr>\n",
       "      <th>11</th>\n",
       "      <td>Strategy</td>\n",
       "      <td>68.55</td>\n",
       "    </tr>\n",
       "  </tbody>\n",
       "</table>\n",
       "</div>"
      ],
      "text/plain": [
       "           genre  na_genres_sales\n",
       "0         Action           879.01\n",
       "1         Sports           684.43\n",
       "2        Shooter           592.24\n",
       "3       Platform           445.50\n",
       "4           Misc           407.27\n",
       "5         Racing           359.35\n",
       "6   Role-Playing           330.81\n",
       "7       Fighting           223.36\n",
       "8     Simulation           181.92\n",
       "9         Puzzle           122.87\n",
       "10     Adventure           105.26\n",
       "11      Strategy            68.55"
      ]
     },
     "execution_count": 60,
     "metadata": {},
     "output_type": "execute_result"
    }
   ],
   "source": [
    "frame_list = []\n",
    "genre_list = games['genre'].unique()\n",
    "\n",
    "for genre in genre_list:\n",
    "    df = na_genres_sales(genre)\n",
    "    frame_list.append(df)\n",
    "    \n",
    "genre_na_sales = pd.concat(frame_list).reset_index()\n",
    "genre_na_sales = genre_na_sales.drop(['index'],axis=1)\n",
    "genre_na_sales = genre_na_sales.sort_values(by='na_genres_sales', ascending=False).reset_index().drop(columns='index')\n",
    "genre_na_sales"
   ]
  },
  {
   "cell_type": "markdown",
   "id": "0b5962c7",
   "metadata": {},
   "source": [
    " "
   ]
  },
  {
   "cell_type": "code",
   "execution_count": 61,
   "id": "d8082a2c",
   "metadata": {
    "ExecuteTime": {
     "end_time": "2023-08-14T04:27:11.047347Z",
     "start_time": "2023-08-14T04:27:10.953721Z"
    }
   },
   "outputs": [
    {
     "data": {
      "image/png": "[encoded data removed]",
      "text/plain": [
       "<Figure size 800x400 with 1 Axes>"
      ]
     },
     "metadata": {},
     "output_type": "display_data"
    }
   ],
   "source": [
    "genre_na_sales = genre_na_sales.iloc[:5]\n",
    "\n",
    "fig = plt.subplots(figsize =(8, 4))\n",
    "plt.barh(data = genre_na_sales, y='genre', width='na_genres_sales')\n",
    "plt.title('Platform vs NA Genre Sales')\n",
    "plt.grid()\n",
    "plt.show()"
   ]
  },
  {
   "cell_type": "markdown",
   "id": "5a4c6b51",
   "metadata": {},
   "source": [
    "In NA region, action genre reach the highest sales followed by sport genres that differ around 200 million sales. Platform and Misc sales placed 4th and 5th where these 2 platforms reach more than 400 millions sales. Shooter genre placed number 3 and  reach more than 500 millions sales. "
   ]
  },
  {
   "cell_type": "markdown",
   "id": "63d581d9",
   "metadata": {},
   "source": [
    "### ESRB ratings"
   ]
  },
  {
   "cell_type": "code",
   "execution_count": 62,
   "id": "a273d454",
   "metadata": {
    "ExecuteTime": {
     "end_time": "2023-08-14T04:27:11.063374Z",
     "start_time": "2023-08-14T04:27:11.048348Z"
    },
    "scrolled": true
   },
   "outputs": [
    {
     "data": {
      "text/html": [
       "<div>\n",
       "<style scoped>\n",
       "    .dataframe tbody tr th:only-of-type {\n",
       "        vertical-align: middle;\n",
       "    }\n",
       "\n",
       "    .dataframe tbody tr th {\n",
       "        vertical-align: top;\n",
       "    }\n",
       "\n",
       "    .dataframe thead th {\n",
       "        text-align: right;\n",
       "    }\n",
       "</style>\n",
       "<table border=\"1\" class=\"dataframe\">\n",
       "  <thead>\n",
       "    <tr style=\"text-align: right;\">\n",
       "      <th></th>\n",
       "      <th>rating</th>\n",
       "      <th>total_na_sales</th>\n",
       "    </tr>\n",
       "  </thead>\n",
       "  <tbody>\n",
       "    <tr>\n",
       "      <th>0</th>\n",
       "      <td>E</td>\n",
       "      <td>1343.39</td>\n",
       "    </tr>\n",
       "    <tr>\n",
       "      <th>1</th>\n",
       "      <td>unknown</td>\n",
       "      <td>1132.40</td>\n",
       "    </tr>\n",
       "    <tr>\n",
       "      <th>2</th>\n",
       "      <td>T</td>\n",
       "      <td>784.54</td>\n",
       "    </tr>\n",
       "    <tr>\n",
       "      <th>3</th>\n",
       "      <td>M</td>\n",
       "      <td>768.59</td>\n",
       "    </tr>\n",
       "    <tr>\n",
       "      <th>4</th>\n",
       "      <td>E10+</td>\n",
       "      <td>365.76</td>\n",
       "    </tr>\n",
       "    <tr>\n",
       "      <th>5</th>\n",
       "      <td>K-A</td>\n",
       "      <td>2.59</td>\n",
       "    </tr>\n",
       "    <tr>\n",
       "      <th>6</th>\n",
       "      <td>EC</td>\n",
       "      <td>2.04</td>\n",
       "    </tr>\n",
       "    <tr>\n",
       "      <th>7</th>\n",
       "      <td>AO</td>\n",
       "      <td>1.26</td>\n",
       "    </tr>\n",
       "    <tr>\n",
       "      <th>8</th>\n",
       "      <td>RP</td>\n",
       "      <td>0.00</td>\n",
       "    </tr>\n",
       "  </tbody>\n",
       "</table>\n",
       "</div>"
      ],
      "text/plain": [
       "    rating  total_na_sales\n",
       "0        E         1343.39\n",
       "1  unknown         1132.40\n",
       "2        T          784.54\n",
       "3        M          768.59\n",
       "4     E10+          365.76\n",
       "5      K-A            2.59\n",
       "6       EC            2.04\n",
       "7       AO            1.26\n",
       "8       RP            0.00"
      ]
     },
     "execution_count": 62,
     "metadata": {},
     "output_type": "execute_result"
    }
   ],
   "source": [
    "na_esrb_rating = pd.pivot_table(data = games, \n",
    "               index = 'rating',\n",
    "               values = 'na_sales',\n",
    "               aggfunc= np.sum).reset_index()\n",
    "\n",
    "na_esrb_rating.columns = ['rating','total_na_sales']\n",
    "\n",
    "na_esrb_rating = na_esrb_rating.sort_values(by='total_na_sales',ascending =False).reset_index().drop(columns='index')\n",
    "na_esrb_rating"
   ]
  },
  {
   "cell_type": "markdown",
   "id": "b540b24a",
   "metadata": {},
   "source": [
    "From the ESRB rating, rating E achieved the highest sales. Based on ESRB, E means for everyone which the game content is generally suitable for all ages. Age range for buyers more widely for these games that owned this rating. Therefore, ESRB rating is effect with the sales.   "
   ]
  },
  {
   "cell_type": "markdown",
   "id": "a5489bb7",
   "metadata": {},
   "source": [
    " "
   ]
  },
  {
   "cell_type": "markdown",
   "id": "f95789d8",
   "metadata": {},
   "source": [
    "## EU region"
   ]
  },
  {
   "cell_type": "markdown",
   "id": "46512173",
   "metadata": {},
   "source": [
    "### Top five platforms in EU region"
   ]
  },
  {
   "cell_type": "code",
   "execution_count": 63,
   "id": "bf95b5d6",
   "metadata": {
    "ExecuteTime": {
     "end_time": "2023-08-14T04:27:11.079418Z",
     "start_time": "2023-08-14T04:27:11.064398Z"
    }
   },
   "outputs": [],
   "source": [
    "def eu_platform_sales(platform):\n",
    "    a = games.loc[games['platform'] == platform]\n",
    "    for row in a:\n",
    "        eu_platform_sales = a.eu_sales.sum()\n",
    "    \n",
    "    d = {'platform': [platform], 'eu_platform_sales': [eu_platform_sales]}\n",
    "    df = pd.DataFrame(data = d)\n",
    "    return (df)"
   ]
  },
  {
   "cell_type": "code",
   "execution_count": 64,
   "id": "f3cb0f34",
   "metadata": {
    "ExecuteTime": {
     "end_time": "2023-08-14T04:27:11.141909Z",
     "start_time": "2023-08-14T04:27:11.080920Z"
    }
   },
   "outputs": [
    {
     "data": {
      "text/html": [
       "<div>\n",
       "<style scoped>\n",
       "    .dataframe tbody tr th:only-of-type {\n",
       "        vertical-align: middle;\n",
       "    }\n",
       "\n",
       "    .dataframe tbody tr th {\n",
       "        vertical-align: top;\n",
       "    }\n",
       "\n",
       "    .dataframe thead th {\n",
       "        text-align: right;\n",
       "    }\n",
       "</style>\n",
       "<table border=\"1\" class=\"dataframe\">\n",
       "  <thead>\n",
       "    <tr style=\"text-align: right;\">\n",
       "      <th></th>\n",
       "      <th>platform</th>\n",
       "      <th>eu_platform_sales</th>\n",
       "    </tr>\n",
       "  </thead>\n",
       "  <tbody>\n",
       "    <tr>\n",
       "      <th>0</th>\n",
       "      <td>PS2</td>\n",
       "      <td>339.29</td>\n",
       "    </tr>\n",
       "    <tr>\n",
       "      <th>1</th>\n",
       "      <td>PS3</td>\n",
       "      <td>330.29</td>\n",
       "    </tr>\n",
       "    <tr>\n",
       "      <th>2</th>\n",
       "      <td>X360</td>\n",
       "      <td>270.76</td>\n",
       "    </tr>\n",
       "    <tr>\n",
       "      <th>3</th>\n",
       "      <td>Wii</td>\n",
       "      <td>262.21</td>\n",
       "    </tr>\n",
       "    <tr>\n",
       "      <th>4</th>\n",
       "      <td>PS</td>\n",
       "      <td>213.61</td>\n",
       "    </tr>\n",
       "    <tr>\n",
       "      <th>5</th>\n",
       "      <td>DS</td>\n",
       "      <td>188.89</td>\n",
       "    </tr>\n",
       "    <tr>\n",
       "      <th>6</th>\n",
       "      <td>PC</td>\n",
       "      <td>142.44</td>\n",
       "    </tr>\n",
       "    <tr>\n",
       "      <th>7</th>\n",
       "      <td>PS4</td>\n",
       "      <td>141.09</td>\n",
       "    </tr>\n",
       "    <tr>\n",
       "      <th>8</th>\n",
       "      <td>GBA</td>\n",
       "      <td>75.25</td>\n",
       "    </tr>\n",
       "    <tr>\n",
       "      <th>9</th>\n",
       "      <td>PSP</td>\n",
       "      <td>66.68</td>\n",
       "    </tr>\n",
       "  </tbody>\n",
       "</table>\n",
       "</div>"
      ],
      "text/plain": [
       "  platform  eu_platform_sales\n",
       "0      PS2             339.29\n",
       "1      PS3             330.29\n",
       "2     X360             270.76\n",
       "3      Wii             262.21\n",
       "4       PS             213.61\n",
       "5       DS             188.89\n",
       "6       PC             142.44\n",
       "7      PS4             141.09\n",
       "8      GBA              75.25\n",
       "9      PSP              66.68"
      ]
     },
     "execution_count": 64,
     "metadata": {},
     "output_type": "execute_result"
    }
   ],
   "source": [
    "frame_list = []\n",
    "platform_list = games['platform'].unique()\n",
    "\n",
    "for platform in platform_list:\n",
    "    df = eu_platform_sales(platform)\n",
    "    frame_list.append(df)\n",
    "    \n",
    "platform_eu_sales = pd.concat(frame_list).reset_index()\n",
    "platform_eu_sales = platform_eu_sales.drop(['index'],axis=1)\n",
    "platform_eu_sales = platform_eu_sales.sort_values(by='eu_platform_sales', ascending=False).reset_index().drop(columns='index')\n",
    "platform_eu_sales.head(10)"
   ]
  },
  {
   "cell_type": "code",
   "execution_count": 65,
   "id": "84d6df45",
   "metadata": {
    "ExecuteTime": {
     "end_time": "2023-08-14T04:27:11.250676Z",
     "start_time": "2023-08-14T04:27:11.142909Z"
    }
   },
   "outputs": [
    {
     "data": {
      "image/png": "[encoded data removed]",
      "text/plain": [
       "<Figure size 800x400 with 1 Axes>"
      ]
     },
     "metadata": {},
     "output_type": "display_data"
    }
   ],
   "source": [
    "eu_top_5_platform = platform_eu_sales.iloc[:5]\n",
    "\n",
    "fig = plt.subplots(figsize =(8, 4))\n",
    "plt.barh(data = eu_top_5_platform, y='platform', width='eu_platform_sales')\n",
    "plt.title('Platform vs EU Platform Sales')\n",
    "plt.grid()\n",
    "plt.show()"
   ]
  },
  {
   "cell_type": "markdown",
   "id": "ef03739c",
   "metadata": {},
   "source": [
    "In EU region, PS2 reach the highest sales followed by PS3 that not far behind. Wii and PS sales placed 4th and 5th where these 2 platforms reach more than 250 and 200 millions sales. X360 placed number 3 reach more than 250 millions sales. "
   ]
  },
  {
   "cell_type": "markdown",
   "id": "34288c83",
   "metadata": {},
   "source": [
    " "
   ]
  },
  {
   "cell_type": "markdown",
   "id": "39e73d3d",
   "metadata": {},
   "source": [
    "### Top five genres in EU region"
   ]
  },
  {
   "cell_type": "code",
   "execution_count": 66,
   "id": "432da773",
   "metadata": {
    "ExecuteTime": {
     "end_time": "2023-08-14T04:27:11.265746Z",
     "start_time": "2023-08-14T04:27:11.251677Z"
    }
   },
   "outputs": [],
   "source": [
    "def eu_genres_sales(genre):\n",
    "    a = games.loc[games['genre'] == genre]\n",
    "    for row in a:\n",
    "        eu_genres_sales = a.eu_sales.sum()\n",
    "    \n",
    "    d = {'genre': [genre], 'eu_genres_sales': [eu_genres_sales]}\n",
    "    df = pd.DataFrame(data = d)\n",
    "    return (df)"
   ]
  },
  {
   "cell_type": "code",
   "execution_count": 67,
   "id": "e76769ab",
   "metadata": {
    "ExecuteTime": {
     "end_time": "2023-08-14T04:27:11.295861Z",
     "start_time": "2023-08-14T04:27:11.266747Z"
    }
   },
   "outputs": [
    {
     "data": {
      "text/html": [
       "<div>\n",
       "<style scoped>\n",
       "    .dataframe tbody tr th:only-of-type {\n",
       "        vertical-align: middle;\n",
       "    }\n",
       "\n",
       "    .dataframe tbody tr th {\n",
       "        vertical-align: top;\n",
       "    }\n",
       "\n",
       "    .dataframe thead th {\n",
       "        text-align: right;\n",
       "    }\n",
       "</style>\n",
       "<table border=\"1\" class=\"dataframe\">\n",
       "  <thead>\n",
       "    <tr style=\"text-align: right;\">\n",
       "      <th></th>\n",
       "      <th>genre</th>\n",
       "      <th>eu_genres_sales</th>\n",
       "    </tr>\n",
       "  </thead>\n",
       "  <tbody>\n",
       "    <tr>\n",
       "      <th>0</th>\n",
       "      <td>Action</td>\n",
       "      <td>519.13</td>\n",
       "    </tr>\n",
       "    <tr>\n",
       "      <th>1</th>\n",
       "      <td>Sports</td>\n",
       "      <td>376.79</td>\n",
       "    </tr>\n",
       "    <tr>\n",
       "      <th>2</th>\n",
       "      <td>Shooter</td>\n",
       "      <td>317.34</td>\n",
       "    </tr>\n",
       "    <tr>\n",
       "      <th>3</th>\n",
       "      <td>Racing</td>\n",
       "      <td>236.51</td>\n",
       "    </tr>\n",
       "    <tr>\n",
       "      <th>4</th>\n",
       "      <td>Misc</td>\n",
       "      <td>212.74</td>\n",
       "    </tr>\n",
       "    <tr>\n",
       "      <th>5</th>\n",
       "      <td>Platform</td>\n",
       "      <td>200.35</td>\n",
       "    </tr>\n",
       "    <tr>\n",
       "      <th>6</th>\n",
       "      <td>Role-Playing</td>\n",
       "      <td>188.71</td>\n",
       "    </tr>\n",
       "    <tr>\n",
       "      <th>7</th>\n",
       "      <td>Simulation</td>\n",
       "      <td>113.52</td>\n",
       "    </tr>\n",
       "    <tr>\n",
       "      <th>8</th>\n",
       "      <td>Fighting</td>\n",
       "      <td>100.33</td>\n",
       "    </tr>\n",
       "    <tr>\n",
       "      <th>9</th>\n",
       "      <td>Adventure</td>\n",
       "      <td>63.54</td>\n",
       "    </tr>\n",
       "    <tr>\n",
       "      <th>10</th>\n",
       "      <td>Puzzle</td>\n",
       "      <td>50.01</td>\n",
       "    </tr>\n",
       "    <tr>\n",
       "      <th>11</th>\n",
       "      <td>Strategy</td>\n",
       "      <td>45.17</td>\n",
       "    </tr>\n",
       "  </tbody>\n",
       "</table>\n",
       "</div>"
      ],
      "text/plain": [
       "           genre  eu_genres_sales\n",
       "0         Action           519.13\n",
       "1         Sports           376.79\n",
       "2        Shooter           317.34\n",
       "3         Racing           236.51\n",
       "4           Misc           212.74\n",
       "5       Platform           200.35\n",
       "6   Role-Playing           188.71\n",
       "7     Simulation           113.52\n",
       "8       Fighting           100.33\n",
       "9      Adventure            63.54\n",
       "10        Puzzle            50.01\n",
       "11      Strategy            45.17"
      ]
     },
     "execution_count": 67,
     "metadata": {},
     "output_type": "execute_result"
    }
   ],
   "source": [
    "frame_list = []\n",
    "genre_list = games['genre'].unique()\n",
    "\n",
    "for genre in genre_list:\n",
    "    df = eu_genres_sales(genre)\n",
    "    frame_list.append(df)\n",
    "    \n",
    "genre_eu_sales = pd.concat(frame_list).reset_index()\n",
    "genre_eu_sales = genre_eu_sales.drop(['index'],axis=1)\n",
    "genre_eu_sales = genre_eu_sales.sort_values(by='eu_genres_sales', ascending=False).reset_index().drop(columns='index')\n",
    "genre_eu_sales"
   ]
  },
  {
   "cell_type": "code",
   "execution_count": 68,
   "id": "963b6c3f",
   "metadata": {
    "ExecuteTime": {
     "end_time": "2023-08-14T04:27:11.389323Z",
     "start_time": "2023-08-14T04:27:11.296860Z"
    },
    "scrolled": false
   },
   "outputs": [
    {
     "data": {
      "image/png": "[encoded data removed]",
      "text/plain": [
       "<Figure size 800x400 with 1 Axes>"
      ]
     },
     "metadata": {},
     "output_type": "display_data"
    }
   ],
   "source": [
    "genre_eu_sales = genre_eu_sales.iloc[:5]\n",
    "\n",
    "fig = plt.subplots(figsize =(8, 4))\n",
    "plt.barh(data = genre_eu_sales, y='genre', width='eu_genres_sales')\n",
    "plt.title('Platform vs EU Genre Sales')\n",
    "plt.grid()\n",
    "plt.show()"
   ]
  },
  {
   "cell_type": "markdown",
   "id": "696cc465",
   "metadata": {},
   "source": [
    "In EU region, action genre reach the highest sales followed by sport genres that differ around 150 million sales. Racing and Misc sales placed 4th and 5th where these 2 platforms reach more than 200 millions sales. Shooter genre placed number 3 and  reach more than 300 millions sales. "
   ]
  },
  {
   "cell_type": "markdown",
   "id": "cb9054e0",
   "metadata": {},
   "source": [
    " "
   ]
  },
  {
   "cell_type": "markdown",
   "id": "2339ff38",
   "metadata": {},
   "source": [
    "### ESRB ratings "
   ]
  },
  {
   "cell_type": "code",
   "execution_count": 69,
   "id": "06157d6b",
   "metadata": {
    "ExecuteTime": {
     "end_time": "2023-08-14T04:27:11.405365Z",
     "start_time": "2023-08-14T04:27:11.390323Z"
    }
   },
   "outputs": [
    {
     "data": {
      "text/html": [
       "<div>\n",
       "<style scoped>\n",
       "    .dataframe tbody tr th:only-of-type {\n",
       "        vertical-align: middle;\n",
       "    }\n",
       "\n",
       "    .dataframe tbody tr th {\n",
       "        vertical-align: top;\n",
       "    }\n",
       "\n",
       "    .dataframe thead th {\n",
       "        text-align: right;\n",
       "    }\n",
       "</style>\n",
       "<table border=\"1\" class=\"dataframe\">\n",
       "  <thead>\n",
       "    <tr style=\"text-align: right;\">\n",
       "      <th></th>\n",
       "      <th>rating</th>\n",
       "      <th>total_eu_sales</th>\n",
       "    </tr>\n",
       "  </thead>\n",
       "  <tbody>\n",
       "    <tr>\n",
       "      <th>0</th>\n",
       "      <td>E</td>\n",
       "      <td>733.96</td>\n",
       "    </tr>\n",
       "    <tr>\n",
       "      <th>1</th>\n",
       "      <td>unknown</td>\n",
       "      <td>547.24</td>\n",
       "    </tr>\n",
       "    <tr>\n",
       "      <th>2</th>\n",
       "      <td>M</td>\n",
       "      <td>501.98</td>\n",
       "    </tr>\n",
       "    <tr>\n",
       "      <th>3</th>\n",
       "      <td>T</td>\n",
       "      <td>444.55</td>\n",
       "    </tr>\n",
       "    <tr>\n",
       "      <th>4</th>\n",
       "      <td>E10+</td>\n",
       "      <td>195.32</td>\n",
       "    </tr>\n",
       "    <tr>\n",
       "      <th>5</th>\n",
       "      <td>AO</td>\n",
       "      <td>0.61</td>\n",
       "    </tr>\n",
       "    <tr>\n",
       "      <th>6</th>\n",
       "      <td>K-A</td>\n",
       "      <td>0.29</td>\n",
       "    </tr>\n",
       "    <tr>\n",
       "      <th>7</th>\n",
       "      <td>EC</td>\n",
       "      <td>0.11</td>\n",
       "    </tr>\n",
       "    <tr>\n",
       "      <th>8</th>\n",
       "      <td>RP</td>\n",
       "      <td>0.08</td>\n",
       "    </tr>\n",
       "  </tbody>\n",
       "</table>\n",
       "</div>"
      ],
      "text/plain": [
       "    rating  total_eu_sales\n",
       "0        E          733.96\n",
       "1  unknown          547.24\n",
       "2        M          501.98\n",
       "3        T          444.55\n",
       "4     E10+          195.32\n",
       "5       AO            0.61\n",
       "6      K-A            0.29\n",
       "7       EC            0.11\n",
       "8       RP            0.08"
      ]
     },
     "execution_count": 69,
     "metadata": {},
     "output_type": "execute_result"
    }
   ],
   "source": [
    "eu_esrb_rating = pd.pivot_table(data = games, \n",
    "               index = 'rating',\n",
    "               values = 'eu_sales',\n",
    "               aggfunc= np.sum).reset_index()\n",
    "\n",
    "eu_esrb_rating.columns = ['rating','total_eu_sales']\n",
    "\n",
    "eu_esrb_rating.sort_values(by='total_eu_sales',ascending =False).reset_index().drop(columns='index')"
   ]
  },
  {
   "cell_type": "markdown",
   "id": "a3f6dacc",
   "metadata": {},
   "source": [
    "Same as NA region for ESRB rating, rating E still has the highest total sales in EU region. E mean everyone which all range of aged suitable to play these games and no restricted for not to buy these games."
   ]
  },
  {
   "cell_type": "markdown",
   "id": "526680ae",
   "metadata": {},
   "source": [
    " "
   ]
  },
  {
   "cell_type": "markdown",
   "id": "31e3e7db",
   "metadata": {},
   "source": [
    "## JP region"
   ]
  },
  {
   "cell_type": "markdown",
   "id": "c06f0845",
   "metadata": {},
   "source": [
    "### Top five platforms in JP region"
   ]
  },
  {
   "cell_type": "code",
   "execution_count": 70,
   "id": "8695c1e5",
   "metadata": {
    "ExecuteTime": {
     "end_time": "2023-08-14T04:27:11.421916Z",
     "start_time": "2023-08-14T04:27:11.406366Z"
    }
   },
   "outputs": [],
   "source": [
    "def jp_platform_sales(platform):\n",
    "    a = games.loc[games['platform'] == platform]\n",
    "    for row in a:\n",
    "        jp_platform_sales = a.jp_sales.sum()\n",
    "    \n",
    "    d = {'platform': [platform], 'jp_platform_sales': [jp_platform_sales]}\n",
    "    df = pd.DataFrame(data = d)\n",
    "    return (df)"
   ]
  },
  {
   "cell_type": "code",
   "execution_count": 71,
   "id": "f7eb10ce",
   "metadata": {
    "ExecuteTime": {
     "end_time": "2023-08-14T04:27:11.484340Z",
     "start_time": "2023-08-14T04:27:11.422954Z"
    }
   },
   "outputs": [
    {
     "data": {
      "text/html": [
       "<div>\n",
       "<style scoped>\n",
       "    .dataframe tbody tr th:only-of-type {\n",
       "        vertical-align: middle;\n",
       "    }\n",
       "\n",
       "    .dataframe tbody tr th {\n",
       "        vertical-align: top;\n",
       "    }\n",
       "\n",
       "    .dataframe thead th {\n",
       "        text-align: right;\n",
       "    }\n",
       "</style>\n",
       "<table border=\"1\" class=\"dataframe\">\n",
       "  <thead>\n",
       "    <tr style=\"text-align: right;\">\n",
       "      <th></th>\n",
       "      <th>platform</th>\n",
       "      <th>jp_platform_sales</th>\n",
       "    </tr>\n",
       "  </thead>\n",
       "  <tbody>\n",
       "    <tr>\n",
       "      <th>0</th>\n",
       "      <td>DS</td>\n",
       "      <td>175.57</td>\n",
       "    </tr>\n",
       "    <tr>\n",
       "      <th>1</th>\n",
       "      <td>PS</td>\n",
       "      <td>139.82</td>\n",
       "    </tr>\n",
       "    <tr>\n",
       "      <th>2</th>\n",
       "      <td>PS2</td>\n",
       "      <td>139.20</td>\n",
       "    </tr>\n",
       "    <tr>\n",
       "      <th>3</th>\n",
       "      <td>SNES</td>\n",
       "      <td>116.55</td>\n",
       "    </tr>\n",
       "    <tr>\n",
       "      <th>4</th>\n",
       "      <td>3DS</td>\n",
       "      <td>100.67</td>\n",
       "    </tr>\n",
       "    <tr>\n",
       "      <th>5</th>\n",
       "      <td>NES</td>\n",
       "      <td>98.65</td>\n",
       "    </tr>\n",
       "    <tr>\n",
       "      <th>6</th>\n",
       "      <td>GB</td>\n",
       "      <td>85.12</td>\n",
       "    </tr>\n",
       "    <tr>\n",
       "      <th>7</th>\n",
       "      <td>PS3</td>\n",
       "      <td>80.19</td>\n",
       "    </tr>\n",
       "    <tr>\n",
       "      <th>8</th>\n",
       "      <td>PSP</td>\n",
       "      <td>76.78</td>\n",
       "    </tr>\n",
       "    <tr>\n",
       "      <th>9</th>\n",
       "      <td>Wii</td>\n",
       "      <td>69.33</td>\n",
       "    </tr>\n",
       "  </tbody>\n",
       "</table>\n",
       "</div>"
      ],
      "text/plain": [
       "  platform  jp_platform_sales\n",
       "0       DS             175.57\n",
       "1       PS             139.82\n",
       "2      PS2             139.20\n",
       "3     SNES             116.55\n",
       "4      3DS             100.67\n",
       "5      NES              98.65\n",
       "6       GB              85.12\n",
       "7      PS3              80.19\n",
       "8      PSP              76.78\n",
       "9      Wii              69.33"
      ]
     },
     "execution_count": 71,
     "metadata": {},
     "output_type": "execute_result"
    }
   ],
   "source": [
    "frame_list = []\n",
    "platform_list = games['platform'].unique()\n",
    "\n",
    "for platform in platform_list:\n",
    "    df = jp_platform_sales(platform)\n",
    "    frame_list.append(df)\n",
    "    \n",
    "platform_jp_sales = pd.concat(frame_list).reset_index()\n",
    "platform_jp_sales = platform_jp_sales.drop(['index'],axis=1)\n",
    "platform_jp_sales = platform_jp_sales.sort_values(by='jp_platform_sales', ascending=False).reset_index().drop(columns='index')\n",
    "platform_jp_sales.head(10)"
   ]
  },
  {
   "cell_type": "code",
   "execution_count": 72,
   "id": "2573da8b",
   "metadata": {
    "ExecuteTime": {
     "end_time": "2023-08-14T04:27:11.593960Z",
     "start_time": "2023-08-14T04:27:11.485340Z"
    }
   },
   "outputs": [
    {
     "data": {
      "image/png": "[encoded data removed]",
      "text/plain": [
       "<Figure size 800x500 with 1 Axes>"
      ]
     },
     "metadata": {},
     "output_type": "display_data"
    }
   ],
   "source": [
    "jp_top_5_platform = platform_jp_sales.iloc[:5]\n",
    "\n",
    "fig = plt.subplots(figsize =(8, 5))\n",
    "plt.barh(data = jp_top_5_platform, y='platform', width='jp_platform_sales')\n",
    "plt.title('Platform vs JP Platform Sales')\n",
    "plt.grid()\n",
    "plt.show()"
   ]
  },
  {
   "cell_type": "markdown",
   "id": "9200a0db",
   "metadata": {},
   "source": [
    "In JP region, DS reach the highest sales followed by PS that not far behind. SNES and 3DS sales placed 4th and 5th where these 2 platforms reach more than 100 millions sales. PS2 placed number 3 reach more than 125 millions sales. "
   ]
  },
  {
   "cell_type": "markdown",
   "id": "f8ad4ba2",
   "metadata": {},
   "source": [
    " "
   ]
  },
  {
   "cell_type": "markdown",
   "id": "98e5721e",
   "metadata": {},
   "source": [
    "### Top five genres"
   ]
  },
  {
   "cell_type": "code",
   "execution_count": 73,
   "id": "7ede1091",
   "metadata": {
    "ExecuteTime": {
     "end_time": "2023-08-14T04:27:11.609267Z",
     "start_time": "2023-08-14T04:27:11.594960Z"
    }
   },
   "outputs": [],
   "source": [
    "def jp_genres_sales(genre):\n",
    "    a = games.loc[games['genre'] == genre]\n",
    "    for row in a:\n",
    "        jp_genres_sales = a.jp_sales.sum()\n",
    "    \n",
    "    d = {'genre': [genre], 'jp_genres_sales': [jp_genres_sales]}\n",
    "    df = pd.DataFrame(data = d)\n",
    "    return (df)"
   ]
  },
  {
   "cell_type": "code",
   "execution_count": 74,
   "id": "721100cf",
   "metadata": {
    "ExecuteTime": {
     "end_time": "2023-08-14T04:27:11.641325Z",
     "start_time": "2023-08-14T04:27:11.610268Z"
    },
    "scrolled": true
   },
   "outputs": [
    {
     "data": {
      "text/html": [
       "<div>\n",
       "<style scoped>\n",
       "    .dataframe tbody tr th:only-of-type {\n",
       "        vertical-align: middle;\n",
       "    }\n",
       "\n",
       "    .dataframe tbody tr th {\n",
       "        vertical-align: top;\n",
       "    }\n",
       "\n",
       "    .dataframe thead th {\n",
       "        text-align: right;\n",
       "    }\n",
       "</style>\n",
       "<table border=\"1\" class=\"dataframe\">\n",
       "  <thead>\n",
       "    <tr style=\"text-align: right;\">\n",
       "      <th></th>\n",
       "      <th>genre</th>\n",
       "      <th>jp_genres_sales</th>\n",
       "    </tr>\n",
       "  </thead>\n",
       "  <tbody>\n",
       "    <tr>\n",
       "      <th>0</th>\n",
       "      <td>Role-Playing</td>\n",
       "      <td>355.41</td>\n",
       "    </tr>\n",
       "    <tr>\n",
       "      <th>1</th>\n",
       "      <td>Action</td>\n",
       "      <td>161.43</td>\n",
       "    </tr>\n",
       "    <tr>\n",
       "      <th>2</th>\n",
       "      <td>Sports</td>\n",
       "      <td>135.54</td>\n",
       "    </tr>\n",
       "    <tr>\n",
       "      <th>3</th>\n",
       "      <td>Platform</td>\n",
       "      <td>130.83</td>\n",
       "    </tr>\n",
       "    <tr>\n",
       "      <th>4</th>\n",
       "      <td>Misc</td>\n",
       "      <td>108.11</td>\n",
       "    </tr>\n",
       "    <tr>\n",
       "      <th>5</th>\n",
       "      <td>Fighting</td>\n",
       "      <td>87.48</td>\n",
       "    </tr>\n",
       "    <tr>\n",
       "      <th>6</th>\n",
       "      <td>Simulation</td>\n",
       "      <td>63.80</td>\n",
       "    </tr>\n",
       "    <tr>\n",
       "      <th>7</th>\n",
       "      <td>Puzzle</td>\n",
       "      <td>57.31</td>\n",
       "    </tr>\n",
       "    <tr>\n",
       "      <th>8</th>\n",
       "      <td>Racing</td>\n",
       "      <td>56.71</td>\n",
       "    </tr>\n",
       "    <tr>\n",
       "      <th>9</th>\n",
       "      <td>Adventure</td>\n",
       "      <td>52.30</td>\n",
       "    </tr>\n",
       "    <tr>\n",
       "      <th>10</th>\n",
       "      <td>Strategy</td>\n",
       "      <td>49.66</td>\n",
       "    </tr>\n",
       "    <tr>\n",
       "      <th>11</th>\n",
       "      <td>Shooter</td>\n",
       "      <td>38.76</td>\n",
       "    </tr>\n",
       "  </tbody>\n",
       "</table>\n",
       "</div>"
      ],
      "text/plain": [
       "           genre  jp_genres_sales\n",
       "0   Role-Playing           355.41\n",
       "1         Action           161.43\n",
       "2         Sports           135.54\n",
       "3       Platform           130.83\n",
       "4           Misc           108.11\n",
       "5       Fighting            87.48\n",
       "6     Simulation            63.80\n",
       "7         Puzzle            57.31\n",
       "8         Racing            56.71\n",
       "9      Adventure            52.30\n",
       "10      Strategy            49.66\n",
       "11       Shooter            38.76"
      ]
     },
     "execution_count": 74,
     "metadata": {},
     "output_type": "execute_result"
    }
   ],
   "source": [
    "frame_list = []\n",
    "genre_list = games['genre'].unique()\n",
    "\n",
    "for genre in genre_list:\n",
    "    df = jp_genres_sales(genre)\n",
    "    frame_list.append(df)\n",
    "    \n",
    "genre_jp_sales = pd.concat(frame_list).reset_index()\n",
    "genre_jp_sales = genre_jp_sales.drop(['index'],axis=1)\n",
    "genre_jp_sales = genre_jp_sales.sort_values(by='jp_genres_sales', ascending=False).reset_index()\n",
    "genre_jp_sales = genre_jp_sales.drop(columns='index')\n",
    "genre_jp_sales"
   ]
  },
  {
   "cell_type": "code",
   "execution_count": 75,
   "id": "202e3648",
   "metadata": {
    "ExecuteTime": {
     "end_time": "2023-08-14T04:27:11.751532Z",
     "start_time": "2023-08-14T04:27:11.642325Z"
    },
    "scrolled": false
   },
   "outputs": [
    {
     "data": {
      "image/png": "[encoded data removed]",
      "text/plain": [
       "<Figure size 800x400 with 1 Axes>"
      ]
     },
     "metadata": {},
     "output_type": "display_data"
    }
   ],
   "source": [
    "genre_jp_sales = genre_jp_sales.iloc[:5]\n",
    "\n",
    "fig = plt.subplots(figsize =(8, 4))\n",
    "plt.barh(data = genre_jp_sales, y='genre', width='jp_genres_sales')\n",
    "plt.title('Platform vs JP Genre Sales')\n",
    "plt.grid()\n",
    "plt.show()"
   ]
  },
  {
   "cell_type": "markdown",
   "id": "83287883",
   "metadata": {},
   "source": [
    "In JP region, role-playing genre reach the highest sales followed by action genres that differ around 200 million sales. Platform and Misc sales placed 4th and 5th where these 2 platforms reach more than 100 millions sales. Sports genre placed number 3 and reach a little bit more that Platform genre. "
   ]
  },
  {
   "cell_type": "markdown",
   "id": "a2e41028",
   "metadata": {},
   "source": [
    " "
   ]
  },
  {
   "cell_type": "markdown",
   "id": "a04208d6",
   "metadata": {},
   "source": [
    "### ESRB ratings "
   ]
  },
  {
   "cell_type": "code",
   "execution_count": 76,
   "id": "8528367c",
   "metadata": {
    "ExecuteTime": {
     "end_time": "2023-08-14T04:27:11.766836Z",
     "start_time": "2023-08-14T04:27:11.752533Z"
    }
   },
   "outputs": [
    {
     "data": {
      "text/html": [
       "<div>\n",
       "<style scoped>\n",
       "    .dataframe tbody tr th:only-of-type {\n",
       "        vertical-align: middle;\n",
       "    }\n",
       "\n",
       "    .dataframe tbody tr th {\n",
       "        vertical-align: top;\n",
       "    }\n",
       "\n",
       "    .dataframe thead th {\n",
       "        text-align: right;\n",
       "    }\n",
       "</style>\n",
       "<table border=\"1\" class=\"dataframe\">\n",
       "  <thead>\n",
       "    <tr style=\"text-align: right;\">\n",
       "      <th></th>\n",
       "      <th>rating</th>\n",
       "      <th>total_jp_sales</th>\n",
       "    </tr>\n",
       "  </thead>\n",
       "  <tbody>\n",
       "    <tr>\n",
       "      <th>0</th>\n",
       "      <td>unknown</td>\n",
       "      <td>803.96</td>\n",
       "    </tr>\n",
       "    <tr>\n",
       "      <th>1</th>\n",
       "      <td>E</td>\n",
       "      <td>211.83</td>\n",
       "    </tr>\n",
       "    <tr>\n",
       "      <th>2</th>\n",
       "      <td>T</td>\n",
       "      <td>160.20</td>\n",
       "    </tr>\n",
       "    <tr>\n",
       "      <th>3</th>\n",
       "      <td>M</td>\n",
       "      <td>68.42</td>\n",
       "    </tr>\n",
       "    <tr>\n",
       "      <th>4</th>\n",
       "      <td>E10+</td>\n",
       "      <td>51.44</td>\n",
       "    </tr>\n",
       "    <tr>\n",
       "      <th>5</th>\n",
       "      <td>K-A</td>\n",
       "      <td>1.49</td>\n",
       "    </tr>\n",
       "    <tr>\n",
       "      <th>6</th>\n",
       "      <td>AO</td>\n",
       "      <td>0.00</td>\n",
       "    </tr>\n",
       "    <tr>\n",
       "      <th>7</th>\n",
       "      <td>EC</td>\n",
       "      <td>0.00</td>\n",
       "    </tr>\n",
       "    <tr>\n",
       "      <th>8</th>\n",
       "      <td>RP</td>\n",
       "      <td>0.00</td>\n",
       "    </tr>\n",
       "  </tbody>\n",
       "</table>\n",
       "</div>"
      ],
      "text/plain": [
       "    rating  total_jp_sales\n",
       "0  unknown          803.96\n",
       "1        E          211.83\n",
       "2        T          160.20\n",
       "3        M           68.42\n",
       "4     E10+           51.44\n",
       "5      K-A            1.49\n",
       "6       AO            0.00\n",
       "7       EC            0.00\n",
       "8       RP            0.00"
      ]
     },
     "execution_count": 76,
     "metadata": {},
     "output_type": "execute_result"
    }
   ],
   "source": [
    "jp_esrb_rating = pd.pivot_table(data = games, \n",
    "               index = 'rating',\n",
    "               values = 'jp_sales',\n",
    "               aggfunc= np.sum).reset_index()\n",
    "\n",
    "jp_esrb_rating.columns = ['rating','total_jp_sales']\n",
    "\n",
    "jp_esrb_rating = jp_esrb_rating.sort_values(by='total_jp_sales',ascending =False).reset_index().drop(columns='index')\n",
    "jp_esrb_rating"
   ]
  },
  {
   "cell_type": "markdown",
   "id": "86a1269c",
   "metadata": {},
   "source": [
    "In JP region, the unknown rating is placed first. Its hard to identify this rating, therefore, if we can see, E rating placed second. Therefore, we can conclude that E rating reach the highest sales in JP region. E rating also reach the highest sales for other regions too."
   ]
  },
  {
   "cell_type": "markdown",
   "id": "6e3b87f1",
   "metadata": {},
   "source": [
    " "
   ]
  },
  {
   "cell_type": "markdown",
   "id": "508028d5",
   "metadata": {},
   "source": [
    "# Test statistical hypotheses"
   ]
  },
  {
   "cell_type": "markdown",
   "id": "dbbcb0a0",
   "metadata": {},
   "source": [
    "There are two platforms: Xbox One and PC platforms from the sample from different groups. Test the hypothesis that average user ratings of the Xbox One and PC platforms are the same. For instance, maybe the average user ratings for the both platform are somewhat giving the same score. Let the significance level be 0.05 which most common significant level used."
   ]
  },
  {
   "cell_type": "code",
   "execution_count": 77,
   "id": "41dd87dc",
   "metadata": {
    "ExecuteTime": {
     "end_time": "2023-08-14T04:27:11.782370Z",
     "start_time": "2023-08-14T04:27:11.767836Z"
    }
   },
   "outputs": [
    {
     "name": "stdout",
     "output_type": "stream",
     "text": [
      "p-value: 5.54226617744934e-08\n",
      "We reject the null hypothesis\n"
     ]
    }
   ],
   "source": [
    "xone_filt = games[games['platform'] == 'XOne']\n",
    "xone_filt_score = xone_filt['user_score'] \n",
    "user_rating_xone = list (xone_filt_score)\n",
    "\n",
    "pc_filt = games[games['platform'] == 'PC']\n",
    "pc_filt_score = pc_filt['user_score'] \n",
    "user_rating_pc = list (pc_filt_score)\n",
    "                                    \n",
    "\n",
    "alpha = 0.05 # critical statistical significance level\n",
    "\n",
    "# test the hypothesis that the means of the two independent populations are equal\n",
    "results_plan = st.ttest_ind(user_rating_xone, user_rating_pc, equal_var = False) \n",
    "\n",
    "# p-value \n",
    "print('p-value:', results_plan.pvalue) \n",
    "\n",
    "if (results_plan.pvalue < alpha):\n",
    "    print(\"We reject the null hypothesis\")\n",
    "else:\n",
    "    print(\"We can't reject the null hypothesis\")"
   ]
  },
  {
   "cell_type": "markdown",
   "id": "2793a0b0",
   "metadata": {},
   "source": [
    "There are two genres: Action and Sports genres from the sample from different groups. Test the hypothesis that average user ratings for the Action and Sports genres are different. For instance, maybe the average user ratings for the both genres are somewhat giving the different score. Let the significance level be 0.05 which most common significant level used."
   ]
  },
  {
   "cell_type": "code",
   "execution_count": 78,
   "id": "6a0741c9",
   "metadata": {
    "ExecuteTime": {
     "end_time": "2023-08-14T04:27:11.797366Z",
     "start_time": "2023-08-14T04:27:11.783369Z"
    }
   },
   "outputs": [
    {
     "name": "stdout",
     "output_type": "stream",
     "text": [
      "p-value: 0.25413364206044836\n",
      "We reject the null hypothesis\n"
     ]
    }
   ],
   "source": [
    "action_filt = games[games['genre'] == 'Action']\n",
    "action_filt_score = action_filt['user_score'] \n",
    "user_rating_action = list (action_filt_score)\n",
    "\n",
    "sports_filt = games[games['genre'] == 'Sports']\n",
    "sports_filt_score = sports_filt['user_score'] \n",
    "user_rating_sports = list (sports_filt_score)\n",
    "                                    \n",
    "\n",
    "alpha = 0.05 # critical statistical significance level\n",
    "\n",
    "# test the hypothesis that the means of the two independent populations are equal\n",
    "results_plan = st.ttest_ind(user_rating_action, user_rating_sports, equal_var = False) \n",
    "\n",
    "# p-value \n",
    "print('p-value:', results_plan.pvalue) \n",
    "\n",
    "if (results_plan.pvalue > alpha):\n",
    "    print(\"We reject the null hypothesis\")\n",
    "else:\n",
    "    print(\"We can't reject the null hypothesis\")"
   ]
  },
  {
   "cell_type": "markdown",
   "id": "e0dcec0a",
   "metadata": {},
   "source": [
    "# Conclusions"
   ]
  },
  {
   "cell_type": "markdown",
   "id": "e3456f52",
   "metadata": {},
   "source": [
    "This project purpose is to identify patterns that determine whether a game succeeds or not to plan advertising campaigns in year 2017. At the beginning, after loading the data and all the libraries needed, sample data and general summary for games been printed and analyzed. Check the abnormally in the data such as data types,missing values, and columns name if in the lowercase or not. \n",
    "\n",
    "From the observation, here were the list that need to be fixed and the way to fix it:\n",
    "\n",
    "- The columns need to be in lowercase : Replace the column names with the same names but in lowercase\n",
    "- User_Score type should in float and not string : Due to tbd, the type cannot be change to float directly. Therefore, tbd change to missing values due to tbd meaning still unknown or cannot be determine yet. After change the tbd, the data type changed to float types.\n",
    "- Missing value (columns):\n",
    "  - Name and Genre : Due to the same row and no way to fill in, these rows been drop due to it will not effect the analysed. \n",
    "  - Year_of_Release : Fill in the year with year that have the same name and platforms.\n",
    "  - Rating : Fill in the rating with rating that have the same name. The rest will be fill with unknown due to unknown data.  \n",
    "  - Critic_Score and User_Score: Both score fill in method were used KNN Imputers. This method generate assumption data based on data in sales,user score and critic score. This data will be used to fill the missing value.\n",
    "- Then, enrich data by create columns for total sales for all the regions in one column.  \n",
    "- Lastly, check the duplicated and the missing values. After completed, the data was clean and ready to start analysed\n",
    "\n",
    "During analysing the data, firstly Look at how many games were released in different years and decide if the data for every period significant. Finding show that the trend for total games per year are increasing in 1980 until 2008 and then decreasing in 2009 to 2016. The total games from 2006 until 2011 was reached more than 1000 games and here show the year where tough competition between developers to promote their games to users.For forecasting games in 2017, the year of games should not be very outdated and can still be playing in 2017 too. Therefore, 5 years of games should be a decent years where the games still compatible and can be played in their platform. Games from 2012 to 2016 will be perfect games for advertisment in 2017\n",
    "  \n",
    "Next, lets look at how sales varied from platform to platform. Finding how that PS2 was the platform that collect the highest cumulative total sales which was 1255.77 millions USD in 12 years from 2000 to 2011. PS2 is the most succesful platform in the data. Finding show that a new platforms likely to appear around 2 to 3 years an an old platforms will fade generally at most around 15 years after released.\n",
    "\n",
    "Now, lets forcasting for 2017 in platform, critic and user score, and genre. \n",
    "\n",
    "In platform, 2 plot have been used. In lineplot, PS 4 was the highest sales in 2015 to 2016 and followed by XOne, 3DS, and PC. These 4 platform show declining in plot but still collected the highest total sales than others platforms. In boxplot, the top platform that can be considered popular in from 2012 to 2016 are PS4,PS3,XOne,X360 and 3DS. These 5 have very significant total sales from the rest of the platforms. From the top 5 platforms, the average sales for PS 4 is the highest and has a large difference margin from the rest. In conclusion, from these two plot, PS4,X0ne and 3DS is the best platform for game to be advertised in 2017. \n",
    "\n",
    "In forecasting the user and critic score, scatterplot has been used to analysed the data. From the scatterplot, critic score and users score shows that both give an influenced to the total sales. The correlation show 0.27 in critic score and 0.096 in user score vs total score. An assumption can be made here was the critic score show more reliable as an indicator toward the value for the games either its good or or not and will effect the sales in that year. In conclusion, games who have good critic score user score will be the best choice to advertise in 2017.\n",
    "\n",
    "In forecasting the genres, barplot has been used to analysed the data. From the barchart, platform has the highest sales followed by shooter. Adventure and strategy genre placed top 2 the lowest sales and not prefered to advertise in 2017. The rest genres varied between 0.4 to 0.6 millions sales. In conclusion, games who have platform and shooter genres will be the best choice for advertising in 2017.\n",
    "\n",
    "\n",
    "After forecast the general information for all region, lets find out the differences in top platforms, top genres, ESRB rating for each NA, EU, and JP region.\n",
    "\n",
    "Top 5 platforms (NA)            \n",
    "1) X360                                       \n",
    "2) PS2                                          \n",
    "3) Wii                                           \n",
    "4) PS3                                            \n",
    "5) DS                                                \n",
    "\n",
    "Top 5 platforms (EU)\n",
    "1) PS2\n",
    "2) PS3\n",
    "3) X360\n",
    "4) Wii\n",
    "5) PS\n",
    "\n",
    "Top 5 platforms (JP)\n",
    "1) DS\n",
    "2) PS\n",
    "3) PS2\n",
    "4) SNES\n",
    "5) 3DS\n",
    "\n",
    "Top 5 genres (NA)                     \n",
    "1) action                                     \n",
    "2) sport                                        \n",
    "3) Shooter                                   \n",
    "4) Platform                                  \n",
    "5) Misc                                           \n",
    "\n",
    "Top 5 genres (EU) \n",
    "1) action\n",
    "2) sport\n",
    "3) Shooter\n",
    "4) Racing\n",
    "5) Misc\n",
    "\n",
    "Top 5 genres (JP)\n",
    "1) role-playing\n",
    "2) action\n",
    "3) Sports\n",
    "4) Platform\n",
    "5) Misc\n",
    "\n",
    "ESRB rating for NA,EU, and JP, show that E rating get the highest total sales for all regions.\n",
    "\n",
    "In test statistical hypotheses, there are two hypotheses that need to be prove:\n",
    "- Average user ratings of the Xbox One and PC platforms are the same.\n",
    "- Average user ratings for the Action and Sports genres are different.\n",
    "\n",
    "Hypotheses: Average user ratings of the Xbox One and PC platforms are the same\n",
    "\n",
    "- Xbox One and PC platforms from the sample from different groups. Test the hypothesis that average user ratings of the Xbox One and PC platforms are the same. For instance, maybe the average user ratings for the both platform are somewhat giving the same score. Let the significance level be 0.05 which most common significant level used.\n",
    "     \n",
    "- From the t-test, the null hypotheses have been rejected. Therefore, average user ratings of the Xbox One and PC platforms are different. The reason maybe the user behavior for each region is different. \n",
    "     \n",
    "Hypotheses: Average user ratings for the Action and Sports genres are different.    \n",
    "    \n",
    "- Action and Sports genres from the sample from different groups. Test the hypothesis that average user ratings for the Action and Sports genres are different. For instance, maybe the average user ratings for the both genres are somewhat giving the different score. Let the significance level be 0.05 which most common significant level used.\n",
    "    \n",
    "- From the t-test, the null hypotheses have been rejected. Therefore, average user ratings for the Action and Sports genres are same. The reason maybe the user behavior is still same towards different genres. \n",
    "     \n",
    "In conclusion, for advertisment purposed in 2017, platforms choice should be PS4,X0ne and 3DS due to have higher total sales for every year after the platform released. Then, games who have good critic score user score would be the best choice to advertise in 2017. For genres, games who have platform, action, shooter, and sport genres will be the best choice for advertising in 2017."
   ]
  }
 ],
 "metadata": {
  "kernelspec": {
   "display_name": "Python 3 (ipykernel)",
   "language": "python",
   "name": "python3"
  },
  "language_info": {
   "codemirror_mode": {
    "name": "ipython",
    "version": 3
   },
   "file_extension": ".py",
   "mimetype": "text/x-python",
   "name": "python",
   "nbconvert_exporter": "python",
   "pygments_lexer": "ipython3",
   "version": "3.10.9"
  },
  "nbTranslate": {
   "displayLangs": [
    "*"
   ],
   "hotkey": "alt-t",
   "langInMainMenu": true,
   "sourceLang": "en",
   "targetLang": "fr",
   "useGoogleTranslate": true
  },
  "toc": {
   "base_numbering": 1,
   "nav_menu": {},
   "number_sections": true,
   "sideBar": true,
   "skip_h1_title": false,
   "title_cell": "Table of Contents",
   "title_sidebar": "Contents",
   "toc_cell": false,
   "toc_position": {
    "height": "calc(100% - 180px)",
    "left": "10px",
    "top": "150px",
    "width": "165px"
   },
   "toc_section_display": true,
   "toc_window_display": true
  }
 },
 "nbformat": 4,
 "nbformat_minor": 5
}
